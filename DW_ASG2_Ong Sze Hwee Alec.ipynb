{
 "cells": [
  {
   "cell_type": "markdown",
   "metadata": {},
   "source": [
    "<table class=\"table table-bordered\">\n",
    "    <tr>\n",
    "        <th style=\"width:250px\"><img src='https://www.np.edu.sg/PublishingImages/Pages/default/odp/ICT.jpg' style=\"width: 100%; height: 125px; \"></th>\n",
    "        <th style=\"text-align:center;\"><h1>Data Wrangling</h1><h2>Assignment 2 </h2><h3>Diploma in Data Science</h3></th>\n",
    "    </tr>\n",
    "</table>"
   ]
  },
  {
   "cell_type": "code",
   "execution_count": 1,
   "metadata": {},
   "outputs": [],
   "source": [
    "# import the packages\n",
    "import pandas as pd\n",
    "import numpy as np\n",
    "import sklearn\n",
    "import feature_engine\n",
    "import random\n",
    "import matplotlib.pyplot as plt\n",
    "import seaborn as sns\n",
    "from feature_engine.outliers import Winsorizer\n",
    "\n",
    "from feature_engine.outliers import Winsorizer\n",
    "# for Q-Q plots\n",
    "import scipy.stats as stats\n",
    "\n",
    "import matplotlib.pyplot as plt\n",
    "from matplotlib.gridspec import GridSpec\n",
    "# for linear model\n",
    "from sklearn import linear_model\n",
    "from sklearn.metrics import mean_absolute_error\n",
    "# for encoding with feature-engine\n",
    "from feature_engine.encoding import MeanEncoder\n",
    "# to split the datasets\n",
    "from sklearn.model_selection import train_test_split\n",
    "# for linear regression\n",
    "from sklearn.linear_model import LinearRegression\n",
    "\n",
    "#Transformers methods\n",
    "from sklearn.preprocessing import FunctionTransformer\n",
    "from feature_engine.transformation import LogTransformer\n",
    "\n",
    "from feature_engine.transformation import ReciprocalTransformer\n",
    "\n",
    "from feature_engine.transformation import PowerTransformer\n",
    "\n",
    "from feature_engine.transformation import BoxCoxTransformer\n",
    "\n",
    "from feature_engine.transformation import YeoJohnsonTransformer\n",
    "\n",
    "#Numerical Missing value\n",
    "\n",
    "# to impute missing data with sklearn\n",
    "from sklearn.impute import SimpleImputer\n",
    "\n",
    "# to impute missing data with feature-engine\n",
    "from feature_engine.imputation import MeanMedianImputer\n",
    "\n",
    "# to impute missing data with feature-engine\n",
    "from feature_engine.imputation import ArbitraryNumberImputer\n",
    "\n",
    "# to impute missing data with feature-engine\n",
    "from feature_engine.imputation import EndTailImputer\n",
    "\n",
    "# to impute missing data with feature-engine\n",
    "from feature_engine.imputation import RandomSampleImputer\n",
    "\n",
    "# to impute missing data with feature-engine\n",
    "from feature_engine.imputation import AddMissingIndicator\n",
    "\n",
    "#Categorical Missing value\n",
    "# to impute missing data with feature-engine\n",
    "import feature_engine.imputation as mdi\n",
    "\n",
    "# to impute missing data with feature-engine\n",
    "from feature_engine.imputation import CategoricalImputer\n",
    "\n",
    "from sklearn.pipeline import Pipeline\n",
    "import feature_engine.imputation as mdi\n",
    "\n",
    "#For categorical encoding\n",
    "# for one hot encoding with feature-engine\n",
    "from feature_engine.encoding import OneHotEncoder\n",
    "\n",
    "# for encoding with feature-engine\n",
    "from feature_engine.encoding import OrdinalEncoder\n",
    "\n",
    "# for encoding with feature-engine\n",
    "from feature_engine.encoding import MeanEncoder\n",
    "\n",
    "# for encoding using feature-engine\n",
    "from feature_engine.encoding import RareLabelEncoder\n",
    "\n",
    "# for discretization\n",
    "from sklearn.preprocessing import KBinsDiscretizer\n",
    "from feature_engine.discretisation import EqualWidthDiscretiser\n",
    "\n",
    "# for discretization\n",
    "from sklearn.preprocessing import KBinsDiscretizer\n",
    "from feature_engine.discretisation import EqualFrequencyDiscretiser\n",
    "\n",
    "# the scaler - for standardization\n",
    "from sklearn.preprocessing import StandardScaler\n",
    "\n",
    "# to encode with feature-engine\n",
    "from feature_engine.encoding import CountFrequencyEncoder\n",
    "\n",
    "# the scalers - for mean normalisation\n",
    "from sklearn.preprocessing import StandardScaler, RobustScaler\n",
    "\n",
    "# the scaler - for min-max scaling\n",
    "from sklearn.preprocessing import MinMaxScaler\n",
    "\n",
    "# the scaler - for MaxAbsScaling, with centering\n",
    "from sklearn.preprocessing import MaxAbsScaler, StandardScaler\n",
    "\n",
    "# the scaler - for robust scaling\n",
    "from sklearn.preprocessing import RobustScaler"
   ]
  },
  {
   "cell_type": "markdown",
   "metadata": {},
   "source": [
    "# Table of contents <a name=\"top\"></a>\n",
    "### [Introduction with Value Based Problem Statement](#intro)\n",
    "\n",
    "1. [Load and Explore the Data](#step1)\n",
    "\n",
    "    1.1 [Constructor_results_mod](#step1.1)\n",
    "    \n",
    "    1.2 [Constructor_Standings_Mod](#step1.2)\n",
    "    \n",
    "    1.3 [Constructors_Mod](#step1.3)\n",
    "    \n",
    "    1.4 [Results](#step1.4)\n",
    "\n",
    "### [Problem Formulation](#problem)\n",
    "    \n",
    "\n",
    "\n",
    "2. [Subsetting, Filtering](#step2)\n",
    "\n",
    "    2.1 [Data_Constructor_Results](#step2.1)\n",
    "    \n",
    "    2.2 [Constructor Standings](#step2.2)\n",
    "    \n",
    "    2.3 [Constructors](#step2.3)\n",
    "    \n",
    "    2.4 [Results](#step2.4)\n",
    "    \n",
    "    2.5 [Merging and Joining](#step2.5)\n",
    "    \n",
    "    \n",
    "3. [Merged Data exploration and cleaning](#step3)\n",
    "    \n",
    "      3.1 [To determine the categorical variables](#step3.1)\n",
    "      \n",
    "      3.2 [To determine the numerical variables](#step3.2)\n",
    "      \n",
    "      3.3 [Cleaning of merged data columns](#step3.3)\n",
    "      \n",
    "      3.4 [Fixing extremes values in \"PositionOrder\" columns](#step3.4)\n",
    "      \n",
    "      \n",
    "4. [Changing of roles for variables](#step4)\n",
    "      \n",
    "      4.1 [From categorical to numerical](#step4.1)\n",
    "      \n",
    "      4.2 [From numerical to categorical](#step4.2)\n",
    "      \n",
    "      4.3 [Describe the numerical values and find unique variables](#step4.3)\n",
    "      \n",
    "### [Data Wrangling on multiple table](#wrangling)\n",
    "\n",
    "\n",
    "5. [Indentify Outliers for numerical variables](#step5)\n",
    "\n",
    "   5.1 [Diagnostic plot for Grid](#step5.1)\n",
    "    \n",
    "   5.2 [Diagnostic plot for Milleseconds](#step5.2)\n",
    "   \n",
    "   5.3 [Diagnostic plot for PositionOrder](#step5.3)\n",
    "    \n",
    "   5.4 [Diagnostic plot for Fastest Lap Time](#step5.4)\n",
    "    \n",
    "   5.5 [Diagnostic plot for Fastest Lap Speed](#step5.5)\n",
    "    \n",
    "   5.6 [Diagnostic plot for Points](#step5.6)\n",
    "    \n",
    "   5.7 [Diagnostic plot for Wins](#step5.7)\n",
    "   \n",
    "    \n",
    "6.  [Dealing with Outliers by capping](#step6)\n",
    "\n",
    "    6.1 [Before Capping](#step6.1)\n",
    "   \n",
    "    6.2 [After Capping](#step6.2)\n",
    "    \n",
    "    \n",
    "7. [Numerical Variables Transformations](#step7)\n",
    "\n",
    "    7.1 [Log Transformation](#step7.1)\n",
    "    \n",
    "    7.2 [Reciprocal Transformation](#step7.2)\n",
    "    \n",
    "    7.3 [Cube Root Transformation](#step7.3)\n",
    "    \n",
    "    7.4 [Power Transformation](#step7.4)\n",
    "    \n",
    "    7.5 [Box Cox Transformation](#step7.5)\n",
    "    \n",
    "    7.6 [Yeo Johnson Transformation](#step7.6)\n",
    "    \n",
    "    7.7 [Final Chosen Transformations](#step7.7)\n",
    "    \n",
    "\n",
    "8. [Train Test Split](#step8)  \n",
    "\n",
    "    \n",
    "9. [Numerical variable imputation](#step9)\n",
    "\n",
    "    9.1 [Mean Median imputation](#step9.1)\n",
    "\n",
    "    9.2 [Arbitrary value of -1 replacement](#step9.2)\n",
    "\n",
    "    9.3 [Replacing missing values by a value at the end of the distribution](#step9.3)\n",
    "\n",
    "    9.4 [Add Missing indicator imputation](#step9.4)\n",
    "\n",
    "    9.5 [Random sample imputation](#step9.5)\n",
    "    \n",
    "    \n",
    "10. [Categorical Data Encoding](#step10)\n",
    "\n",
    "    10.1 [One Hot Encoding](#step10.1)\n",
    "    \n",
    "    10.2 [One Hot Encoding for Top Categories](#step10.2)\n",
    "    \n",
    "    10.3 [Replacing categories with ordinal numbers](#step10.3)\n",
    "    \n",
    "    10.4 [Replacing categories with counts or frequency of observations](#step10.4)\n",
    "    \n",
    "    10.5 [Ordered Ordinal Encoding](#step10.5)\n",
    "    \n",
    "    10.6 [Target Mean Encoding](#step10.6)\n",
    "    \n",
    "    10.7 [Rare Category Encoder](#step10.7)\n",
    "    \n",
    "\n",
    "11. [Variable Discretization /Binning](#step11)\n",
    "\n",
    "    11.1 [Equal Width Discretization (Chosen)](#step11.1)\n",
    "    \n",
    "    11.2 [Equal Frequency Discretization](#step11.2)\n",
    "    \n",
    "    11.3 [Discretization plus categorical encoding](#step11.3)\n",
    "    \n",
    "    11.4 [Arbitary interval discretization](#step11.4)\n",
    "    \n",
    "    11.4.1 [Milliseconds](#step11.5)\n",
    "    \n",
    "    11.4.2 [Fastest Lap Time](#step11.6)\n",
    "    \n",
    "    11.4.3 [Fastest Lap Speed](#step11.7)\n",
    "    \n",
    "    11.4.4 [Points](#step11.8)\n",
    "    \n",
    "    11.4.5 [Wins](#step11.9)\n",
    "    \n",
    "    \n",
    "12. [Feature Engineer (Scaling)](#step12)\n",
    "\n",
    "    12.1 [Standardization](#step12.1)\n",
    "    \n",
    "    12.2 [Mean Normalization](#step12.2)\n",
    "    \n",
    "    12.3 [Min-Max Scaling](#step12.3)\n",
    "    \n",
    "    12.4 [Maximum Absolute Scaling](#step12.4)\n",
    "    \n",
    "    12.5 [Robust Scaling](#step12.5)\n",
    "    \n",
    "    12.6 [Before and After Scaling Comparison](#step12.6)\n",
    "    \n",
    "### [Data Cleansing and Transformation](#clean)\n",
    "    \n",
    "\n",
    "13. [Linear Regression Model](#step13)\n",
    "\n",
    "\n",
    "14. [Naive Baseline Model](#step14)\n",
    "\n",
    "### [Machine Learning Model](#mlm)\n",
    "\n",
    "### [Summary and Further Improvements](#sum)\n",
    "\n",
    "\n"
   ]
  },
  {
   "cell_type": "markdown",
   "metadata": {},
   "source": [
    "# Introduction with Value Based Problem Statement<a name=\"intro\"></a>\n",
    "<a href=\"#top\">Back to Table of contents</a>\n",
    "#### The purpose of this report is to perform data wrangling, preparation and problem solving using real-world databases given to us \"f1_db_csv\" which consists of 13 csv files each having their own properties and variables according to their headers. \n",
    "\n",
    "#### This report is to investigate the databases given and use it create a model in solving a prediction problem based on the F1 data given while keeping it as a regression or classification problem. With the common theme centred around constructors. However, As the database does not give exact results in which constructor is performing the best. I can limit my data to predict the best performers based on logically relatable variables in which I would be exploring in the related tables that have \"Constructor_ID\" in it.\n",
    "\n",
    "#### Furthermore, I will be using machine learning naïve baseline modelling as well as linear regression modelling to show how robust my created data model is while also showing the variables that correlations towards the target variable (positionOrder) when predicting my formulated problem.\n",
    "\n",
    "#### In conclusion, this report is to build a model capable of predicting my prediction problem while comparing it to a naive baseline model to show how much better it is.\n",
    "\n",
    "### Common data variable\n",
    "#### \"ConstructorsID\" would be the common variables that joints the tables together while the \"position\" would be what it is used to verify the classified column.\n",
    "\n",
    "### Table involved\n",
    "#### Constructor_results_mod.csv\n",
    "#### Constructor_standings_mod.csv\n",
    "#### Constructors_mod.csv\n",
    "#### Results_mod.csv\n",
    "\n",
    "### Regression Problem\n",
    "#### It is to predict a continuous quantity; it is often used to predict a target variable and would come out with a value that shows how much quantity is predicted from the event. It usually has dimension to it such as size and amounts to relate back to the event that it predicts such as \"To predict how many apples will be sold tomorrow\".\n",
    "\n",
    "### Classification Problem\n",
    "####  It is to predict a given event that can be classified as binary, meaning \"Yes\" or \"No\" which would result in getting the probability of one of the “Yes” or “No” event occurring. This is usually done by having a classification accuracy model based on what the user is prediction, in the case of \"Yes\" and \"No\", the user can predict how many \"Yes\" events occur by total events occurred. Prediction accuracy: (\"Yes\" event / total events) * 100.\n",
    "\n"
   ]
  },
  {
   "cell_type": "markdown",
   "metadata": {},
   "source": [
    "# 1.Load and Explore the Data<a name=\"step1\"></a>\n",
    "<a href=\"#top\">Back to Table of contents</a>\n",
    "#### Firstly, we have to explore and understand the data, this can be done by going through each dataset that contains \"constructor_id\" as it is related to our prediction problem main target (Constructors). We should also check the data type, missing datas and the characteristic of each datasets given before merging them."
   ]
  },
  {
   "cell_type": "markdown",
   "metadata": {},
   "source": [
    "## 1.1 Constructor_results_mod<a name=\"step1.1\"></a>"
   ]
  },
  {
   "cell_type": "code",
   "execution_count": 2,
   "metadata": {
    "scrolled": true
   },
   "outputs": [
    {
     "data": {
      "text/html": [
       "<div>\n",
       "<style scoped>\n",
       "    .dataframe tbody tr th:only-of-type {\n",
       "        vertical-align: middle;\n",
       "    }\n",
       "\n",
       "    .dataframe tbody tr th {\n",
       "        vertical-align: top;\n",
       "    }\n",
       "\n",
       "    .dataframe thead th {\n",
       "        text-align: right;\n",
       "    }\n",
       "</style>\n",
       "<table border=\"1\" class=\"dataframe\">\n",
       "  <thead>\n",
       "    <tr style=\"text-align: right;\">\n",
       "      <th></th>\n",
       "      <th>constructorResultsId</th>\n",
       "      <th>raceId</th>\n",
       "      <th>constructorId</th>\n",
       "      <th>points</th>\n",
       "      <th>status</th>\n",
       "    </tr>\n",
       "  </thead>\n",
       "  <tbody>\n",
       "    <tr>\n",
       "      <th>0</th>\n",
       "      <td>1</td>\n",
       "      <td>18</td>\n",
       "      <td>1</td>\n",
       "      <td>14.0</td>\n",
       "      <td>\\N</td>\n",
       "    </tr>\n",
       "    <tr>\n",
       "      <th>1</th>\n",
       "      <td>2</td>\n",
       "      <td>18</td>\n",
       "      <td>2</td>\n",
       "      <td>8.0</td>\n",
       "      <td>\\N</td>\n",
       "    </tr>\n",
       "    <tr>\n",
       "      <th>2</th>\n",
       "      <td>3</td>\n",
       "      <td>18</td>\n",
       "      <td>3</td>\n",
       "      <td>9.0</td>\n",
       "      <td>\\N</td>\n",
       "    </tr>\n",
       "    <tr>\n",
       "      <th>3</th>\n",
       "      <td>4</td>\n",
       "      <td>18</td>\n",
       "      <td>4</td>\n",
       "      <td>5.0</td>\n",
       "      <td>\\N</td>\n",
       "    </tr>\n",
       "    <tr>\n",
       "      <th>4</th>\n",
       "      <td>5</td>\n",
       "      <td>18</td>\n",
       "      <td>5</td>\n",
       "      <td>2.0</td>\n",
       "      <td>\\N</td>\n",
       "    </tr>\n",
       "  </tbody>\n",
       "</table>\n",
       "</div>"
      ],
      "text/plain": [
       "   constructorResultsId  raceId  constructorId  points status\n",
       "0                     1      18              1    14.0     \\N\n",
       "1                     2      18              2     8.0     \\N\n",
       "2                     3      18              3     9.0     \\N\n",
       "3                     4      18              4     5.0     \\N\n",
       "4                     5      18              5     2.0     \\N"
      ]
     },
     "execution_count": 2,
     "metadata": {},
     "output_type": "execute_result"
    }
   ],
   "source": [
    "data_constructor_results = pd.read_csv('datasets/f1db_csv_mod/Constructor_results_mod.csv')\n",
    "data_constructor_results.head()"
   ]
  },
  {
   "cell_type": "code",
   "execution_count": 3,
   "metadata": {},
   "outputs": [
    {
     "name": "stdout",
     "output_type": "stream",
     "text": [
      "<class 'pandas.core.frame.DataFrame'>\n",
      "RangeIndex: 11950 entries, 0 to 11949\n",
      "Data columns (total 5 columns):\n",
      " #   Column                Non-Null Count  Dtype  \n",
      "---  ------                --------------  -----  \n",
      " 0   constructorResultsId  11950 non-null  int64  \n",
      " 1   raceId                11950 non-null  int64  \n",
      " 2   constructorId         11950 non-null  int64  \n",
      " 3   points                11950 non-null  float64\n",
      " 4   status                11950 non-null  object \n",
      "dtypes: float64(1), int64(3), object(1)\n",
      "memory usage: 466.9+ KB\n"
     ]
    }
   ],
   "source": [
    "data_constructor_results.info()"
   ]
  },
  {
   "cell_type": "code",
   "execution_count": 4,
   "metadata": {},
   "outputs": [
    {
     "data": {
      "text/plain": [
       "status    0.0\n",
       "dtype: float64"
      ]
     },
     "execution_count": 4,
     "metadata": {},
     "output_type": "execute_result"
    }
   ],
   "source": [
    "#finding the categorical variables while showing missing vlaues\n",
    "cat_cols = [c for c in data_constructor_results.columns if data_constructor_results[c].dtype=='O']\n",
    "data_constructor_results[cat_cols].isnull().mean().sort_values()"
   ]
  },
  {
   "cell_type": "code",
   "execution_count": 5,
   "metadata": {},
   "outputs": [
    {
     "data": {
      "text/plain": [
       "constructorResultsId    0.0\n",
       "raceId                  0.0\n",
       "constructorId           0.0\n",
       "points                  0.0\n",
       "dtype: float64"
      ]
     },
     "execution_count": 5,
     "metadata": {},
     "output_type": "execute_result"
    }
   ],
   "source": [
    "#finding the numerical variables while showing missing vlaues\n",
    "num_cols = [c for c in data_constructor_results.columns if data_constructor_results[c].dtype!='O']\n",
    "data_constructor_results[num_cols].isnull().mean().sort_values()"
   ]
  },
  {
   "cell_type": "code",
   "execution_count": 6,
   "metadata": {},
   "outputs": [
    {
     "data": {
      "text/html": [
       "<div>\n",
       "<style scoped>\n",
       "    .dataframe tbody tr th:only-of-type {\n",
       "        vertical-align: middle;\n",
       "    }\n",
       "\n",
       "    .dataframe tbody tr th {\n",
       "        vertical-align: top;\n",
       "    }\n",
       "\n",
       "    .dataframe thead th {\n",
       "        text-align: right;\n",
       "    }\n",
       "</style>\n",
       "<table border=\"1\" class=\"dataframe\">\n",
       "  <thead>\n",
       "    <tr style=\"text-align: right;\">\n",
       "      <th></th>\n",
       "      <th>constructorResultsId</th>\n",
       "      <th>raceId</th>\n",
       "      <th>constructorId</th>\n",
       "      <th>points</th>\n",
       "    </tr>\n",
       "  </thead>\n",
       "  <tbody>\n",
       "    <tr>\n",
       "      <th>count</th>\n",
       "      <td>11950.000000</td>\n",
       "      <td>11950.000000</td>\n",
       "      <td>11950.000000</td>\n",
       "      <td>11950.000000</td>\n",
       "    </tr>\n",
       "    <tr>\n",
       "      <th>mean</th>\n",
       "      <td>7951.200753</td>\n",
       "      <td>495.265690</td>\n",
       "      <td>43.215230</td>\n",
       "      <td>3.661757</td>\n",
       "    </tr>\n",
       "    <tr>\n",
       "      <th>std</th>\n",
       "      <td>5452.516726</td>\n",
       "      <td>290.480497</td>\n",
       "      <td>56.084031</td>\n",
       "      <td>7.203368</td>\n",
       "    </tr>\n",
       "    <tr>\n",
       "      <th>min</th>\n",
       "      <td>1.000000</td>\n",
       "      <td>1.000000</td>\n",
       "      <td>1.000000</td>\n",
       "      <td>0.000000</td>\n",
       "    </tr>\n",
       "    <tr>\n",
       "      <th>25%</th>\n",
       "      <td>2988.250000</td>\n",
       "      <td>274.000000</td>\n",
       "      <td>6.000000</td>\n",
       "      <td>0.000000</td>\n",
       "    </tr>\n",
       "    <tr>\n",
       "      <th>50%</th>\n",
       "      <td>5975.500000</td>\n",
       "      <td>467.000000</td>\n",
       "      <td>22.000000</td>\n",
       "      <td>0.000000</td>\n",
       "    </tr>\n",
       "    <tr>\n",
       "      <th>75%</th>\n",
       "      <td>13428.750000</td>\n",
       "      <td>694.000000</td>\n",
       "      <td>51.000000</td>\n",
       "      <td>4.000000</td>\n",
       "    </tr>\n",
       "    <tr>\n",
       "      <th>max</th>\n",
       "      <td>16449.000000</td>\n",
       "      <td>1073.000000</td>\n",
       "      <td>214.000000</td>\n",
       "      <td>66.000000</td>\n",
       "    </tr>\n",
       "  </tbody>\n",
       "</table>\n",
       "</div>"
      ],
      "text/plain": [
       "       constructorResultsId        raceId  constructorId        points\n",
       "count          11950.000000  11950.000000   11950.000000  11950.000000\n",
       "mean            7951.200753    495.265690      43.215230      3.661757\n",
       "std             5452.516726    290.480497      56.084031      7.203368\n",
       "min                1.000000      1.000000       1.000000      0.000000\n",
       "25%             2988.250000    274.000000       6.000000      0.000000\n",
       "50%             5975.500000    467.000000      22.000000      0.000000\n",
       "75%            13428.750000    694.000000      51.000000      4.000000\n",
       "max            16449.000000   1073.000000     214.000000     66.000000"
      ]
     },
     "execution_count": 6,
     "metadata": {},
     "output_type": "execute_result"
    }
   ],
   "source": [
    "data_constructor_results.describe() #We can see that not all the counts are the same so there are some missing values, and their ranges"
   ]
  },
  {
   "cell_type": "code",
   "execution_count": 7,
   "metadata": {},
   "outputs": [
    {
     "data": {
      "text/plain": [
       "constructorResultsId    11950\n",
       "raceId                    994\n",
       "constructorId             175\n",
       "points                     53\n",
       "status                      2\n",
       "dtype: int64"
      ]
     },
     "execution_count": 7,
     "metadata": {},
     "output_type": "execute_result"
    }
   ],
   "source": [
    "data_constructor_results.nunique() #The number of unique names and values for each values"
   ]
  },
  {
   "cell_type": "markdown",
   "metadata": {},
   "source": [
    "#### After briefly exploring the constructor_results_mods dataset, we can see that \"status\" is a categorical variable with 2 unique labels \"D\" meaning disqualified or \"\\N\" being null. \n",
    "#### For the other numerical variables, It also tells us that there are 175 unique constructors that participated in 994 races and 53 different number of points were given. Furthermore, my exploration also shows that there are no missing datas in the constructor_results_mods dataset."
   ]
  },
  {
   "cell_type": "markdown",
   "metadata": {},
   "source": [
    "## 1.2 Constructor_Standings_Mod<a name=\"step1.2\"></a>"
   ]
  },
  {
   "cell_type": "code",
   "execution_count": 8,
   "metadata": {},
   "outputs": [
    {
     "data": {
      "text/html": [
       "<div>\n",
       "<style scoped>\n",
       "    .dataframe tbody tr th:only-of-type {\n",
       "        vertical-align: middle;\n",
       "    }\n",
       "\n",
       "    .dataframe tbody tr th {\n",
       "        vertical-align: top;\n",
       "    }\n",
       "\n",
       "    .dataframe thead th {\n",
       "        text-align: right;\n",
       "    }\n",
       "</style>\n",
       "<table border=\"1\" class=\"dataframe\">\n",
       "  <thead>\n",
       "    <tr style=\"text-align: right;\">\n",
       "      <th></th>\n",
       "      <th>constructorStandingsId</th>\n",
       "      <th>raceId</th>\n",
       "      <th>constructorId</th>\n",
       "      <th>points</th>\n",
       "      <th>position</th>\n",
       "      <th>positionText</th>\n",
       "      <th>wins</th>\n",
       "    </tr>\n",
       "  </thead>\n",
       "  <tbody>\n",
       "    <tr>\n",
       "      <th>0</th>\n",
       "      <td>1</td>\n",
       "      <td>18</td>\n",
       "      <td>1</td>\n",
       "      <td>14.0</td>\n",
       "      <td>1</td>\n",
       "      <td>1</td>\n",
       "      <td>1</td>\n",
       "    </tr>\n",
       "    <tr>\n",
       "      <th>1</th>\n",
       "      <td>2</td>\n",
       "      <td>18</td>\n",
       "      <td>2</td>\n",
       "      <td>8.0</td>\n",
       "      <td>3</td>\n",
       "      <td>3</td>\n",
       "      <td>0</td>\n",
       "    </tr>\n",
       "    <tr>\n",
       "      <th>2</th>\n",
       "      <td>3</td>\n",
       "      <td>18</td>\n",
       "      <td>3</td>\n",
       "      <td>9.0</td>\n",
       "      <td>2</td>\n",
       "      <td>2</td>\n",
       "      <td>0</td>\n",
       "    </tr>\n",
       "    <tr>\n",
       "      <th>3</th>\n",
       "      <td>4</td>\n",
       "      <td>18</td>\n",
       "      <td>4</td>\n",
       "      <td>5.0</td>\n",
       "      <td>4</td>\n",
       "      <td>4</td>\n",
       "      <td>0</td>\n",
       "    </tr>\n",
       "    <tr>\n",
       "      <th>4</th>\n",
       "      <td>5</td>\n",
       "      <td>18</td>\n",
       "      <td>5</td>\n",
       "      <td>2.0</td>\n",
       "      <td>5</td>\n",
       "      <td>5</td>\n",
       "      <td>0</td>\n",
       "    </tr>\n",
       "  </tbody>\n",
       "</table>\n",
       "</div>"
      ],
      "text/plain": [
       "   constructorStandingsId  raceId  constructorId  points  position  \\\n",
       "0                       1      18              1    14.0         1   \n",
       "1                       2      18              2     8.0         3   \n",
       "2                       3      18              3     9.0         2   \n",
       "3                       4      18              4     5.0         4   \n",
       "4                       5      18              5     2.0         5   \n",
       "\n",
       "  positionText  wins  \n",
       "0            1     1  \n",
       "1            3     0  \n",
       "2            2     0  \n",
       "3            4     0  \n",
       "4            5     0  "
      ]
     },
     "execution_count": 8,
     "metadata": {},
     "output_type": "execute_result"
    }
   ],
   "source": [
    "Constructor_Standings = pd.read_csv('datasets/f1db_csv_mod/Constructor_standings_mod.csv')\n",
    "Constructor_Standings.head()"
   ]
  },
  {
   "cell_type": "code",
   "execution_count": 9,
   "metadata": {},
   "outputs": [
    {
     "name": "stdout",
     "output_type": "stream",
     "text": [
      "<class 'pandas.core.frame.DataFrame'>\n",
      "RangeIndex: 12716 entries, 0 to 12715\n",
      "Data columns (total 7 columns):\n",
      " #   Column                  Non-Null Count  Dtype  \n",
      "---  ------                  --------------  -----  \n",
      " 0   constructorStandingsId  12716 non-null  int64  \n",
      " 1   raceId                  12716 non-null  int64  \n",
      " 2   constructorId           12716 non-null  int64  \n",
      " 3   points                  12716 non-null  float64\n",
      " 4   position                12716 non-null  int64  \n",
      " 5   positionText            12716 non-null  object \n",
      " 6   wins                    12716 non-null  int64  \n",
      "dtypes: float64(1), int64(5), object(1)\n",
      "memory usage: 695.5+ KB\n"
     ]
    }
   ],
   "source": [
    "Constructor_Standings.info()"
   ]
  },
  {
   "cell_type": "code",
   "execution_count": 10,
   "metadata": {},
   "outputs": [
    {
     "data": {
      "text/plain": [
       "positionText    0.0\n",
       "dtype: float64"
      ]
     },
     "execution_count": 10,
     "metadata": {},
     "output_type": "execute_result"
    }
   ],
   "source": [
    "#finding the categorical variables while showing missing vlaues\n",
    "cat_cols = [c for c in Constructor_Standings.columns if Constructor_Standings[c].dtype=='O']\n",
    "Constructor_Standings[cat_cols].isnull().mean().sort_values()"
   ]
  },
  {
   "cell_type": "code",
   "execution_count": 11,
   "metadata": {},
   "outputs": [
    {
     "data": {
      "text/plain": [
       "constructorStandingsId    0.0\n",
       "raceId                    0.0\n",
       "constructorId             0.0\n",
       "points                    0.0\n",
       "position                  0.0\n",
       "wins                      0.0\n",
       "dtype: float64"
      ]
     },
     "execution_count": 11,
     "metadata": {},
     "output_type": "execute_result"
    }
   ],
   "source": [
    "#finding the numerical variables while showing missing vlaues\n",
    "num_cols = [c for c in Constructor_Standings.columns if Constructor_Standings[c].dtype!='O']\n",
    "Constructor_Standings[num_cols].isnull().mean().sort_values()"
   ]
  },
  {
   "cell_type": "code",
   "execution_count": 12,
   "metadata": {},
   "outputs": [
    {
     "data": {
      "text/html": [
       "<div>\n",
       "<style scoped>\n",
       "    .dataframe tbody tr th:only-of-type {\n",
       "        vertical-align: middle;\n",
       "    }\n",
       "\n",
       "    .dataframe tbody tr th {\n",
       "        vertical-align: top;\n",
       "    }\n",
       "\n",
       "    .dataframe thead th {\n",
       "        text-align: right;\n",
       "    }\n",
       "</style>\n",
       "<table border=\"1\" class=\"dataframe\">\n",
       "  <thead>\n",
       "    <tr style=\"text-align: right;\">\n",
       "      <th></th>\n",
       "      <th>constructorStandingsId</th>\n",
       "      <th>raceId</th>\n",
       "      <th>constructorId</th>\n",
       "      <th>points</th>\n",
       "      <th>position</th>\n",
       "      <th>wins</th>\n",
       "    </tr>\n",
       "  </thead>\n",
       "  <tbody>\n",
       "    <tr>\n",
       "      <th>count</th>\n",
       "      <td>12716.000000</td>\n",
       "      <td>12716.000000</td>\n",
       "      <td>12716.000000</td>\n",
       "      <td>12716.000000</td>\n",
       "      <td>12716.000000</td>\n",
       "      <td>12716.000000</td>\n",
       "    </tr>\n",
       "    <tr>\n",
       "      <th>mean</th>\n",
       "      <td>15990.742529</td>\n",
       "      <td>505.302218</td>\n",
       "      <td>47.262504</td>\n",
       "      <td>32.244299</td>\n",
       "      <td>7.315901</td>\n",
       "      <td>0.671044</td>\n",
       "    </tr>\n",
       "    <tr>\n",
       "      <th>std</th>\n",
       "      <td>8748.089506</td>\n",
       "      <td>285.123256</td>\n",
       "      <td>58.451136</td>\n",
       "      <td>73.503280</td>\n",
       "      <td>4.402105</td>\n",
       "      <td>1.788436</td>\n",
       "    </tr>\n",
       "    <tr>\n",
       "      <th>min</th>\n",
       "      <td>1.000000</td>\n",
       "      <td>1.000000</td>\n",
       "      <td>1.000000</td>\n",
       "      <td>0.000000</td>\n",
       "      <td>1.000000</td>\n",
       "      <td>0.000000</td>\n",
       "    </tr>\n",
       "    <tr>\n",
       "      <th>25%</th>\n",
       "      <td>8449.750000</td>\n",
       "      <td>291.000000</td>\n",
       "      <td>6.000000</td>\n",
       "      <td>0.000000</td>\n",
       "      <td>4.000000</td>\n",
       "      <td>0.000000</td>\n",
       "    </tr>\n",
       "    <tr>\n",
       "      <th>50%</th>\n",
       "      <td>19547.500000</td>\n",
       "      <td>487.000000</td>\n",
       "      <td>25.000000</td>\n",
       "      <td>6.000000</td>\n",
       "      <td>7.000000</td>\n",
       "      <td>0.000000</td>\n",
       "    </tr>\n",
       "    <tr>\n",
       "      <th>75%</th>\n",
       "      <td>24168.250000</td>\n",
       "      <td>702.000000</td>\n",
       "      <td>57.000000</td>\n",
       "      <td>29.125000</td>\n",
       "      <td>10.000000</td>\n",
       "      <td>0.000000</td>\n",
       "    </tr>\n",
       "    <tr>\n",
       "      <th>max</th>\n",
       "      <td>27942.000000</td>\n",
       "      <td>1074.000000</td>\n",
       "      <td>214.000000</td>\n",
       "      <td>765.000000</td>\n",
       "      <td>22.000000</td>\n",
       "      <td>19.000000</td>\n",
       "    </tr>\n",
       "  </tbody>\n",
       "</table>\n",
       "</div>"
      ],
      "text/plain": [
       "       constructorStandingsId        raceId  constructorId        points  \\\n",
       "count            12716.000000  12716.000000   12716.000000  12716.000000   \n",
       "mean             15990.742529    505.302218      47.262504     32.244299   \n",
       "std               8748.089506    285.123256      58.451136     73.503280   \n",
       "min                  1.000000      1.000000       1.000000      0.000000   \n",
       "25%               8449.750000    291.000000       6.000000      0.000000   \n",
       "50%              19547.500000    487.000000      25.000000      6.000000   \n",
       "75%              24168.250000    702.000000      57.000000     29.125000   \n",
       "max              27942.000000   1074.000000     214.000000    765.000000   \n",
       "\n",
       "           position          wins  \n",
       "count  12716.000000  12716.000000  \n",
       "mean       7.315901      0.671044  \n",
       "std        4.402105      1.788436  \n",
       "min        1.000000      0.000000  \n",
       "25%        4.000000      0.000000  \n",
       "50%        7.000000      0.000000  \n",
       "75%       10.000000      0.000000  \n",
       "max       22.000000     19.000000  "
      ]
     },
     "execution_count": 12,
     "metadata": {},
     "output_type": "execute_result"
    }
   ],
   "source": [
    "Constructor_Standings.describe()"
   ]
  },
  {
   "cell_type": "code",
   "execution_count": 13,
   "metadata": {},
   "outputs": [
    {
     "data": {
      "text/plain": [
       "constructorStandingsId    12716\n",
       "raceId                      994\n",
       "constructorId               159\n",
       "points                      517\n",
       "position                     22\n",
       "positionText                 24\n",
       "wins                         20\n",
       "dtype: int64"
      ]
     },
     "execution_count": 13,
     "metadata": {},
     "output_type": "execute_result"
    }
   ],
   "source": [
    "Constructor_Standings.nunique()"
   ]
  },
  {
   "cell_type": "markdown",
   "metadata": {},
   "source": [
    "## 1.3 Constructors_Mod<a name=\"step1.3\"></a>"
   ]
  },
  {
   "cell_type": "code",
   "execution_count": 14,
   "metadata": {},
   "outputs": [
    {
     "data": {
      "text/html": [
       "<div>\n",
       "<style scoped>\n",
       "    .dataframe tbody tr th:only-of-type {\n",
       "        vertical-align: middle;\n",
       "    }\n",
       "\n",
       "    .dataframe tbody tr th {\n",
       "        vertical-align: top;\n",
       "    }\n",
       "\n",
       "    .dataframe thead th {\n",
       "        text-align: right;\n",
       "    }\n",
       "</style>\n",
       "<table border=\"1\" class=\"dataframe\">\n",
       "  <thead>\n",
       "    <tr style=\"text-align: right;\">\n",
       "      <th></th>\n",
       "      <th>constructorId</th>\n",
       "      <th>constructorRef</th>\n",
       "      <th>name</th>\n",
       "      <th>nationality</th>\n",
       "      <th>url</th>\n",
       "    </tr>\n",
       "  </thead>\n",
       "  <tbody>\n",
       "    <tr>\n",
       "      <th>0</th>\n",
       "      <td>1</td>\n",
       "      <td>mclaren</td>\n",
       "      <td>McLaren</td>\n",
       "      <td>British</td>\n",
       "      <td>http://en.wikipedia.org/wiki/McLaren</td>\n",
       "    </tr>\n",
       "    <tr>\n",
       "      <th>1</th>\n",
       "      <td>2</td>\n",
       "      <td>bmw_sauber</td>\n",
       "      <td>BMW Sauber</td>\n",
       "      <td>German</td>\n",
       "      <td>http://en.wikipedia.org/wiki/BMW_Sauber</td>\n",
       "    </tr>\n",
       "    <tr>\n",
       "      <th>2</th>\n",
       "      <td>3</td>\n",
       "      <td>williams</td>\n",
       "      <td>Williams</td>\n",
       "      <td>British</td>\n",
       "      <td>http://en.wikipedia.org/wiki/Williams_Grand_Pr...</td>\n",
       "    </tr>\n",
       "    <tr>\n",
       "      <th>3</th>\n",
       "      <td>4</td>\n",
       "      <td>renault</td>\n",
       "      <td>Renault</td>\n",
       "      <td>French</td>\n",
       "      <td>http://en.wikipedia.org/wiki/Renault_in_Formul...</td>\n",
       "    </tr>\n",
       "    <tr>\n",
       "      <th>4</th>\n",
       "      <td>5</td>\n",
       "      <td>toro_rosso</td>\n",
       "      <td>Toro Rosso</td>\n",
       "      <td>Italian</td>\n",
       "      <td>http://en.wikipedia.org/wiki/Scuderia_Toro_Rosso</td>\n",
       "    </tr>\n",
       "  </tbody>\n",
       "</table>\n",
       "</div>"
      ],
      "text/plain": [
       "   constructorId constructorRef        name nationality  \\\n",
       "0              1        mclaren     McLaren     British   \n",
       "1              2     bmw_sauber  BMW Sauber      German   \n",
       "2              3       williams    Williams     British   \n",
       "3              4        renault     Renault      French   \n",
       "4              5     toro_rosso  Toro Rosso     Italian   \n",
       "\n",
       "                                                 url  \n",
       "0               http://en.wikipedia.org/wiki/McLaren  \n",
       "1            http://en.wikipedia.org/wiki/BMW_Sauber  \n",
       "2  http://en.wikipedia.org/wiki/Williams_Grand_Pr...  \n",
       "3  http://en.wikipedia.org/wiki/Renault_in_Formul...  \n",
       "4   http://en.wikipedia.org/wiki/Scuderia_Toro_Rosso  "
      ]
     },
     "execution_count": 14,
     "metadata": {},
     "output_type": "execute_result"
    }
   ],
   "source": [
    "Constructors = pd.read_csv('datasets/f1db_csv_mod/Constructors_mod.csv')\n",
    "Constructors.head()"
   ]
  },
  {
   "cell_type": "code",
   "execution_count": 15,
   "metadata": {},
   "outputs": [
    {
     "data": {
      "text/plain": [
       "constructorId     211\n",
       "constructorRef    211\n",
       "name              211\n",
       "nationality        24\n",
       "url               174\n",
       "dtype: int64"
      ]
     },
     "execution_count": 15,
     "metadata": {},
     "output_type": "execute_result"
    }
   ],
   "source": [
    "Constructors.nunique()"
   ]
  },
  {
   "cell_type": "code",
   "execution_count": 16,
   "metadata": {},
   "outputs": [
    {
     "name": "stdout",
     "output_type": "stream",
     "text": [
      "<class 'pandas.core.frame.DataFrame'>\n",
      "RangeIndex: 211 entries, 0 to 210\n",
      "Data columns (total 5 columns):\n",
      " #   Column          Non-Null Count  Dtype \n",
      "---  ------          --------------  ----- \n",
      " 0   constructorId   211 non-null    int64 \n",
      " 1   constructorRef  211 non-null    object\n",
      " 2   name            211 non-null    object\n",
      " 3   nationality     211 non-null    object\n",
      " 4   url             211 non-null    object\n",
      "dtypes: int64(1), object(4)\n",
      "memory usage: 8.4+ KB\n"
     ]
    }
   ],
   "source": [
    "Constructors.info()"
   ]
  },
  {
   "cell_type": "code",
   "execution_count": 17,
   "metadata": {},
   "outputs": [
    {
     "data": {
      "text/plain": [
       "constructorRef    0.0\n",
       "name              0.0\n",
       "nationality       0.0\n",
       "url               0.0\n",
       "dtype: float64"
      ]
     },
     "execution_count": 17,
     "metadata": {},
     "output_type": "execute_result"
    }
   ],
   "source": [
    "#finding the categorical variables while showing missing vlaues\n",
    "cat_cols = [c for c in Constructors.columns if Constructors[c].dtype=='O']\n",
    "Constructors[cat_cols].isnull().mean().sort_values()"
   ]
  },
  {
   "cell_type": "code",
   "execution_count": 18,
   "metadata": {},
   "outputs": [
    {
     "data": {
      "text/plain": [
       "constructorId    0.0\n",
       "dtype: float64"
      ]
     },
     "execution_count": 18,
     "metadata": {},
     "output_type": "execute_result"
    }
   ],
   "source": [
    "#finding the numerical variables while showing missing vlaues\n",
    "num_cols = [c for c in Constructors.columns if Constructors[c].dtype!='O']\n",
    "Constructors[num_cols].isnull().mean().sort_values()"
   ]
  },
  {
   "cell_type": "code",
   "execution_count": null,
   "metadata": {},
   "outputs": [],
   "source": []
  },
  {
   "cell_type": "markdown",
   "metadata": {},
   "source": [
    "## 1.4 Results<a name=\"step1.4\"></a>"
   ]
  },
  {
   "cell_type": "code",
   "execution_count": 19,
   "metadata": {},
   "outputs": [
    {
     "data": {
      "text/html": [
       "<div>\n",
       "<style scoped>\n",
       "    .dataframe tbody tr th:only-of-type {\n",
       "        vertical-align: middle;\n",
       "    }\n",
       "\n",
       "    .dataframe tbody tr th {\n",
       "        vertical-align: top;\n",
       "    }\n",
       "\n",
       "    .dataframe thead th {\n",
       "        text-align: right;\n",
       "    }\n",
       "</style>\n",
       "<table border=\"1\" class=\"dataframe\">\n",
       "  <thead>\n",
       "    <tr style=\"text-align: right;\">\n",
       "      <th></th>\n",
       "      <th>resultId</th>\n",
       "      <th>raceId</th>\n",
       "      <th>driverId</th>\n",
       "      <th>constructorId</th>\n",
       "      <th>number</th>\n",
       "      <th>grid</th>\n",
       "      <th>position</th>\n",
       "      <th>positionText</th>\n",
       "      <th>positionOrder</th>\n",
       "      <th>points</th>\n",
       "      <th>laps</th>\n",
       "      <th>time</th>\n",
       "      <th>milliseconds</th>\n",
       "      <th>fastestLap</th>\n",
       "      <th>rank</th>\n",
       "      <th>fastestLapTime</th>\n",
       "      <th>fastestLapSpeed</th>\n",
       "      <th>statusId</th>\n",
       "    </tr>\n",
       "  </thead>\n",
       "  <tbody>\n",
       "    <tr>\n",
       "      <th>0</th>\n",
       "      <td>1</td>\n",
       "      <td>18</td>\n",
       "      <td>1</td>\n",
       "      <td>1</td>\n",
       "      <td>22</td>\n",
       "      <td>1</td>\n",
       "      <td>1</td>\n",
       "      <td>1</td>\n",
       "      <td>1</td>\n",
       "      <td>10.0</td>\n",
       "      <td>58</td>\n",
       "      <td>34:50.6</td>\n",
       "      <td>5690616</td>\n",
       "      <td>39</td>\n",
       "      <td>2</td>\n",
       "      <td>01:27.5</td>\n",
       "      <td>218.3</td>\n",
       "      <td>1</td>\n",
       "    </tr>\n",
       "    <tr>\n",
       "      <th>1</th>\n",
       "      <td>2</td>\n",
       "      <td>18</td>\n",
       "      <td>2</td>\n",
       "      <td>2</td>\n",
       "      <td>3</td>\n",
       "      <td>5</td>\n",
       "      <td>2</td>\n",
       "      <td>2</td>\n",
       "      <td>2</td>\n",
       "      <td>8.0</td>\n",
       "      <td>58</td>\n",
       "      <td>5.478</td>\n",
       "      <td>5696094</td>\n",
       "      <td>41</td>\n",
       "      <td>3</td>\n",
       "      <td>01:27.7</td>\n",
       "      <td>217.586</td>\n",
       "      <td>1</td>\n",
       "    </tr>\n",
       "    <tr>\n",
       "      <th>2</th>\n",
       "      <td>3</td>\n",
       "      <td>18</td>\n",
       "      <td>3</td>\n",
       "      <td>3</td>\n",
       "      <td>7</td>\n",
       "      <td>7</td>\n",
       "      <td>3</td>\n",
       "      <td>3</td>\n",
       "      <td>3</td>\n",
       "      <td>6.0</td>\n",
       "      <td>58</td>\n",
       "      <td>8.163</td>\n",
       "      <td>5698779</td>\n",
       "      <td>41</td>\n",
       "      <td>5</td>\n",
       "      <td>01:28.1</td>\n",
       "      <td>216.719</td>\n",
       "      <td>1</td>\n",
       "    </tr>\n",
       "    <tr>\n",
       "      <th>3</th>\n",
       "      <td>4</td>\n",
       "      <td>18</td>\n",
       "      <td>4</td>\n",
       "      <td>4</td>\n",
       "      <td>5</td>\n",
       "      <td>11</td>\n",
       "      <td>4</td>\n",
       "      <td>4</td>\n",
       "      <td>4</td>\n",
       "      <td>5.0</td>\n",
       "      <td>58</td>\n",
       "      <td>17.181</td>\n",
       "      <td>5707797</td>\n",
       "      <td>58</td>\n",
       "      <td>7</td>\n",
       "      <td>01:28.6</td>\n",
       "      <td>215.464</td>\n",
       "      <td>1</td>\n",
       "    </tr>\n",
       "    <tr>\n",
       "      <th>4</th>\n",
       "      <td>5</td>\n",
       "      <td>18</td>\n",
       "      <td>5</td>\n",
       "      <td>1</td>\n",
       "      <td>23</td>\n",
       "      <td>3</td>\n",
       "      <td>5</td>\n",
       "      <td>5</td>\n",
       "      <td>5</td>\n",
       "      <td>4.0</td>\n",
       "      <td>58</td>\n",
       "      <td>18.014</td>\n",
       "      <td>5708630</td>\n",
       "      <td>43</td>\n",
       "      <td>1</td>\n",
       "      <td>01:27.4</td>\n",
       "      <td>218.385</td>\n",
       "      <td>1</td>\n",
       "    </tr>\n",
       "  </tbody>\n",
       "</table>\n",
       "</div>"
      ],
      "text/plain": [
       "   resultId  raceId  driverId  constructorId number  grid position  \\\n",
       "0         1      18         1              1     22     1        1   \n",
       "1         2      18         2              2      3     5        2   \n",
       "2         3      18         3              3      7     7        3   \n",
       "3         4      18         4              4      5    11        4   \n",
       "4         5      18         5              1     23     3        5   \n",
       "\n",
       "  positionText  positionOrder  points  laps     time milliseconds fastestLap  \\\n",
       "0            1              1    10.0    58  34:50.6      5690616         39   \n",
       "1            2              2     8.0    58    5.478      5696094         41   \n",
       "2            3              3     6.0    58    8.163      5698779         41   \n",
       "3            4              4     5.0    58   17.181      5707797         58   \n",
       "4            5              5     4.0    58   18.014      5708630         43   \n",
       "\n",
       "  rank fastestLapTime fastestLapSpeed  statusId  \n",
       "0    2        01:27.5           218.3         1  \n",
       "1    3        01:27.7         217.586         1  \n",
       "2    5        01:28.1         216.719         1  \n",
       "3    7        01:28.6         215.464         1  \n",
       "4    1        01:27.4         218.385         1  "
      ]
     },
     "execution_count": 19,
     "metadata": {},
     "output_type": "execute_result"
    }
   ],
   "source": [
    "Results = pd.read_csv('datasets/f1db_csv_mod/Results_mod.csv')\n",
    "Results.head()"
   ]
  },
  {
   "cell_type": "code",
   "execution_count": 20,
   "metadata": {},
   "outputs": [
    {
     "name": "stdout",
     "output_type": "stream",
     "text": [
      "<class 'pandas.core.frame.DataFrame'>\n",
      "RangeIndex: 25399 entries, 0 to 25398\n",
      "Data columns (total 18 columns):\n",
      " #   Column           Non-Null Count  Dtype  \n",
      "---  ------           --------------  -----  \n",
      " 0   resultId         25399 non-null  int64  \n",
      " 1   raceId           25399 non-null  int64  \n",
      " 2   driverId         25399 non-null  int64  \n",
      " 3   constructorId    25399 non-null  int64  \n",
      " 4   number           25399 non-null  object \n",
      " 5   grid             25399 non-null  int64  \n",
      " 6   position         25399 non-null  object \n",
      " 7   positionText     25399 non-null  object \n",
      " 8   positionOrder    25399 non-null  int64  \n",
      " 9   points           25399 non-null  float64\n",
      " 10  laps             25399 non-null  int64  \n",
      " 11  time             25399 non-null  object \n",
      " 12  milliseconds     25399 non-null  object \n",
      " 13  fastestLap       25399 non-null  object \n",
      " 14  rank             25399 non-null  object \n",
      " 15  fastestLapTime   25399 non-null  object \n",
      " 16  fastestLapSpeed  25399 non-null  object \n",
      " 17  statusId         25399 non-null  int64  \n",
      "dtypes: float64(1), int64(8), object(9)\n",
      "memory usage: 3.5+ MB\n"
     ]
    }
   ],
   "source": [
    "Results.info()"
   ]
  },
  {
   "cell_type": "code",
   "execution_count": 21,
   "metadata": {},
   "outputs": [
    {
     "data": {
      "text/plain": [
       "number             0.0\n",
       "position           0.0\n",
       "positionText       0.0\n",
       "time               0.0\n",
       "milliseconds       0.0\n",
       "fastestLap         0.0\n",
       "rank               0.0\n",
       "fastestLapTime     0.0\n",
       "fastestLapSpeed    0.0\n",
       "dtype: float64"
      ]
     },
     "execution_count": 21,
     "metadata": {},
     "output_type": "execute_result"
    }
   ],
   "source": [
    "#finding the categorical variables while showing missing vlaues\n",
    "cat_cols = [c for c in Results.columns if Results[c].dtype=='O']\n",
    "Results[cat_cols].isnull().mean().sort_values()"
   ]
  },
  {
   "cell_type": "code",
   "execution_count": 22,
   "metadata": {},
   "outputs": [
    {
     "data": {
      "text/plain": [
       "resultId         0.0\n",
       "raceId           0.0\n",
       "driverId         0.0\n",
       "constructorId    0.0\n",
       "grid             0.0\n",
       "positionOrder    0.0\n",
       "points           0.0\n",
       "laps             0.0\n",
       "statusId         0.0\n",
       "dtype: float64"
      ]
     },
     "execution_count": 22,
     "metadata": {},
     "output_type": "execute_result"
    }
   ],
   "source": [
    "#finding the numerical variables while showing missing vlaues\n",
    "num_cols = [c for c in Results.columns if Results[c].dtype!='O']\n",
    "Results[num_cols].isnull().mean().sort_values()"
   ]
  },
  {
   "cell_type": "code",
   "execution_count": 23,
   "metadata": {},
   "outputs": [
    {
     "data": {
      "text/html": [
       "<div>\n",
       "<style scoped>\n",
       "    .dataframe tbody tr th:only-of-type {\n",
       "        vertical-align: middle;\n",
       "    }\n",
       "\n",
       "    .dataframe tbody tr th {\n",
       "        vertical-align: top;\n",
       "    }\n",
       "\n",
       "    .dataframe thead th {\n",
       "        text-align: right;\n",
       "    }\n",
       "</style>\n",
       "<table border=\"1\" class=\"dataframe\">\n",
       "  <thead>\n",
       "    <tr style=\"text-align: right;\">\n",
       "      <th></th>\n",
       "      <th>resultId</th>\n",
       "      <th>raceId</th>\n",
       "      <th>driverId</th>\n",
       "      <th>constructorId</th>\n",
       "      <th>grid</th>\n",
       "      <th>positionOrder</th>\n",
       "      <th>points</th>\n",
       "      <th>laps</th>\n",
       "      <th>statusId</th>\n",
       "    </tr>\n",
       "  </thead>\n",
       "  <tbody>\n",
       "    <tr>\n",
       "      <th>count</th>\n",
       "      <td>25399.000000</td>\n",
       "      <td>25399.000000</td>\n",
       "      <td>25399.000000</td>\n",
       "      <td>25399.000000</td>\n",
       "      <td>25399.000000</td>\n",
       "      <td>25399.000000</td>\n",
       "      <td>25399.000000</td>\n",
       "      <td>25399.000000</td>\n",
       "      <td>25399.000000</td>\n",
       "    </tr>\n",
       "    <tr>\n",
       "      <th>mean</th>\n",
       "      <td>12700.761999</td>\n",
       "      <td>521.818576</td>\n",
       "      <td>253.809914</td>\n",
       "      <td>47.809993</td>\n",
       "      <td>11.198000</td>\n",
       "      <td>13.186976</td>\n",
       "      <td>1.822082</td>\n",
       "      <td>45.849443</td>\n",
       "      <td>17.666522</td>\n",
       "    </tr>\n",
       "    <tr>\n",
       "      <th>std</th>\n",
       "      <td>7333.289896</td>\n",
       "      <td>292.937855</td>\n",
       "      <td>261.237589</td>\n",
       "      <td>58.784504</td>\n",
       "      <td>7.264033</td>\n",
       "      <td>8.932839</td>\n",
       "      <td>4.075745</td>\n",
       "      <td>29.962512</td>\n",
       "      <td>26.075967</td>\n",
       "    </tr>\n",
       "    <tr>\n",
       "      <th>min</th>\n",
       "      <td>1.000000</td>\n",
       "      <td>1.000000</td>\n",
       "      <td>1.000000</td>\n",
       "      <td>1.000000</td>\n",
       "      <td>0.000000</td>\n",
       "      <td>1.000000</td>\n",
       "      <td>0.000000</td>\n",
       "      <td>0.000000</td>\n",
       "      <td>1.000000</td>\n",
       "    </tr>\n",
       "    <tr>\n",
       "      <th>25%</th>\n",
       "      <td>6350.500000</td>\n",
       "      <td>289.000000</td>\n",
       "      <td>56.000000</td>\n",
       "      <td>6.000000</td>\n",
       "      <td>5.000000</td>\n",
       "      <td>7.000000</td>\n",
       "      <td>0.000000</td>\n",
       "      <td>21.000000</td>\n",
       "      <td>1.000000</td>\n",
       "    </tr>\n",
       "    <tr>\n",
       "      <th>50%</th>\n",
       "      <td>12700.000000</td>\n",
       "      <td>506.000000</td>\n",
       "      <td>160.000000</td>\n",
       "      <td>25.000000</td>\n",
       "      <td>11.000000</td>\n",
       "      <td>13.000000</td>\n",
       "      <td>0.000000</td>\n",
       "      <td>52.000000</td>\n",
       "      <td>11.000000</td>\n",
       "    </tr>\n",
       "    <tr>\n",
       "      <th>75%</th>\n",
       "      <td>19049.500000</td>\n",
       "      <td>768.000000</td>\n",
       "      <td>353.500000</td>\n",
       "      <td>58.000000</td>\n",
       "      <td>17.000000</td>\n",
       "      <td>19.000000</td>\n",
       "      <td>2.000000</td>\n",
       "      <td>66.000000</td>\n",
       "      <td>14.000000</td>\n",
       "    </tr>\n",
       "    <tr>\n",
       "      <th>max</th>\n",
       "      <td>25404.000000</td>\n",
       "      <td>1073.000000</td>\n",
       "      <td>854.000000</td>\n",
       "      <td>214.000000</td>\n",
       "      <td>34.000000</td>\n",
       "      <td>99.000000</td>\n",
       "      <td>50.000000</td>\n",
       "      <td>200.000000</td>\n",
       "      <td>139.000000</td>\n",
       "    </tr>\n",
       "  </tbody>\n",
       "</table>\n",
       "</div>"
      ],
      "text/plain": [
       "           resultId        raceId      driverId  constructorId          grid  \\\n",
       "count  25399.000000  25399.000000  25399.000000   25399.000000  25399.000000   \n",
       "mean   12700.761999    521.818576    253.809914      47.809993     11.198000   \n",
       "std     7333.289896    292.937855    261.237589      58.784504      7.264033   \n",
       "min        1.000000      1.000000      1.000000       1.000000      0.000000   \n",
       "25%     6350.500000    289.000000     56.000000       6.000000      5.000000   \n",
       "50%    12700.000000    506.000000    160.000000      25.000000     11.000000   \n",
       "75%    19049.500000    768.000000    353.500000      58.000000     17.000000   \n",
       "max    25404.000000   1073.000000    854.000000     214.000000     34.000000   \n",
       "\n",
       "       positionOrder        points          laps      statusId  \n",
       "count   25399.000000  25399.000000  25399.000000  25399.000000  \n",
       "mean       13.186976      1.822082     45.849443     17.666522  \n",
       "std         8.932839      4.075745     29.962512     26.075967  \n",
       "min         1.000000      0.000000      0.000000      1.000000  \n",
       "25%         7.000000      0.000000     21.000000      1.000000  \n",
       "50%        13.000000      0.000000     52.000000     11.000000  \n",
       "75%        19.000000      2.000000     66.000000     14.000000  \n",
       "max        99.000000     50.000000    200.000000    139.000000  "
      ]
     },
     "execution_count": 23,
     "metadata": {},
     "output_type": "execute_result"
    }
   ],
   "source": [
    "Results.describe()"
   ]
  },
  {
   "cell_type": "code",
   "execution_count": 24,
   "metadata": {},
   "outputs": [
    {
     "data": {
      "text/plain": [
       "resultId           25399\n",
       "raceId              1057\n",
       "driverId             853\n",
       "constructorId        210\n",
       "number               130\n",
       "grid                  35\n",
       "position              35\n",
       "positionText          40\n",
       "positionOrder         40\n",
       "points                40\n",
       "laps                 172\n",
       "time                6527\n",
       "milliseconds        6772\n",
       "fastestLap            80\n",
       "rank                  26\n",
       "fastestLapTime       590\n",
       "fastestLapSpeed     6557\n",
       "statusId             135\n",
       "dtype: int64"
      ]
     },
     "execution_count": 24,
     "metadata": {},
     "output_type": "execute_result"
    }
   ],
   "source": [
    "Results.nunique()"
   ]
  },
  {
   "cell_type": "markdown",
   "metadata": {},
   "source": [
    "# Problem Formulation <a name=\"problem\"></a>\n",
    "<a href=\"#top\">Back to Table of contents</a>\n"
   ]
  },
  {
   "cell_type": "markdown",
   "metadata": {},
   "source": [
    "### Load and Explore the Data\n",
    "#### Tibco Spotfire Analysis\n",
    "\n",
    "By using Tibco, I was able to create a visualization for each datasets given and was able to understand the data in a much clearer way. With visualizations, I can see how each of the data points correlates with one another within their respectivie datasets. For this report as we are only delving into the tables that have constructorsId, I will only explain the visuals and findings I have found from those datasets although through Tibco, it was effecient and effective at creating visuals for all the datasets.\n",
    "\n",
    "#### Constructor_Results_Mod\n",
    "For the constructors_results table, there was points data given for each respective race for each constructorId. I was able to plot out a vertical bar graph that ranked each constructors by points from the highest to lowest, left to right. This allowed me to see the significant dififerences from high performing constructors and low contstructors, meaning that the already performing constructors continues to do significantly better than those who are already not performing.\n",
    "\n",
    "#### Constructors_Mod\n",
    "From this table, I was able to plot out a tree diagram showing the distribution of the Constructors by nationality as well as their names respectively. This made me realize that the table was effective at connecting names and nationality to the constructorId as each unique constructorId was given a unique name. Hence this gave me an early impression that it would be good to merge it with a big dataset to define the names for each chosen constructorIds.\n",
    "\n",
    "#### Constructors_Standing_Mod\n",
    "This dataset gave points and wins count for the entire season that each constructorsId has won while also linking it to specific raceId to track which race did the constructor actually won those points and wins from. I was able to create a table plot in ranking the top scoring constructors in terms of points. I was able to spot out some irreggularities within the tables such as constructors \"10\" having 0 wins but still have the relatively high points. Meaning that although it did not come in Position 1 at all, it is still performing well. With information like this, it would tell me that it would be ideal to include at least one of these exception to prove that my model is robust enough to handle predictions even where there are irreggularities, therefore, it would be wise to extend the number of constructors to be predicted up the the 10th constructor.\n",
    "\n",
    "#### Jupyter notebook and excel exploration\n",
    "\n",
    "By loading the data and seeing each of their number of unique variables, this would tell me the details of each columns and which columns I should be extracting and merging in the following step oof data wrangling on multiple tables. \n",
    "\n",
    "#### Constructor_results_mod unique variables\n",
    "\n",
    "constructorResultsId    11950\n",
    "\n",
    "raceId                    994\n",
    "\n",
    "constructorId             175\n",
    "\n",
    "points                     53\n",
    "\n",
    "status                      2\n",
    "\n",
    "#### Constructor_standing_mod unique variables\n",
    "\n",
    "constructorStandingsId    12716\n",
    "\n",
    "raceId                      994\n",
    "\n",
    "constructorId               159\n",
    "\n",
    "points                      517\n",
    "\n",
    "position                     22\n",
    "\n",
    "positionText                 24\n",
    "\n",
    "wins                         20\n",
    "\n",
    "#### Constructor_mod unique variables\n",
    "\n",
    "constructorId     211\n",
    "\n",
    "constructorRef    211\n",
    "\n",
    "name              211\n",
    "\n",
    "nationality        24\n",
    "\n",
    "url               174\n",
    "\n",
    "#### Results unique variables\n",
    "\n",
    "resultId           25399\n",
    "\n",
    "raceId              1057\n",
    "\n",
    "driverId             853\n",
    "\n",
    "constructorId        210\n",
    "\n",
    "number               130\n",
    "\n",
    "grid                  35\n",
    "\n",
    "position              35\n",
    "\n",
    "positionText          40\n",
    "\n",
    "positionOrder         40\n",
    "\n",
    "points                40\n",
    "\n",
    "laps                 172\n",
    "\n",
    "time                6527\n",
    "\n",
    "milliseconds        6772\n",
    "\n",
    "fastestLap            80\n",
    "\n",
    "rank                  26\n",
    "\n",
    "fastestLapTime       590\n",
    "\n",
    "fastestLapSpeed     6557\n",
    "\n",
    "statusId             135\n",
    "\n",
    "\n",
    "#### Problem formulation summary\n",
    "\n",
    "Seeing that \"Results\" has the most numbers of recorded races while \"Constructor\" has the highest number of recorded constructors. I immediately thought of them being as the first to merge as correlate by joining the names of each constructors from \"Constructor\" into \"Results\" Furthermore, I would see that important variables such as milliseconds,fastest lap time/speed and grid are all in the \"Results\" database hence it would be crucial to clean the \"Results\" table when optimizing my model as majority of my data will be coming from it.\n",
    "\n",
    "Furthermore, from the Constructor_results and standings datasets, we can see that it has recording the same number of races hence it should be a common variable to join them as well as for constructorId. While \"Constructors_results\" provides the points earned from each race, \"Constructor_standing\" would provide the points earned in the entire season(The sum of all points from races with the same Id) as well as the total wins for each season. It would be better to merge these two databases together as well.\n",
    "\n",
    "Moreover, it can also be seen that there are a lot of \"\\N\" data within the \"Results\" table that needs to be clean and determined if the null data is useful for the model at all. There are also a few data points within the \"positionOrder\" that showed some drivers having the 99th position which is an error as just by looking through the excel sheet, it is easy to determine that those 99th position should have been the 1st position instead as it follows the position order from lowest to highest.\n",
    "\n",
    "In conclusion, by performing simple data loading and exploring, I was able to determine which table correlates with each other more and knowing what to merge first, assisting me in having an easier time in understanding each variables within the datasets while guiding me into the next step of Data Wrangling on multiple tables. I was also able to see details that would have been otherwised overlooked without seeing into each column of the excel sheet as well as how many unique variables are there in each columns. With all of these discovery and evaluations, it has given me confidence in formulating a prediction problem that would be neither simple nor overly complicated but still being highly objective in producing a robust data model.\n",
    "\n",
    "\n",
    "### Final formulated Prediction problem\n",
    "\n",
    "#### Regression problem: To predict the position of the first 10 constructors¶\n",
    "#### Target Variable would be positionOrder\n",
    "#### Other variables that would correlate with positioning would be points, lap time/speed, grid and wins\n",
    "\n"
   ]
  },
  {
   "cell_type": "markdown",
   "metadata": {},
   "source": [
    "# 2. Subsetting and Filtering<a name=\"step2\"></a>\n",
    "<a href=\"#top\">Back to Table of contents</a>"
   ]
  },
  {
   "cell_type": "markdown",
   "metadata": {},
   "source": [
    "#### To begin, We have to start subsetting with these 4 tables datasets; data_constructor_results, Constructor_Standings, Constructors and Results."
   ]
  },
  {
   "cell_type": "markdown",
   "metadata": {},
   "source": [
    "## 2.1 Data_Constructor_Results<a name=\"step2.1\"></a>"
   ]
  },
  {
   "cell_type": "code",
   "execution_count": 25,
   "metadata": {},
   "outputs": [
    {
     "data": {
      "text/html": [
       "<div>\n",
       "<style scoped>\n",
       "    .dataframe tbody tr th:only-of-type {\n",
       "        vertical-align: middle;\n",
       "    }\n",
       "\n",
       "    .dataframe tbody tr th {\n",
       "        vertical-align: top;\n",
       "    }\n",
       "\n",
       "    .dataframe thead th {\n",
       "        text-align: right;\n",
       "    }\n",
       "</style>\n",
       "<table border=\"1\" class=\"dataframe\">\n",
       "  <thead>\n",
       "    <tr style=\"text-align: right;\">\n",
       "      <th></th>\n",
       "      <th>raceId</th>\n",
       "      <th>constructorId</th>\n",
       "      <th>points</th>\n",
       "    </tr>\n",
       "  </thead>\n",
       "  <tbody>\n",
       "    <tr>\n",
       "      <th>0</th>\n",
       "      <td>18</td>\n",
       "      <td>1</td>\n",
       "      <td>14.0</td>\n",
       "    </tr>\n",
       "    <tr>\n",
       "      <th>1</th>\n",
       "      <td>18</td>\n",
       "      <td>2</td>\n",
       "      <td>8.0</td>\n",
       "    </tr>\n",
       "    <tr>\n",
       "      <th>2</th>\n",
       "      <td>18</td>\n",
       "      <td>3</td>\n",
       "      <td>9.0</td>\n",
       "    </tr>\n",
       "    <tr>\n",
       "      <th>3</th>\n",
       "      <td>18</td>\n",
       "      <td>4</td>\n",
       "      <td>5.0</td>\n",
       "    </tr>\n",
       "    <tr>\n",
       "      <th>4</th>\n",
       "      <td>18</td>\n",
       "      <td>5</td>\n",
       "      <td>2.0</td>\n",
       "    </tr>\n",
       "    <tr>\n",
       "      <th>...</th>\n",
       "      <td>...</td>\n",
       "      <td>...</td>\n",
       "      <td>...</td>\n",
       "    </tr>\n",
       "    <tr>\n",
       "      <th>11945</th>\n",
       "      <td>1073</td>\n",
       "      <td>214</td>\n",
       "      <td>6.0</td>\n",
       "    </tr>\n",
       "    <tr>\n",
       "      <th>11946</th>\n",
       "      <td>1073</td>\n",
       "      <td>117</td>\n",
       "      <td>0.0</td>\n",
       "    </tr>\n",
       "    <tr>\n",
       "      <th>11947</th>\n",
       "      <td>1073</td>\n",
       "      <td>210</td>\n",
       "      <td>0.0</td>\n",
       "    </tr>\n",
       "    <tr>\n",
       "      <th>11948</th>\n",
       "      <td>1073</td>\n",
       "      <td>3</td>\n",
       "      <td>0.0</td>\n",
       "    </tr>\n",
       "    <tr>\n",
       "      <th>11949</th>\n",
       "      <td>1073</td>\n",
       "      <td>51</td>\n",
       "      <td>0.0</td>\n",
       "    </tr>\n",
       "  </tbody>\n",
       "</table>\n",
       "<p>11950 rows × 3 columns</p>\n",
       "</div>"
      ],
      "text/plain": [
       "       raceId  constructorId  points\n",
       "0          18              1    14.0\n",
       "1          18              2     8.0\n",
       "2          18              3     9.0\n",
       "3          18              4     5.0\n",
       "4          18              5     2.0\n",
       "...       ...            ...     ...\n",
       "11945    1073            214     6.0\n",
       "11946    1073            117     0.0\n",
       "11947    1073            210     0.0\n",
       "11948    1073              3     0.0\n",
       "11949    1073             51     0.0\n",
       "\n",
       "[11950 rows x 3 columns]"
      ]
     },
     "execution_count": 25,
     "metadata": {},
     "output_type": "execute_result"
    }
   ],
   "source": [
    "# First we subset the dataframes to only show important values\n",
    "data_constructor_results = data_constructor_results[['raceId','constructorId','points']]\n",
    "data_constructor_results\n"
   ]
  },
  {
   "cell_type": "code",
   "execution_count": 26,
   "metadata": {},
   "outputs": [
    {
     "data": {
      "text/html": [
       "<div>\n",
       "<style scoped>\n",
       "    .dataframe tbody tr th:only-of-type {\n",
       "        vertical-align: middle;\n",
       "    }\n",
       "\n",
       "    .dataframe tbody tr th {\n",
       "        vertical-align: top;\n",
       "    }\n",
       "\n",
       "    .dataframe thead th {\n",
       "        text-align: right;\n",
       "    }\n",
       "</style>\n",
       "<table border=\"1\" class=\"dataframe\">\n",
       "  <thead>\n",
       "    <tr style=\"text-align: right;\">\n",
       "      <th></th>\n",
       "      <th>raceId</th>\n",
       "      <th>constructorId</th>\n",
       "      <th>points</th>\n",
       "    </tr>\n",
       "  </thead>\n",
       "  <tbody>\n",
       "    <tr>\n",
       "      <th>0</th>\n",
       "      <td>18</td>\n",
       "      <td>1</td>\n",
       "      <td>14.0</td>\n",
       "    </tr>\n",
       "    <tr>\n",
       "      <th>1</th>\n",
       "      <td>18</td>\n",
       "      <td>2</td>\n",
       "      <td>8.0</td>\n",
       "    </tr>\n",
       "    <tr>\n",
       "      <th>2</th>\n",
       "      <td>18</td>\n",
       "      <td>3</td>\n",
       "      <td>9.0</td>\n",
       "    </tr>\n",
       "    <tr>\n",
       "      <th>3</th>\n",
       "      <td>18</td>\n",
       "      <td>4</td>\n",
       "      <td>5.0</td>\n",
       "    </tr>\n",
       "    <tr>\n",
       "      <th>4</th>\n",
       "      <td>18</td>\n",
       "      <td>5</td>\n",
       "      <td>2.0</td>\n",
       "    </tr>\n",
       "    <tr>\n",
       "      <th>...</th>\n",
       "      <td>...</td>\n",
       "      <td>...</td>\n",
       "      <td>...</td>\n",
       "    </tr>\n",
       "    <tr>\n",
       "      <th>11938</th>\n",
       "      <td>1072</td>\n",
       "      <td>3</td>\n",
       "      <td>0.0</td>\n",
       "    </tr>\n",
       "    <tr>\n",
       "      <th>11940</th>\n",
       "      <td>1073</td>\n",
       "      <td>9</td>\n",
       "      <td>26.0</td>\n",
       "    </tr>\n",
       "    <tr>\n",
       "      <th>11942</th>\n",
       "      <td>1073</td>\n",
       "      <td>6</td>\n",
       "      <td>16.0</td>\n",
       "    </tr>\n",
       "    <tr>\n",
       "      <th>11944</th>\n",
       "      <td>1073</td>\n",
       "      <td>1</td>\n",
       "      <td>6.0</td>\n",
       "    </tr>\n",
       "    <tr>\n",
       "      <th>11948</th>\n",
       "      <td>1073</td>\n",
       "      <td>3</td>\n",
       "      <td>0.0</td>\n",
       "    </tr>\n",
       "  </tbody>\n",
       "</table>\n",
       "<p>4073 rows × 3 columns</p>\n",
       "</div>"
      ],
      "text/plain": [
       "       raceId  constructorId  points\n",
       "0          18              1    14.0\n",
       "1          18              2     8.0\n",
       "2          18              3     9.0\n",
       "3          18              4     5.0\n",
       "4          18              5     2.0\n",
       "...       ...            ...     ...\n",
       "11938    1072              3     0.0\n",
       "11940    1073              9    26.0\n",
       "11942    1073              6    16.0\n",
       "11944    1073              1     6.0\n",
       "11948    1073              3     0.0\n",
       "\n",
       "[4073 rows x 3 columns]"
      ]
     },
     "execution_count": 26,
     "metadata": {},
     "output_type": "execute_result"
    }
   ],
   "source": [
    "# Next, we filter for constructorID 1 to 10\n",
    "data_constructor_results_subset = data_constructor_results[(data_constructor_results[\"constructorId\"] == 1) | (data_constructor_results[\"constructorId\"] == 2) | (data_constructor_results[\"constructorId\"] == 3)| (data_constructor_results[\"constructorId\"] == 4)| (data_constructor_results[\"constructorId\"] == 5)| (data_constructor_results[\"constructorId\"] == 6)| (data_constructor_results[\"constructorId\"] == 7)| (data_constructor_results[\"constructorId\"] == 8) | (data_constructor_results[\"constructorId\"] == 9)| (data_constructor_results[\"constructorId\"] == 10)]\n",
    "data_constructor_results_subset\n",
    "# So now our data_constructor_results table would show only relevant datas"
   ]
  },
  {
   "cell_type": "markdown",
   "metadata": {},
   "source": [
    "## 2.2 Constructor Standings<a name=\"step2.2\"></a>"
   ]
  },
  {
   "cell_type": "code",
   "execution_count": 27,
   "metadata": {},
   "outputs": [
    {
     "data": {
      "text/html": [
       "<div>\n",
       "<style scoped>\n",
       "    .dataframe tbody tr th:only-of-type {\n",
       "        vertical-align: middle;\n",
       "    }\n",
       "\n",
       "    .dataframe tbody tr th {\n",
       "        vertical-align: top;\n",
       "    }\n",
       "\n",
       "    .dataframe thead th {\n",
       "        text-align: right;\n",
       "    }\n",
       "</style>\n",
       "<table border=\"1\" class=\"dataframe\">\n",
       "  <thead>\n",
       "    <tr style=\"text-align: right;\">\n",
       "      <th></th>\n",
       "      <th>raceId</th>\n",
       "      <th>constructorId</th>\n",
       "      <th>wins</th>\n",
       "    </tr>\n",
       "  </thead>\n",
       "  <tbody>\n",
       "    <tr>\n",
       "      <th>0</th>\n",
       "      <td>18</td>\n",
       "      <td>1</td>\n",
       "      <td>1</td>\n",
       "    </tr>\n",
       "    <tr>\n",
       "      <th>1</th>\n",
       "      <td>18</td>\n",
       "      <td>2</td>\n",
       "      <td>0</td>\n",
       "    </tr>\n",
       "    <tr>\n",
       "      <th>2</th>\n",
       "      <td>18</td>\n",
       "      <td>3</td>\n",
       "      <td>0</td>\n",
       "    </tr>\n",
       "    <tr>\n",
       "      <th>3</th>\n",
       "      <td>18</td>\n",
       "      <td>4</td>\n",
       "      <td>0</td>\n",
       "    </tr>\n",
       "    <tr>\n",
       "      <th>4</th>\n",
       "      <td>18</td>\n",
       "      <td>5</td>\n",
       "      <td>0</td>\n",
       "    </tr>\n",
       "    <tr>\n",
       "      <th>...</th>\n",
       "      <td>...</td>\n",
       "      <td>...</td>\n",
       "      <td>...</td>\n",
       "    </tr>\n",
       "    <tr>\n",
       "      <th>12711</th>\n",
       "      <td>1074</td>\n",
       "      <td>210</td>\n",
       "      <td>0</td>\n",
       "    </tr>\n",
       "    <tr>\n",
       "      <th>12712</th>\n",
       "      <td>1074</td>\n",
       "      <td>1</td>\n",
       "      <td>0</td>\n",
       "    </tr>\n",
       "    <tr>\n",
       "      <th>12713</th>\n",
       "      <td>1074</td>\n",
       "      <td>131</td>\n",
       "      <td>0</td>\n",
       "    </tr>\n",
       "    <tr>\n",
       "      <th>12714</th>\n",
       "      <td>1074</td>\n",
       "      <td>9</td>\n",
       "      <td>0</td>\n",
       "    </tr>\n",
       "    <tr>\n",
       "      <th>12715</th>\n",
       "      <td>1074</td>\n",
       "      <td>3</td>\n",
       "      <td>0</td>\n",
       "    </tr>\n",
       "  </tbody>\n",
       "</table>\n",
       "<p>12716 rows × 3 columns</p>\n",
       "</div>"
      ],
      "text/plain": [
       "       raceId  constructorId  wins\n",
       "0          18              1     1\n",
       "1          18              2     0\n",
       "2          18              3     0\n",
       "3          18              4     0\n",
       "4          18              5     0\n",
       "...       ...            ...   ...\n",
       "12711    1074            210     0\n",
       "12712    1074              1     0\n",
       "12713    1074            131     0\n",
       "12714    1074              9     0\n",
       "12715    1074              3     0\n",
       "\n",
       "[12716 rows x 3 columns]"
      ]
     },
     "execution_count": 27,
     "metadata": {},
     "output_type": "execute_result"
    }
   ],
   "source": [
    "Constructor_Standings = Constructor_Standings[['raceId','constructorId','wins']]\n",
    "Constructor_Standings"
   ]
  },
  {
   "cell_type": "code",
   "execution_count": 28,
   "metadata": {},
   "outputs": [
    {
     "data": {
      "text/html": [
       "<div>\n",
       "<style scoped>\n",
       "    .dataframe tbody tr th:only-of-type {\n",
       "        vertical-align: middle;\n",
       "    }\n",
       "\n",
       "    .dataframe tbody tr th {\n",
       "        vertical-align: top;\n",
       "    }\n",
       "\n",
       "    .dataframe thead th {\n",
       "        text-align: right;\n",
       "    }\n",
       "</style>\n",
       "<table border=\"1\" class=\"dataframe\">\n",
       "  <thead>\n",
       "    <tr style=\"text-align: right;\">\n",
       "      <th></th>\n",
       "      <th>raceId</th>\n",
       "      <th>constructorId</th>\n",
       "      <th>wins</th>\n",
       "    </tr>\n",
       "  </thead>\n",
       "  <tbody>\n",
       "    <tr>\n",
       "      <th>0</th>\n",
       "      <td>18</td>\n",
       "      <td>1</td>\n",
       "      <td>1</td>\n",
       "    </tr>\n",
       "    <tr>\n",
       "      <th>1</th>\n",
       "      <td>18</td>\n",
       "      <td>2</td>\n",
       "      <td>0</td>\n",
       "    </tr>\n",
       "    <tr>\n",
       "      <th>2</th>\n",
       "      <td>18</td>\n",
       "      <td>3</td>\n",
       "      <td>0</td>\n",
       "    </tr>\n",
       "    <tr>\n",
       "      <th>3</th>\n",
       "      <td>18</td>\n",
       "      <td>4</td>\n",
       "      <td>0</td>\n",
       "    </tr>\n",
       "    <tr>\n",
       "      <th>4</th>\n",
       "      <td>18</td>\n",
       "      <td>5</td>\n",
       "      <td>0</td>\n",
       "    </tr>\n",
       "    <tr>\n",
       "      <th>...</th>\n",
       "      <td>...</td>\n",
       "      <td>...</td>\n",
       "      <td>...</td>\n",
       "    </tr>\n",
       "    <tr>\n",
       "      <th>12704</th>\n",
       "      <td>1073</td>\n",
       "      <td>3</td>\n",
       "      <td>0</td>\n",
       "    </tr>\n",
       "    <tr>\n",
       "      <th>12710</th>\n",
       "      <td>1074</td>\n",
       "      <td>6</td>\n",
       "      <td>0</td>\n",
       "    </tr>\n",
       "    <tr>\n",
       "      <th>12712</th>\n",
       "      <td>1074</td>\n",
       "      <td>1</td>\n",
       "      <td>0</td>\n",
       "    </tr>\n",
       "    <tr>\n",
       "      <th>12714</th>\n",
       "      <td>1074</td>\n",
       "      <td>9</td>\n",
       "      <td>0</td>\n",
       "    </tr>\n",
       "    <tr>\n",
       "      <th>12715</th>\n",
       "      <td>1074</td>\n",
       "      <td>3</td>\n",
       "      <td>0</td>\n",
       "    </tr>\n",
       "  </tbody>\n",
       "</table>\n",
       "<p>4114 rows × 3 columns</p>\n",
       "</div>"
      ],
      "text/plain": [
       "       raceId  constructorId  wins\n",
       "0          18              1     1\n",
       "1          18              2     0\n",
       "2          18              3     0\n",
       "3          18              4     0\n",
       "4          18              5     0\n",
       "...       ...            ...   ...\n",
       "12704    1073              3     0\n",
       "12710    1074              6     0\n",
       "12712    1074              1     0\n",
       "12714    1074              9     0\n",
       "12715    1074              3     0\n",
       "\n",
       "[4114 rows x 3 columns]"
      ]
     },
     "execution_count": 28,
     "metadata": {},
     "output_type": "execute_result"
    }
   ],
   "source": [
    "Constructor_Standings_subset = Constructor_Standings[(Constructor_Standings[\"constructorId\"] == 1) | (Constructor_Standings[\"constructorId\"] == 2) | (Constructor_Standings[\"constructorId\"] == 3)| (Constructor_Standings[\"constructorId\"] == 4)| (Constructor_Standings[\"constructorId\"] == 5)| (Constructor_Standings[\"constructorId\"] == 6)| (Constructor_Standings[\"constructorId\"] == 7)| (Constructor_Standings[\"constructorId\"] == 8)| (Constructor_Standings[\"constructorId\"] == 9)| (Constructor_Standings[\"constructorId\"] == 10)]\n",
    "Constructor_Standings_subset"
   ]
  },
  {
   "cell_type": "markdown",
   "metadata": {},
   "source": [
    "## 2.3 Constructors<a name=\"step2.3\"></a>"
   ]
  },
  {
   "cell_type": "code",
   "execution_count": 29,
   "metadata": {},
   "outputs": [
    {
     "data": {
      "text/html": [
       "<div>\n",
       "<style scoped>\n",
       "    .dataframe tbody tr th:only-of-type {\n",
       "        vertical-align: middle;\n",
       "    }\n",
       "\n",
       "    .dataframe tbody tr th {\n",
       "        vertical-align: top;\n",
       "    }\n",
       "\n",
       "    .dataframe thead th {\n",
       "        text-align: right;\n",
       "    }\n",
       "</style>\n",
       "<table border=\"1\" class=\"dataframe\">\n",
       "  <thead>\n",
       "    <tr style=\"text-align: right;\">\n",
       "      <th></th>\n",
       "      <th>constructorId</th>\n",
       "      <th>name</th>\n",
       "    </tr>\n",
       "  </thead>\n",
       "  <tbody>\n",
       "    <tr>\n",
       "      <th>0</th>\n",
       "      <td>1</td>\n",
       "      <td>McLaren</td>\n",
       "    </tr>\n",
       "    <tr>\n",
       "      <th>1</th>\n",
       "      <td>2</td>\n",
       "      <td>BMW Sauber</td>\n",
       "    </tr>\n",
       "    <tr>\n",
       "      <th>2</th>\n",
       "      <td>3</td>\n",
       "      <td>Williams</td>\n",
       "    </tr>\n",
       "    <tr>\n",
       "      <th>3</th>\n",
       "      <td>4</td>\n",
       "      <td>Renault</td>\n",
       "    </tr>\n",
       "    <tr>\n",
       "      <th>4</th>\n",
       "      <td>5</td>\n",
       "      <td>Toro Rosso</td>\n",
       "    </tr>\n",
       "    <tr>\n",
       "      <th>...</th>\n",
       "      <td>...</td>\n",
       "      <td>...</td>\n",
       "    </tr>\n",
       "    <tr>\n",
       "      <th>206</th>\n",
       "      <td>209</td>\n",
       "      <td>Manor Marussia</td>\n",
       "    </tr>\n",
       "    <tr>\n",
       "      <th>207</th>\n",
       "      <td>210</td>\n",
       "      <td>Haas F1 Team</td>\n",
       "    </tr>\n",
       "    <tr>\n",
       "      <th>208</th>\n",
       "      <td>211</td>\n",
       "      <td>Racing Point</td>\n",
       "    </tr>\n",
       "    <tr>\n",
       "      <th>209</th>\n",
       "      <td>213</td>\n",
       "      <td>AlphaTauri</td>\n",
       "    </tr>\n",
       "    <tr>\n",
       "      <th>210</th>\n",
       "      <td>214</td>\n",
       "      <td>Alpine F1 Team</td>\n",
       "    </tr>\n",
       "  </tbody>\n",
       "</table>\n",
       "<p>211 rows × 2 columns</p>\n",
       "</div>"
      ],
      "text/plain": [
       "     constructorId            name\n",
       "0                1         McLaren\n",
       "1                2      BMW Sauber\n",
       "2                3        Williams\n",
       "3                4         Renault\n",
       "4                5      Toro Rosso\n",
       "..             ...             ...\n",
       "206            209  Manor Marussia\n",
       "207            210    Haas F1 Team\n",
       "208            211    Racing Point\n",
       "209            213      AlphaTauri\n",
       "210            214  Alpine F1 Team\n",
       "\n",
       "[211 rows x 2 columns]"
      ]
     },
     "execution_count": 29,
     "metadata": {},
     "output_type": "execute_result"
    }
   ],
   "source": [
    "Constructors = Constructors[['constructorId','name']]\n",
    "Constructors"
   ]
  },
  {
   "cell_type": "code",
   "execution_count": 30,
   "metadata": {},
   "outputs": [
    {
     "data": {
      "text/html": [
       "<div>\n",
       "<style scoped>\n",
       "    .dataframe tbody tr th:only-of-type {\n",
       "        vertical-align: middle;\n",
       "    }\n",
       "\n",
       "    .dataframe tbody tr th {\n",
       "        vertical-align: top;\n",
       "    }\n",
       "\n",
       "    .dataframe thead th {\n",
       "        text-align: right;\n",
       "    }\n",
       "</style>\n",
       "<table border=\"1\" class=\"dataframe\">\n",
       "  <thead>\n",
       "    <tr style=\"text-align: right;\">\n",
       "      <th></th>\n",
       "      <th>constructorId</th>\n",
       "      <th>name</th>\n",
       "    </tr>\n",
       "  </thead>\n",
       "  <tbody>\n",
       "    <tr>\n",
       "      <th>0</th>\n",
       "      <td>1</td>\n",
       "      <td>McLaren</td>\n",
       "    </tr>\n",
       "    <tr>\n",
       "      <th>1</th>\n",
       "      <td>2</td>\n",
       "      <td>BMW Sauber</td>\n",
       "    </tr>\n",
       "    <tr>\n",
       "      <th>2</th>\n",
       "      <td>3</td>\n",
       "      <td>Williams</td>\n",
       "    </tr>\n",
       "    <tr>\n",
       "      <th>3</th>\n",
       "      <td>4</td>\n",
       "      <td>Renault</td>\n",
       "    </tr>\n",
       "    <tr>\n",
       "      <th>4</th>\n",
       "      <td>5</td>\n",
       "      <td>Toro Rosso</td>\n",
       "    </tr>\n",
       "    <tr>\n",
       "      <th>5</th>\n",
       "      <td>6</td>\n",
       "      <td>Ferrari</td>\n",
       "    </tr>\n",
       "    <tr>\n",
       "      <th>6</th>\n",
       "      <td>7</td>\n",
       "      <td>Toyota</td>\n",
       "    </tr>\n",
       "    <tr>\n",
       "      <th>7</th>\n",
       "      <td>8</td>\n",
       "      <td>Super Aguri</td>\n",
       "    </tr>\n",
       "    <tr>\n",
       "      <th>8</th>\n",
       "      <td>9</td>\n",
       "      <td>Red Bull</td>\n",
       "    </tr>\n",
       "    <tr>\n",
       "      <th>9</th>\n",
       "      <td>10</td>\n",
       "      <td>Force India</td>\n",
       "    </tr>\n",
       "  </tbody>\n",
       "</table>\n",
       "</div>"
      ],
      "text/plain": [
       "   constructorId         name\n",
       "0              1      McLaren\n",
       "1              2   BMW Sauber\n",
       "2              3     Williams\n",
       "3              4      Renault\n",
       "4              5   Toro Rosso\n",
       "5              6      Ferrari\n",
       "6              7       Toyota\n",
       "7              8  Super Aguri\n",
       "8              9     Red Bull\n",
       "9             10  Force India"
      ]
     },
     "execution_count": 30,
     "metadata": {},
     "output_type": "execute_result"
    }
   ],
   "source": [
    "Constructors_subset = Constructors[(Constructors[\"constructorId\"] == 1) | (Constructors[\"constructorId\"] == 2) | (Constructors[\"constructorId\"] == 3)| (Constructors[\"constructorId\"] == 4)| (Constructors[\"constructorId\"] == 5)| (Constructors[\"constructorId\"] == 6)| (Constructors[\"constructorId\"] == 7)| (Constructors[\"constructorId\"] == 8)| (Constructors[\"constructorId\"] == 9)| (Constructors[\"constructorId\"] == 10)]\n",
    "Constructors_subset\n"
   ]
  },
  {
   "cell_type": "markdown",
   "metadata": {},
   "source": [
    "#### From the constructors subset, we can see that we will be predicting for \"McLaren\" , \"BMW Sauber\" ,\"Williams\", \"Renault\",\"Toro Rosso\",\"Ferrari\",\"Toyota\",\"Super Aguri\",\"Red Bull\" and \"Force India\"."
   ]
  },
  {
   "cell_type": "markdown",
   "metadata": {},
   "source": [
    "## 2.4 Results<a name=\"step2.4\"></a>"
   ]
  },
  {
   "cell_type": "code",
   "execution_count": 31,
   "metadata": {},
   "outputs": [
    {
     "data": {
      "text/html": [
       "<div>\n",
       "<style scoped>\n",
       "    .dataframe tbody tr th:only-of-type {\n",
       "        vertical-align: middle;\n",
       "    }\n",
       "\n",
       "    .dataframe tbody tr th {\n",
       "        vertical-align: top;\n",
       "    }\n",
       "\n",
       "    .dataframe thead th {\n",
       "        text-align: right;\n",
       "    }\n",
       "</style>\n",
       "<table border=\"1\" class=\"dataframe\">\n",
       "  <thead>\n",
       "    <tr style=\"text-align: right;\">\n",
       "      <th></th>\n",
       "      <th>raceId</th>\n",
       "      <th>constructorId</th>\n",
       "      <th>grid</th>\n",
       "      <th>positionOrder</th>\n",
       "      <th>milliseconds</th>\n",
       "      <th>fastestLapTime</th>\n",
       "      <th>fastestLapSpeed</th>\n",
       "    </tr>\n",
       "  </thead>\n",
       "  <tbody>\n",
       "    <tr>\n",
       "      <th>0</th>\n",
       "      <td>18</td>\n",
       "      <td>1</td>\n",
       "      <td>1</td>\n",
       "      <td>1</td>\n",
       "      <td>5690616</td>\n",
       "      <td>01:27.5</td>\n",
       "      <td>218.3</td>\n",
       "    </tr>\n",
       "    <tr>\n",
       "      <th>1</th>\n",
       "      <td>18</td>\n",
       "      <td>2</td>\n",
       "      <td>5</td>\n",
       "      <td>2</td>\n",
       "      <td>5696094</td>\n",
       "      <td>01:27.7</td>\n",
       "      <td>217.586</td>\n",
       "    </tr>\n",
       "    <tr>\n",
       "      <th>2</th>\n",
       "      <td>18</td>\n",
       "      <td>3</td>\n",
       "      <td>7</td>\n",
       "      <td>3</td>\n",
       "      <td>5698779</td>\n",
       "      <td>01:28.1</td>\n",
       "      <td>216.719</td>\n",
       "    </tr>\n",
       "    <tr>\n",
       "      <th>3</th>\n",
       "      <td>18</td>\n",
       "      <td>4</td>\n",
       "      <td>11</td>\n",
       "      <td>4</td>\n",
       "      <td>5707797</td>\n",
       "      <td>01:28.6</td>\n",
       "      <td>215.464</td>\n",
       "    </tr>\n",
       "    <tr>\n",
       "      <th>4</th>\n",
       "      <td>18</td>\n",
       "      <td>1</td>\n",
       "      <td>3</td>\n",
       "      <td>5</td>\n",
       "      <td>5708630</td>\n",
       "      <td>01:27.4</td>\n",
       "      <td>218.385</td>\n",
       "    </tr>\n",
       "    <tr>\n",
       "      <th>...</th>\n",
       "      <td>...</td>\n",
       "      <td>...</td>\n",
       "      <td>...</td>\n",
       "      <td>...</td>\n",
       "      <td>...</td>\n",
       "      <td>...</td>\n",
       "      <td>...</td>\n",
       "    </tr>\n",
       "    <tr>\n",
       "      <th>25394</th>\n",
       "      <td>1073</td>\n",
       "      <td>9</td>\n",
       "      <td>4</td>\n",
       "      <td>15</td>\n",
       "      <td>\\N</td>\n",
       "      <td>01:26.4</td>\n",
       "      <td>219.993</td>\n",
       "    </tr>\n",
       "    <tr>\n",
       "      <th>25395</th>\n",
       "      <td>1073</td>\n",
       "      <td>3</td>\n",
       "      <td>16</td>\n",
       "      <td>16</td>\n",
       "      <td>\\N</td>\n",
       "      <td>01:29.3</td>\n",
       "      <td>212.912</td>\n",
       "    </tr>\n",
       "    <tr>\n",
       "      <th>25396</th>\n",
       "      <td>1073</td>\n",
       "      <td>51</td>\n",
       "      <td>14</td>\n",
       "      <td>17</td>\n",
       "      <td>\\N</td>\n",
       "      <td>01:29.4</td>\n",
       "      <td>212.557</td>\n",
       "    </tr>\n",
       "    <tr>\n",
       "      <th>25397</th>\n",
       "      <td>1073</td>\n",
       "      <td>3</td>\n",
       "      <td>17</td>\n",
       "      <td>18</td>\n",
       "      <td>\\N</td>\n",
       "      <td>01:30.6</td>\n",
       "      <td>209.732</td>\n",
       "    </tr>\n",
       "    <tr>\n",
       "      <th>25398</th>\n",
       "      <td>1073</td>\n",
       "      <td>51</td>\n",
       "      <td>18</td>\n",
       "      <td>19</td>\n",
       "      <td>\\N</td>\n",
       "      <td>01:29.7</td>\n",
       "      <td>211.951</td>\n",
       "    </tr>\n",
       "  </tbody>\n",
       "</table>\n",
       "<p>25399 rows × 7 columns</p>\n",
       "</div>"
      ],
      "text/plain": [
       "       raceId  constructorId  grid  positionOrder milliseconds fastestLapTime  \\\n",
       "0          18              1     1              1      5690616        01:27.5   \n",
       "1          18              2     5              2      5696094        01:27.7   \n",
       "2          18              3     7              3      5698779        01:28.1   \n",
       "3          18              4    11              4      5707797        01:28.6   \n",
       "4          18              1     3              5      5708630        01:27.4   \n",
       "...       ...            ...   ...            ...          ...            ...   \n",
       "25394    1073              9     4             15           \\N        01:26.4   \n",
       "25395    1073              3    16             16           \\N        01:29.3   \n",
       "25396    1073             51    14             17           \\N        01:29.4   \n",
       "25397    1073              3    17             18           \\N        01:30.6   \n",
       "25398    1073             51    18             19           \\N        01:29.7   \n",
       "\n",
       "      fastestLapSpeed  \n",
       "0               218.3  \n",
       "1             217.586  \n",
       "2             216.719  \n",
       "3             215.464  \n",
       "4             218.385  \n",
       "...               ...  \n",
       "25394         219.993  \n",
       "25395         212.912  \n",
       "25396         212.557  \n",
       "25397         209.732  \n",
       "25398         211.951  \n",
       "\n",
       "[25399 rows x 7 columns]"
      ]
     },
     "execution_count": 31,
     "metadata": {},
     "output_type": "execute_result"
    }
   ],
   "source": [
    "Results = Results[['raceId','constructorId','grid','positionOrder','milliseconds','fastestLapTime','fastestLapSpeed']]\n",
    "Results"
   ]
  },
  {
   "cell_type": "code",
   "execution_count": 32,
   "metadata": {},
   "outputs": [
    {
     "data": {
      "text/html": [
       "<div>\n",
       "<style scoped>\n",
       "    .dataframe tbody tr th:only-of-type {\n",
       "        vertical-align: middle;\n",
       "    }\n",
       "\n",
       "    .dataframe tbody tr th {\n",
       "        vertical-align: top;\n",
       "    }\n",
       "\n",
       "    .dataframe thead th {\n",
       "        text-align: right;\n",
       "    }\n",
       "</style>\n",
       "<table border=\"1\" class=\"dataframe\">\n",
       "  <thead>\n",
       "    <tr style=\"text-align: right;\">\n",
       "      <th></th>\n",
       "      <th>raceId</th>\n",
       "      <th>constructorId</th>\n",
       "      <th>grid</th>\n",
       "      <th>positionOrder</th>\n",
       "      <th>milliseconds</th>\n",
       "      <th>fastestLapTime</th>\n",
       "      <th>fastestLapSpeed</th>\n",
       "    </tr>\n",
       "  </thead>\n",
       "  <tbody>\n",
       "    <tr>\n",
       "      <th>0</th>\n",
       "      <td>18</td>\n",
       "      <td>1</td>\n",
       "      <td>1</td>\n",
       "      <td>1</td>\n",
       "      <td>5690616</td>\n",
       "      <td>01:27.5</td>\n",
       "      <td>218.3</td>\n",
       "    </tr>\n",
       "    <tr>\n",
       "      <th>1</th>\n",
       "      <td>18</td>\n",
       "      <td>2</td>\n",
       "      <td>5</td>\n",
       "      <td>2</td>\n",
       "      <td>5696094</td>\n",
       "      <td>01:27.7</td>\n",
       "      <td>217.586</td>\n",
       "    </tr>\n",
       "    <tr>\n",
       "      <th>2</th>\n",
       "      <td>18</td>\n",
       "      <td>3</td>\n",
       "      <td>7</td>\n",
       "      <td>3</td>\n",
       "      <td>5698779</td>\n",
       "      <td>01:28.1</td>\n",
       "      <td>216.719</td>\n",
       "    </tr>\n",
       "    <tr>\n",
       "      <th>3</th>\n",
       "      <td>18</td>\n",
       "      <td>4</td>\n",
       "      <td>11</td>\n",
       "      <td>4</td>\n",
       "      <td>5707797</td>\n",
       "      <td>01:28.6</td>\n",
       "      <td>215.464</td>\n",
       "    </tr>\n",
       "    <tr>\n",
       "      <th>4</th>\n",
       "      <td>18</td>\n",
       "      <td>1</td>\n",
       "      <td>3</td>\n",
       "      <td>5</td>\n",
       "      <td>5708630</td>\n",
       "      <td>01:27.4</td>\n",
       "      <td>218.385</td>\n",
       "    </tr>\n",
       "    <tr>\n",
       "      <th>...</th>\n",
       "      <td>...</td>\n",
       "      <td>...</td>\n",
       "      <td>...</td>\n",
       "      <td>...</td>\n",
       "      <td>...</td>\n",
       "      <td>...</td>\n",
       "      <td>...</td>\n",
       "    </tr>\n",
       "    <tr>\n",
       "      <th>25389</th>\n",
       "      <td>1073</td>\n",
       "      <td>6</td>\n",
       "      <td>7</td>\n",
       "      <td>10</td>\n",
       "      <td>5483402</td>\n",
       "      <td>01:28.4</td>\n",
       "      <td>214.983</td>\n",
       "    </tr>\n",
       "    <tr>\n",
       "      <th>25391</th>\n",
       "      <td>1073</td>\n",
       "      <td>1</td>\n",
       "      <td>10</td>\n",
       "      <td>12</td>\n",
       "      <td>\\N</td>\n",
       "      <td>01:28.7</td>\n",
       "      <td>214.28</td>\n",
       "    </tr>\n",
       "    <tr>\n",
       "      <th>25394</th>\n",
       "      <td>1073</td>\n",
       "      <td>9</td>\n",
       "      <td>4</td>\n",
       "      <td>15</td>\n",
       "      <td>\\N</td>\n",
       "      <td>01:26.4</td>\n",
       "      <td>219.993</td>\n",
       "    </tr>\n",
       "    <tr>\n",
       "      <th>25395</th>\n",
       "      <td>1073</td>\n",
       "      <td>3</td>\n",
       "      <td>16</td>\n",
       "      <td>16</td>\n",
       "      <td>\\N</td>\n",
       "      <td>01:29.3</td>\n",
       "      <td>212.912</td>\n",
       "    </tr>\n",
       "    <tr>\n",
       "      <th>25397</th>\n",
       "      <td>1073</td>\n",
       "      <td>3</td>\n",
       "      <td>17</td>\n",
       "      <td>18</td>\n",
       "      <td>\\N</td>\n",
       "      <td>01:30.6</td>\n",
       "      <td>209.732</td>\n",
       "    </tr>\n",
       "  </tbody>\n",
       "</table>\n",
       "<p>8528 rows × 7 columns</p>\n",
       "</div>"
      ],
      "text/plain": [
       "       raceId  constructorId  grid  positionOrder milliseconds fastestLapTime  \\\n",
       "0          18              1     1              1      5690616        01:27.5   \n",
       "1          18              2     5              2      5696094        01:27.7   \n",
       "2          18              3     7              3      5698779        01:28.1   \n",
       "3          18              4    11              4      5707797        01:28.6   \n",
       "4          18              1     3              5      5708630        01:27.4   \n",
       "...       ...            ...   ...            ...          ...            ...   \n",
       "25389    1073              6     7             10      5483402        01:28.4   \n",
       "25391    1073              1    10             12           \\N        01:28.7   \n",
       "25394    1073              9     4             15           \\N        01:26.4   \n",
       "25395    1073              3    16             16           \\N        01:29.3   \n",
       "25397    1073              3    17             18           \\N        01:30.6   \n",
       "\n",
       "      fastestLapSpeed  \n",
       "0               218.3  \n",
       "1             217.586  \n",
       "2             216.719  \n",
       "3             215.464  \n",
       "4             218.385  \n",
       "...               ...  \n",
       "25389         214.983  \n",
       "25391          214.28  \n",
       "25394         219.993  \n",
       "25395         212.912  \n",
       "25397         209.732  \n",
       "\n",
       "[8528 rows x 7 columns]"
      ]
     },
     "execution_count": 32,
     "metadata": {},
     "output_type": "execute_result"
    }
   ],
   "source": [
    "Results_subset = Results[(Results[\"constructorId\"] == 1) | (Results[\"constructorId\"] == 2) | (Results[\"constructorId\"] == 3)| (Results[\"constructorId\"] == 4)| (Results[\"constructorId\"] == 5)| (Results[\"constructorId\"] == 6)| (Results[\"constructorId\"] == 7)| (Results[\"constructorId\"] == 8)| (Results[\"constructorId\"] == 9)| (Results[\"constructorId\"] == 10)]\n",
    "Results_subset"
   ]
  },
  {
   "cell_type": "markdown",
   "metadata": {},
   "source": [
    "## 2.5.Merging and Joining<a name=\"step2.5\"></a>"
   ]
  },
  {
   "cell_type": "code",
   "execution_count": 33,
   "metadata": {},
   "outputs": [],
   "source": [
    "#pd.merge(data_constructor_results_subset,Constructor_Standings_subset,Constructors_subset,Results_subset,on='constructorId',how='inner').drop_duplicates()"
   ]
  },
  {
   "cell_type": "code",
   "execution_count": 34,
   "metadata": {},
   "outputs": [
    {
     "data": {
      "text/html": [
       "<div>\n",
       "<style scoped>\n",
       "    .dataframe tbody tr th:only-of-type {\n",
       "        vertical-align: middle;\n",
       "    }\n",
       "\n",
       "    .dataframe tbody tr th {\n",
       "        vertical-align: top;\n",
       "    }\n",
       "\n",
       "    .dataframe thead th {\n",
       "        text-align: right;\n",
       "    }\n",
       "</style>\n",
       "<table border=\"1\" class=\"dataframe\">\n",
       "  <thead>\n",
       "    <tr style=\"text-align: right;\">\n",
       "      <th></th>\n",
       "      <th>constructorId</th>\n",
       "      <th>name</th>\n",
       "      <th>raceId</th>\n",
       "      <th>grid</th>\n",
       "      <th>positionOrder</th>\n",
       "      <th>milliseconds</th>\n",
       "      <th>fastestLapTime</th>\n",
       "      <th>fastestLapSpeed</th>\n",
       "    </tr>\n",
       "  </thead>\n",
       "  <tbody>\n",
       "    <tr>\n",
       "      <th>0</th>\n",
       "      <td>1</td>\n",
       "      <td>McLaren</td>\n",
       "      <td>18</td>\n",
       "      <td>1</td>\n",
       "      <td>1</td>\n",
       "      <td>5690616</td>\n",
       "      <td>01:27.5</td>\n",
       "      <td>218.3</td>\n",
       "    </tr>\n",
       "    <tr>\n",
       "      <th>1</th>\n",
       "      <td>1</td>\n",
       "      <td>McLaren</td>\n",
       "      <td>18</td>\n",
       "      <td>3</td>\n",
       "      <td>5</td>\n",
       "      <td>5708630</td>\n",
       "      <td>01:27.4</td>\n",
       "      <td>218.385</td>\n",
       "    </tr>\n",
       "    <tr>\n",
       "      <th>2</th>\n",
       "      <td>1</td>\n",
       "      <td>McLaren</td>\n",
       "      <td>19</td>\n",
       "      <td>8</td>\n",
       "      <td>3</td>\n",
       "      <td>5517005</td>\n",
       "      <td>01:35.9</td>\n",
       "      <td>208.031</td>\n",
       "    </tr>\n",
       "    <tr>\n",
       "      <th>3</th>\n",
       "      <td>1</td>\n",
       "      <td>McLaren</td>\n",
       "      <td>19</td>\n",
       "      <td>9</td>\n",
       "      <td>5</td>\n",
       "      <td>5525103</td>\n",
       "      <td>01:35.5</td>\n",
       "      <td>209.033</td>\n",
       "    </tr>\n",
       "    <tr>\n",
       "      <th>4</th>\n",
       "      <td>1</td>\n",
       "      <td>McLaren</td>\n",
       "      <td>20</td>\n",
       "      <td>5</td>\n",
       "      <td>5</td>\n",
       "      <td>5493759</td>\n",
       "      <td>01:33.2</td>\n",
       "      <td>209.062</td>\n",
       "    </tr>\n",
       "    <tr>\n",
       "      <th>...</th>\n",
       "      <td>...</td>\n",
       "      <td>...</td>\n",
       "      <td>...</td>\n",
       "      <td>...</td>\n",
       "      <td>...</td>\n",
       "      <td>...</td>\n",
       "      <td>...</td>\n",
       "      <td>...</td>\n",
       "    </tr>\n",
       "    <tr>\n",
       "      <th>8523</th>\n",
       "      <td>10</td>\n",
       "      <td>Force India</td>\n",
       "      <td>1007</td>\n",
       "      <td>13</td>\n",
       "      <td>18</td>\n",
       "      <td>\\N</td>\n",
       "      <td>01:23.5</td>\n",
       "      <td>185.461</td>\n",
       "    </tr>\n",
       "    <tr>\n",
       "      <th>8524</th>\n",
       "      <td>10</td>\n",
       "      <td>Force India</td>\n",
       "      <td>1008</td>\n",
       "      <td>12</td>\n",
       "      <td>10</td>\n",
       "      <td>\\N</td>\n",
       "      <td>01:12.5</td>\n",
       "      <td>214.046</td>\n",
       "    </tr>\n",
       "    <tr>\n",
       "      <th>8525</th>\n",
       "      <td>10</td>\n",
       "      <td>Force India</td>\n",
       "      <td>1008</td>\n",
       "      <td>18</td>\n",
       "      <td>15</td>\n",
       "      <td>\\N</td>\n",
       "      <td>01:12.4</td>\n",
       "      <td>214.401</td>\n",
       "    </tr>\n",
       "    <tr>\n",
       "      <th>8526</th>\n",
       "      <td>10</td>\n",
       "      <td>Force India</td>\n",
       "      <td>1009</td>\n",
       "      <td>14</td>\n",
       "      <td>8</td>\n",
       "      <td>6071657</td>\n",
       "      <td>01:42.8</td>\n",
       "      <td>194.467</td>\n",
       "    </tr>\n",
       "    <tr>\n",
       "      <th>8527</th>\n",
       "      <td>10</td>\n",
       "      <td>Force India</td>\n",
       "      <td>1009</td>\n",
       "      <td>9</td>\n",
       "      <td>17</td>\n",
       "      <td>\\N</td>\n",
       "      <td>01:43.6</td>\n",
       "      <td>193.012</td>\n",
       "    </tr>\n",
       "  </tbody>\n",
       "</table>\n",
       "<p>8528 rows × 8 columns</p>\n",
       "</div>"
      ],
      "text/plain": [
       "      constructorId         name  raceId  grid  positionOrder milliseconds  \\\n",
       "0                 1      McLaren      18     1              1      5690616   \n",
       "1                 1      McLaren      18     3              5      5708630   \n",
       "2                 1      McLaren      19     8              3      5517005   \n",
       "3                 1      McLaren      19     9              5      5525103   \n",
       "4                 1      McLaren      20     5              5      5493759   \n",
       "...             ...          ...     ...   ...            ...          ...   \n",
       "8523             10  Force India    1007    13             18           \\N   \n",
       "8524             10  Force India    1008    12             10           \\N   \n",
       "8525             10  Force India    1008    18             15           \\N   \n",
       "8526             10  Force India    1009    14              8      6071657   \n",
       "8527             10  Force India    1009     9             17           \\N   \n",
       "\n",
       "     fastestLapTime fastestLapSpeed  \n",
       "0           01:27.5           218.3  \n",
       "1           01:27.4         218.385  \n",
       "2           01:35.9         208.031  \n",
       "3           01:35.5         209.033  \n",
       "4           01:33.2         209.062  \n",
       "...             ...             ...  \n",
       "8523        01:23.5         185.461  \n",
       "8524        01:12.5         214.046  \n",
       "8525        01:12.4         214.401  \n",
       "8526        01:42.8         194.467  \n",
       "8527        01:43.6         193.012  \n",
       "\n",
       "[8528 rows x 8 columns]"
      ]
     },
     "execution_count": 34,
     "metadata": {},
     "output_type": "execute_result"
    }
   ],
   "source": [
    "merge_1 = pd.merge(Constructors_subset,Results_subset,on=['constructorId'],how='inner')\n",
    "merge_1\n",
    "# This merge gives the name"
   ]
  },
  {
   "cell_type": "code",
   "execution_count": 35,
   "metadata": {},
   "outputs": [
    {
     "data": {
      "text/html": [
       "<div>\n",
       "<style scoped>\n",
       "    .dataframe tbody tr th:only-of-type {\n",
       "        vertical-align: middle;\n",
       "    }\n",
       "\n",
       "    .dataframe tbody tr th {\n",
       "        vertical-align: top;\n",
       "    }\n",
       "\n",
       "    .dataframe thead th {\n",
       "        text-align: right;\n",
       "    }\n",
       "</style>\n",
       "<table border=\"1\" class=\"dataframe\">\n",
       "  <thead>\n",
       "    <tr style=\"text-align: right;\">\n",
       "      <th></th>\n",
       "      <th>raceId</th>\n",
       "      <th>constructorId</th>\n",
       "      <th>points</th>\n",
       "      <th>wins</th>\n",
       "    </tr>\n",
       "  </thead>\n",
       "  <tbody>\n",
       "    <tr>\n",
       "      <th>0</th>\n",
       "      <td>18</td>\n",
       "      <td>1</td>\n",
       "      <td>14.0</td>\n",
       "      <td>1</td>\n",
       "    </tr>\n",
       "    <tr>\n",
       "      <th>1</th>\n",
       "      <td>18</td>\n",
       "      <td>2</td>\n",
       "      <td>8.0</td>\n",
       "      <td>0</td>\n",
       "    </tr>\n",
       "    <tr>\n",
       "      <th>2</th>\n",
       "      <td>18</td>\n",
       "      <td>3</td>\n",
       "      <td>9.0</td>\n",
       "      <td>0</td>\n",
       "    </tr>\n",
       "    <tr>\n",
       "      <th>3</th>\n",
       "      <td>18</td>\n",
       "      <td>4</td>\n",
       "      <td>5.0</td>\n",
       "      <td>0</td>\n",
       "    </tr>\n",
       "    <tr>\n",
       "      <th>4</th>\n",
       "      <td>18</td>\n",
       "      <td>5</td>\n",
       "      <td>2.0</td>\n",
       "      <td>0</td>\n",
       "    </tr>\n",
       "    <tr>\n",
       "      <th>...</th>\n",
       "      <td>...</td>\n",
       "      <td>...</td>\n",
       "      <td>...</td>\n",
       "      <td>...</td>\n",
       "    </tr>\n",
       "    <tr>\n",
       "      <th>4052</th>\n",
       "      <td>1072</td>\n",
       "      <td>3</td>\n",
       "      <td>0.0</td>\n",
       "      <td>0</td>\n",
       "    </tr>\n",
       "    <tr>\n",
       "      <th>4053</th>\n",
       "      <td>1073</td>\n",
       "      <td>9</td>\n",
       "      <td>26.0</td>\n",
       "      <td>11</td>\n",
       "    </tr>\n",
       "    <tr>\n",
       "      <th>4054</th>\n",
       "      <td>1073</td>\n",
       "      <td>6</td>\n",
       "      <td>16.0</td>\n",
       "      <td>0</td>\n",
       "    </tr>\n",
       "    <tr>\n",
       "      <th>4055</th>\n",
       "      <td>1073</td>\n",
       "      <td>1</td>\n",
       "      <td>6.0</td>\n",
       "      <td>1</td>\n",
       "    </tr>\n",
       "    <tr>\n",
       "      <th>4056</th>\n",
       "      <td>1073</td>\n",
       "      <td>3</td>\n",
       "      <td>0.0</td>\n",
       "      <td>0</td>\n",
       "    </tr>\n",
       "  </tbody>\n",
       "</table>\n",
       "<p>4057 rows × 4 columns</p>\n",
       "</div>"
      ],
      "text/plain": [
       "      raceId  constructorId  points  wins\n",
       "0         18              1    14.0     1\n",
       "1         18              2     8.0     0\n",
       "2         18              3     9.0     0\n",
       "3         18              4     5.0     0\n",
       "4         18              5     2.0     0\n",
       "...      ...            ...     ...   ...\n",
       "4052    1072              3     0.0     0\n",
       "4053    1073              9    26.0    11\n",
       "4054    1073              6    16.0     0\n",
       "4055    1073              1     6.0     1\n",
       "4056    1073              3     0.0     0\n",
       "\n",
       "[4057 rows x 4 columns]"
      ]
     },
     "execution_count": 35,
     "metadata": {},
     "output_type": "execute_result"
    }
   ],
   "source": [
    "merge_2 = pd.merge(data_constructor_results_subset,Constructor_Standings,on=['raceId','constructorId'],how='inner')\n",
    "merge_2\n",
    "#This merge shows how many points each constructor gotten and how many wins they got for the entire season"
   ]
  },
  {
   "cell_type": "code",
   "execution_count": 36,
   "metadata": {},
   "outputs": [
    {
     "data": {
      "text/html": [
       "<div>\n",
       "<style scoped>\n",
       "    .dataframe tbody tr th:only-of-type {\n",
       "        vertical-align: middle;\n",
       "    }\n",
       "\n",
       "    .dataframe tbody tr th {\n",
       "        vertical-align: top;\n",
       "    }\n",
       "\n",
       "    .dataframe thead th {\n",
       "        text-align: right;\n",
       "    }\n",
       "</style>\n",
       "<table border=\"1\" class=\"dataframe\">\n",
       "  <thead>\n",
       "    <tr style=\"text-align: right;\">\n",
       "      <th></th>\n",
       "      <th>constructorId</th>\n",
       "      <th>name</th>\n",
       "      <th>raceId</th>\n",
       "      <th>grid</th>\n",
       "      <th>positionOrder</th>\n",
       "      <th>milliseconds</th>\n",
       "      <th>fastestLapTime</th>\n",
       "      <th>fastestLapSpeed</th>\n",
       "      <th>points</th>\n",
       "      <th>wins</th>\n",
       "    </tr>\n",
       "  </thead>\n",
       "  <tbody>\n",
       "    <tr>\n",
       "      <th>0</th>\n",
       "      <td>1</td>\n",
       "      <td>McLaren</td>\n",
       "      <td>18</td>\n",
       "      <td>1</td>\n",
       "      <td>1</td>\n",
       "      <td>5690616</td>\n",
       "      <td>01:27.5</td>\n",
       "      <td>218.3</td>\n",
       "      <td>14.0</td>\n",
       "      <td>1</td>\n",
       "    </tr>\n",
       "    <tr>\n",
       "      <th>1</th>\n",
       "      <td>1</td>\n",
       "      <td>McLaren</td>\n",
       "      <td>18</td>\n",
       "      <td>3</td>\n",
       "      <td>5</td>\n",
       "      <td>5708630</td>\n",
       "      <td>01:27.4</td>\n",
       "      <td>218.385</td>\n",
       "      <td>14.0</td>\n",
       "      <td>1</td>\n",
       "    </tr>\n",
       "    <tr>\n",
       "      <th>2</th>\n",
       "      <td>1</td>\n",
       "      <td>McLaren</td>\n",
       "      <td>19</td>\n",
       "      <td>8</td>\n",
       "      <td>3</td>\n",
       "      <td>5517005</td>\n",
       "      <td>01:35.9</td>\n",
       "      <td>208.031</td>\n",
       "      <td>10.0</td>\n",
       "      <td>1</td>\n",
       "    </tr>\n",
       "    <tr>\n",
       "      <th>3</th>\n",
       "      <td>1</td>\n",
       "      <td>McLaren</td>\n",
       "      <td>19</td>\n",
       "      <td>9</td>\n",
       "      <td>5</td>\n",
       "      <td>5525103</td>\n",
       "      <td>01:35.5</td>\n",
       "      <td>209.033</td>\n",
       "      <td>10.0</td>\n",
       "      <td>1</td>\n",
       "    </tr>\n",
       "    <tr>\n",
       "      <th>4</th>\n",
       "      <td>1</td>\n",
       "      <td>McLaren</td>\n",
       "      <td>20</td>\n",
       "      <td>5</td>\n",
       "      <td>5</td>\n",
       "      <td>5493759</td>\n",
       "      <td>01:33.2</td>\n",
       "      <td>209.062</td>\n",
       "      <td>4.0</td>\n",
       "      <td>1</td>\n",
       "    </tr>\n",
       "    <tr>\n",
       "      <th>...</th>\n",
       "      <td>...</td>\n",
       "      <td>...</td>\n",
       "      <td>...</td>\n",
       "      <td>...</td>\n",
       "      <td>...</td>\n",
       "      <td>...</td>\n",
       "      <td>...</td>\n",
       "      <td>...</td>\n",
       "      <td>...</td>\n",
       "      <td>...</td>\n",
       "    </tr>\n",
       "    <tr>\n",
       "      <th>8199</th>\n",
       "      <td>10</td>\n",
       "      <td>Force India</td>\n",
       "      <td>1007</td>\n",
       "      <td>13</td>\n",
       "      <td>18</td>\n",
       "      <td>\\N</td>\n",
       "      <td>01:23.5</td>\n",
       "      <td>185.461</td>\n",
       "      <td>0.0</td>\n",
       "      <td>0</td>\n",
       "    </tr>\n",
       "    <tr>\n",
       "      <th>8200</th>\n",
       "      <td>10</td>\n",
       "      <td>Force India</td>\n",
       "      <td>1008</td>\n",
       "      <td>12</td>\n",
       "      <td>10</td>\n",
       "      <td>\\N</td>\n",
       "      <td>01:12.5</td>\n",
       "      <td>214.046</td>\n",
       "      <td>1.0</td>\n",
       "      <td>0</td>\n",
       "    </tr>\n",
       "    <tr>\n",
       "      <th>8201</th>\n",
       "      <td>10</td>\n",
       "      <td>Force India</td>\n",
       "      <td>1008</td>\n",
       "      <td>18</td>\n",
       "      <td>15</td>\n",
       "      <td>\\N</td>\n",
       "      <td>01:12.4</td>\n",
       "      <td>214.401</td>\n",
       "      <td>1.0</td>\n",
       "      <td>0</td>\n",
       "    </tr>\n",
       "    <tr>\n",
       "      <th>8202</th>\n",
       "      <td>10</td>\n",
       "      <td>Force India</td>\n",
       "      <td>1009</td>\n",
       "      <td>14</td>\n",
       "      <td>8</td>\n",
       "      <td>6071657</td>\n",
       "      <td>01:42.8</td>\n",
       "      <td>194.467</td>\n",
       "      <td>4.0</td>\n",
       "      <td>0</td>\n",
       "    </tr>\n",
       "    <tr>\n",
       "      <th>8203</th>\n",
       "      <td>10</td>\n",
       "      <td>Force India</td>\n",
       "      <td>1009</td>\n",
       "      <td>9</td>\n",
       "      <td>17</td>\n",
       "      <td>\\N</td>\n",
       "      <td>01:43.6</td>\n",
       "      <td>193.012</td>\n",
       "      <td>4.0</td>\n",
       "      <td>0</td>\n",
       "    </tr>\n",
       "  </tbody>\n",
       "</table>\n",
       "<p>8204 rows × 10 columns</p>\n",
       "</div>"
      ],
      "text/plain": [
       "      constructorId         name  raceId  grid  positionOrder milliseconds  \\\n",
       "0                 1      McLaren      18     1              1      5690616   \n",
       "1                 1      McLaren      18     3              5      5708630   \n",
       "2                 1      McLaren      19     8              3      5517005   \n",
       "3                 1      McLaren      19     9              5      5525103   \n",
       "4                 1      McLaren      20     5              5      5493759   \n",
       "...             ...          ...     ...   ...            ...          ...   \n",
       "8199             10  Force India    1007    13             18           \\N   \n",
       "8200             10  Force India    1008    12             10           \\N   \n",
       "8201             10  Force India    1008    18             15           \\N   \n",
       "8202             10  Force India    1009    14              8      6071657   \n",
       "8203             10  Force India    1009     9             17           \\N   \n",
       "\n",
       "     fastestLapTime fastestLapSpeed  points  wins  \n",
       "0           01:27.5           218.3    14.0     1  \n",
       "1           01:27.4         218.385    14.0     1  \n",
       "2           01:35.9         208.031    10.0     1  \n",
       "3           01:35.5         209.033    10.0     1  \n",
       "4           01:33.2         209.062     4.0     1  \n",
       "...             ...             ...     ...   ...  \n",
       "8199        01:23.5         185.461     0.0     0  \n",
       "8200        01:12.5         214.046     1.0     0  \n",
       "8201        01:12.4         214.401     1.0     0  \n",
       "8202        01:42.8         194.467     4.0     0  \n",
       "8203        01:43.6         193.012     4.0     0  \n",
       "\n",
       "[8204 rows x 10 columns]"
      ]
     },
     "execution_count": 36,
     "metadata": {},
     "output_type": "execute_result"
    }
   ],
   "source": [
    "merge_df = pd.merge(merge_1,merge_2,on=['raceId','constructorId'],how='inner').drop_duplicates()\n",
    "merge_df"
   ]
  },
  {
   "cell_type": "markdown",
   "metadata": {},
   "source": [
    "# 3. Merged Data exploration and cleaning<a name=\"step3\"></a>\n",
    "<a href=\"#top\">Back to Table of contents</a>"
   ]
  },
  {
   "cell_type": "code",
   "execution_count": 37,
   "metadata": {},
   "outputs": [
    {
     "name": "stdout",
     "output_type": "stream",
     "text": [
      "<class 'pandas.core.frame.DataFrame'>\n",
      "Int64Index: 8204 entries, 0 to 8203\n",
      "Data columns (total 10 columns):\n",
      " #   Column           Non-Null Count  Dtype  \n",
      "---  ------           --------------  -----  \n",
      " 0   constructorId    8204 non-null   int64  \n",
      " 1   name             8204 non-null   object \n",
      " 2   raceId           8204 non-null   int64  \n",
      " 3   grid             8204 non-null   int64  \n",
      " 4   positionOrder    8204 non-null   int64  \n",
      " 5   milliseconds     8204 non-null   object \n",
      " 6   fastestLapTime   8204 non-null   object \n",
      " 7   fastestLapSpeed  8204 non-null   object \n",
      " 8   points           8204 non-null   float64\n",
      " 9   wins             8204 non-null   int64  \n",
      "dtypes: float64(1), int64(5), object(4)\n",
      "memory usage: 705.0+ KB\n"
     ]
    }
   ],
   "source": [
    "merge_df.info()"
   ]
  },
  {
   "cell_type": "markdown",
   "metadata": {},
   "source": [
    "## 3.1 To determine the categorical variables<a name=\"step3.1\"></a>"
   ]
  },
  {
   "cell_type": "code",
   "execution_count": 38,
   "metadata": {},
   "outputs": [
    {
     "data": {
      "text/plain": [
       "name               0.0\n",
       "milliseconds       0.0\n",
       "fastestLapTime     0.0\n",
       "fastestLapSpeed    0.0\n",
       "dtype: float64"
      ]
     },
     "execution_count": 38,
     "metadata": {},
     "output_type": "execute_result"
    }
   ],
   "source": [
    "#finding the categorical variables while showing missing vlaues\n",
    "cat_cols = [c for c in merge_df.columns if merge_df[c].dtype=='O']\n",
    "merge_df[cat_cols].isnull().mean().sort_values()\n",
    "# No missing values were found"
   ]
  },
  {
   "cell_type": "markdown",
   "metadata": {},
   "source": [
    "## 3.2 To determine the numerical variables<a name=\"step3.2\"></a>"
   ]
  },
  {
   "cell_type": "code",
   "execution_count": 39,
   "metadata": {},
   "outputs": [
    {
     "data": {
      "text/plain": [
       "constructorId    0.0\n",
       "raceId           0.0\n",
       "grid             0.0\n",
       "positionOrder    0.0\n",
       "points           0.0\n",
       "wins             0.0\n",
       "dtype: float64"
      ]
     },
     "execution_count": 39,
     "metadata": {},
     "output_type": "execute_result"
    }
   ],
   "source": [
    "#finding the numerical variables while showing missing vlaues\n",
    "num_cols = [c for c in merge_df if merge_df[c].dtype!='O']\n",
    "merge_df[num_cols].isnull().mean().sort_values()\n",
    "# No missing values were found"
   ]
  },
  {
   "cell_type": "markdown",
   "metadata": {},
   "source": [
    "## 3.3 Cleaning of merged data columns<a name=\"step3.3\"></a>\n",
    "\n"
   ]
  },
  {
   "cell_type": "code",
   "execution_count": 40,
   "metadata": {},
   "outputs": [
    {
     "data": {
      "text/html": [
       "<div>\n",
       "<style scoped>\n",
       "    .dataframe tbody tr th:only-of-type {\n",
       "        vertical-align: middle;\n",
       "    }\n",
       "\n",
       "    .dataframe tbody tr th {\n",
       "        vertical-align: top;\n",
       "    }\n",
       "\n",
       "    .dataframe thead th {\n",
       "        text-align: right;\n",
       "    }\n",
       "</style>\n",
       "<table border=\"1\" class=\"dataframe\">\n",
       "  <thead>\n",
       "    <tr style=\"text-align: right;\">\n",
       "      <th></th>\n",
       "      <th>constructorId</th>\n",
       "      <th>name</th>\n",
       "      <th>raceId</th>\n",
       "      <th>grid</th>\n",
       "      <th>positionOrder</th>\n",
       "      <th>milliseconds</th>\n",
       "      <th>fastestLapTime</th>\n",
       "      <th>fastestLapSpeed</th>\n",
       "      <th>points</th>\n",
       "      <th>wins</th>\n",
       "    </tr>\n",
       "  </thead>\n",
       "  <tbody>\n",
       "    <tr>\n",
       "      <th>0</th>\n",
       "      <td>1</td>\n",
       "      <td>McLaren</td>\n",
       "      <td>18</td>\n",
       "      <td>1</td>\n",
       "      <td>1</td>\n",
       "      <td>5690616</td>\n",
       "      <td>01:27.5</td>\n",
       "      <td>218.3</td>\n",
       "      <td>14.0</td>\n",
       "      <td>1</td>\n",
       "    </tr>\n",
       "    <tr>\n",
       "      <th>1</th>\n",
       "      <td>1</td>\n",
       "      <td>McLaren</td>\n",
       "      <td>18</td>\n",
       "      <td>3</td>\n",
       "      <td>5</td>\n",
       "      <td>5708630</td>\n",
       "      <td>01:27.4</td>\n",
       "      <td>218.385</td>\n",
       "      <td>14.0</td>\n",
       "      <td>1</td>\n",
       "    </tr>\n",
       "    <tr>\n",
       "      <th>2</th>\n",
       "      <td>1</td>\n",
       "      <td>McLaren</td>\n",
       "      <td>19</td>\n",
       "      <td>8</td>\n",
       "      <td>3</td>\n",
       "      <td>5517005</td>\n",
       "      <td>01:35.9</td>\n",
       "      <td>208.031</td>\n",
       "      <td>10.0</td>\n",
       "      <td>1</td>\n",
       "    </tr>\n",
       "    <tr>\n",
       "      <th>3</th>\n",
       "      <td>1</td>\n",
       "      <td>McLaren</td>\n",
       "      <td>19</td>\n",
       "      <td>9</td>\n",
       "      <td>5</td>\n",
       "      <td>5525103</td>\n",
       "      <td>01:35.5</td>\n",
       "      <td>209.033</td>\n",
       "      <td>10.0</td>\n",
       "      <td>1</td>\n",
       "    </tr>\n",
       "    <tr>\n",
       "      <th>4</th>\n",
       "      <td>1</td>\n",
       "      <td>McLaren</td>\n",
       "      <td>20</td>\n",
       "      <td>5</td>\n",
       "      <td>5</td>\n",
       "      <td>5493759</td>\n",
       "      <td>01:33.2</td>\n",
       "      <td>209.062</td>\n",
       "      <td>4.0</td>\n",
       "      <td>1</td>\n",
       "    </tr>\n",
       "    <tr>\n",
       "      <th>...</th>\n",
       "      <td>...</td>\n",
       "      <td>...</td>\n",
       "      <td>...</td>\n",
       "      <td>...</td>\n",
       "      <td>...</td>\n",
       "      <td>...</td>\n",
       "      <td>...</td>\n",
       "      <td>...</td>\n",
       "      <td>...</td>\n",
       "      <td>...</td>\n",
       "    </tr>\n",
       "    <tr>\n",
       "      <th>8199</th>\n",
       "      <td>10</td>\n",
       "      <td>Force India</td>\n",
       "      <td>1007</td>\n",
       "      <td>13</td>\n",
       "      <td>18</td>\n",
       "      <td>NaN</td>\n",
       "      <td>01:23.5</td>\n",
       "      <td>185.461</td>\n",
       "      <td>0.0</td>\n",
       "      <td>0</td>\n",
       "    </tr>\n",
       "    <tr>\n",
       "      <th>8200</th>\n",
       "      <td>10</td>\n",
       "      <td>Force India</td>\n",
       "      <td>1008</td>\n",
       "      <td>12</td>\n",
       "      <td>10</td>\n",
       "      <td>NaN</td>\n",
       "      <td>01:12.5</td>\n",
       "      <td>214.046</td>\n",
       "      <td>1.0</td>\n",
       "      <td>0</td>\n",
       "    </tr>\n",
       "    <tr>\n",
       "      <th>8201</th>\n",
       "      <td>10</td>\n",
       "      <td>Force India</td>\n",
       "      <td>1008</td>\n",
       "      <td>18</td>\n",
       "      <td>15</td>\n",
       "      <td>NaN</td>\n",
       "      <td>01:12.4</td>\n",
       "      <td>214.401</td>\n",
       "      <td>1.0</td>\n",
       "      <td>0</td>\n",
       "    </tr>\n",
       "    <tr>\n",
       "      <th>8202</th>\n",
       "      <td>10</td>\n",
       "      <td>Force India</td>\n",
       "      <td>1009</td>\n",
       "      <td>14</td>\n",
       "      <td>8</td>\n",
       "      <td>6071657</td>\n",
       "      <td>01:42.8</td>\n",
       "      <td>194.467</td>\n",
       "      <td>4.0</td>\n",
       "      <td>0</td>\n",
       "    </tr>\n",
       "    <tr>\n",
       "      <th>8203</th>\n",
       "      <td>10</td>\n",
       "      <td>Force India</td>\n",
       "      <td>1009</td>\n",
       "      <td>9</td>\n",
       "      <td>17</td>\n",
       "      <td>NaN</td>\n",
       "      <td>01:43.6</td>\n",
       "      <td>193.012</td>\n",
       "      <td>4.0</td>\n",
       "      <td>0</td>\n",
       "    </tr>\n",
       "  </tbody>\n",
       "</table>\n",
       "<p>8204 rows × 10 columns</p>\n",
       "</div>"
      ],
      "text/plain": [
       "      constructorId         name  raceId  grid  positionOrder milliseconds  \\\n",
       "0                 1      McLaren      18     1              1      5690616   \n",
       "1                 1      McLaren      18     3              5      5708630   \n",
       "2                 1      McLaren      19     8              3      5517005   \n",
       "3                 1      McLaren      19     9              5      5525103   \n",
       "4                 1      McLaren      20     5              5      5493759   \n",
       "...             ...          ...     ...   ...            ...          ...   \n",
       "8199             10  Force India    1007    13             18          NaN   \n",
       "8200             10  Force India    1008    12             10          NaN   \n",
       "8201             10  Force India    1008    18             15          NaN   \n",
       "8202             10  Force India    1009    14              8      6071657   \n",
       "8203             10  Force India    1009     9             17          NaN   \n",
       "\n",
       "     fastestLapTime fastestLapSpeed  points  wins  \n",
       "0           01:27.5           218.3    14.0     1  \n",
       "1           01:27.4         218.385    14.0     1  \n",
       "2           01:35.9         208.031    10.0     1  \n",
       "3           01:35.5         209.033    10.0     1  \n",
       "4           01:33.2         209.062     4.0     1  \n",
       "...             ...             ...     ...   ...  \n",
       "8199        01:23.5         185.461     0.0     0  \n",
       "8200        01:12.5         214.046     1.0     0  \n",
       "8201        01:12.4         214.401     1.0     0  \n",
       "8202        01:42.8         194.467     4.0     0  \n",
       "8203        01:43.6         193.012     4.0     0  \n",
       "\n",
       "[8204 rows x 10 columns]"
      ]
     },
     "execution_count": 40,
     "metadata": {},
     "output_type": "execute_result"
    }
   ],
   "source": [
    "merged_na_df = merge_df.replace('\\\\N', np.NaN) \n",
    "merged_na_df"
   ]
  },
  {
   "cell_type": "code",
   "execution_count": 41,
   "metadata": {},
   "outputs": [
    {
     "data": {
      "text/html": [
       "<div>\n",
       "<style scoped>\n",
       "    .dataframe tbody tr th:only-of-type {\n",
       "        vertical-align: middle;\n",
       "    }\n",
       "\n",
       "    .dataframe tbody tr th {\n",
       "        vertical-align: top;\n",
       "    }\n",
       "\n",
       "    .dataframe thead th {\n",
       "        text-align: right;\n",
       "    }\n",
       "</style>\n",
       "<table border=\"1\" class=\"dataframe\">\n",
       "  <thead>\n",
       "    <tr style=\"text-align: right;\">\n",
       "      <th></th>\n",
       "      <th>constructorId</th>\n",
       "      <th>name</th>\n",
       "      <th>raceId</th>\n",
       "      <th>grid</th>\n",
       "      <th>positionOrder</th>\n",
       "      <th>milliseconds</th>\n",
       "      <th>fastestLapTime</th>\n",
       "      <th>fastestLapSpeed</th>\n",
       "      <th>points</th>\n",
       "      <th>wins</th>\n",
       "    </tr>\n",
       "  </thead>\n",
       "  <tbody>\n",
       "    <tr>\n",
       "      <th>0</th>\n",
       "      <td>1</td>\n",
       "      <td>McLaren</td>\n",
       "      <td>18</td>\n",
       "      <td>1</td>\n",
       "      <td>1</td>\n",
       "      <td>5690616</td>\n",
       "      <td>01:27.5</td>\n",
       "      <td>218.3</td>\n",
       "      <td>14.0</td>\n",
       "      <td>1</td>\n",
       "    </tr>\n",
       "    <tr>\n",
       "      <th>1</th>\n",
       "      <td>1</td>\n",
       "      <td>McLaren</td>\n",
       "      <td>18</td>\n",
       "      <td>3</td>\n",
       "      <td>5</td>\n",
       "      <td>5708630</td>\n",
       "      <td>01:27.4</td>\n",
       "      <td>218.385</td>\n",
       "      <td>14.0</td>\n",
       "      <td>1</td>\n",
       "    </tr>\n",
       "    <tr>\n",
       "      <th>2</th>\n",
       "      <td>1</td>\n",
       "      <td>McLaren</td>\n",
       "      <td>19</td>\n",
       "      <td>8</td>\n",
       "      <td>3</td>\n",
       "      <td>5517005</td>\n",
       "      <td>01:35.9</td>\n",
       "      <td>208.031</td>\n",
       "      <td>10.0</td>\n",
       "      <td>1</td>\n",
       "    </tr>\n",
       "    <tr>\n",
       "      <th>3</th>\n",
       "      <td>1</td>\n",
       "      <td>McLaren</td>\n",
       "      <td>19</td>\n",
       "      <td>9</td>\n",
       "      <td>5</td>\n",
       "      <td>5525103</td>\n",
       "      <td>01:35.5</td>\n",
       "      <td>209.033</td>\n",
       "      <td>10.0</td>\n",
       "      <td>1</td>\n",
       "    </tr>\n",
       "    <tr>\n",
       "      <th>4</th>\n",
       "      <td>1</td>\n",
       "      <td>McLaren</td>\n",
       "      <td>20</td>\n",
       "      <td>5</td>\n",
       "      <td>5</td>\n",
       "      <td>5493759</td>\n",
       "      <td>01:33.2</td>\n",
       "      <td>209.062</td>\n",
       "      <td>4.0</td>\n",
       "      <td>1</td>\n",
       "    </tr>\n",
       "    <tr>\n",
       "      <th>...</th>\n",
       "      <td>...</td>\n",
       "      <td>...</td>\n",
       "      <td>...</td>\n",
       "      <td>...</td>\n",
       "      <td>...</td>\n",
       "      <td>...</td>\n",
       "      <td>...</td>\n",
       "      <td>...</td>\n",
       "      <td>...</td>\n",
       "      <td>...</td>\n",
       "    </tr>\n",
       "    <tr>\n",
       "      <th>8189</th>\n",
       "      <td>10</td>\n",
       "      <td>Force India</td>\n",
       "      <td>1002</td>\n",
       "      <td>14</td>\n",
       "      <td>7</td>\n",
       "      <td>4673162</td>\n",
       "      <td>01:24.2</td>\n",
       "      <td>247.743</td>\n",
       "      <td>14.0</td>\n",
       "      <td>0</td>\n",
       "    </tr>\n",
       "    <tr>\n",
       "      <th>8194</th>\n",
       "      <td>10</td>\n",
       "      <td>Force India</td>\n",
       "      <td>1005</td>\n",
       "      <td>9</td>\n",
       "      <td>7</td>\n",
       "      <td>5316441</td>\n",
       "      <td>01:34.1</td>\n",
       "      <td>222.223</td>\n",
       "      <td>8.0</td>\n",
       "      <td>0</td>\n",
       "    </tr>\n",
       "    <tr>\n",
       "      <th>8195</th>\n",
       "      <td>10</td>\n",
       "      <td>Force India</td>\n",
       "      <td>1005</td>\n",
       "      <td>11</td>\n",
       "      <td>9</td>\n",
       "      <td>5325117</td>\n",
       "      <td>01:34.7</td>\n",
       "      <td>220.821</td>\n",
       "      <td>8.0</td>\n",
       "      <td>0</td>\n",
       "    </tr>\n",
       "    <tr>\n",
       "      <th>8196</th>\n",
       "      <td>10</td>\n",
       "      <td>Force India</td>\n",
       "      <td>1006</td>\n",
       "      <td>10</td>\n",
       "      <td>8</td>\n",
       "      <td>5759723</td>\n",
       "      <td>01:40.0</td>\n",
       "      <td>198.483</td>\n",
       "      <td>4.0</td>\n",
       "      <td>0</td>\n",
       "    </tr>\n",
       "    <tr>\n",
       "      <th>8202</th>\n",
       "      <td>10</td>\n",
       "      <td>Force India</td>\n",
       "      <td>1009</td>\n",
       "      <td>14</td>\n",
       "      <td>8</td>\n",
       "      <td>6071657</td>\n",
       "      <td>01:42.8</td>\n",
       "      <td>194.467</td>\n",
       "      <td>4.0</td>\n",
       "      <td>0</td>\n",
       "    </tr>\n",
       "  </tbody>\n",
       "</table>\n",
       "<p>2466 rows × 10 columns</p>\n",
       "</div>"
      ],
      "text/plain": [
       "      constructorId         name  raceId  grid  positionOrder milliseconds  \\\n",
       "0                 1      McLaren      18     1              1      5690616   \n",
       "1                 1      McLaren      18     3              5      5708630   \n",
       "2                 1      McLaren      19     8              3      5517005   \n",
       "3                 1      McLaren      19     9              5      5525103   \n",
       "4                 1      McLaren      20     5              5      5493759   \n",
       "...             ...          ...     ...   ...            ...          ...   \n",
       "8189             10  Force India    1002    14              7      4673162   \n",
       "8194             10  Force India    1005     9              7      5316441   \n",
       "8195             10  Force India    1005    11              9      5325117   \n",
       "8196             10  Force India    1006    10              8      5759723   \n",
       "8202             10  Force India    1009    14              8      6071657   \n",
       "\n",
       "     fastestLapTime fastestLapSpeed  points  wins  \n",
       "0           01:27.5           218.3    14.0     1  \n",
       "1           01:27.4         218.385    14.0     1  \n",
       "2           01:35.9         208.031    10.0     1  \n",
       "3           01:35.5         209.033    10.0     1  \n",
       "4           01:33.2         209.062     4.0     1  \n",
       "...             ...             ...     ...   ...  \n",
       "8189        01:24.2         247.743    14.0     0  \n",
       "8194        01:34.1         222.223     8.0     0  \n",
       "8195        01:34.7         220.821     8.0     0  \n",
       "8196        01:40.0         198.483     4.0     0  \n",
       "8202        01:42.8         194.467     4.0     0  \n",
       "\n",
       "[2466 rows x 10 columns]"
      ]
     },
     "execution_count": 41,
     "metadata": {},
     "output_type": "execute_result"
    }
   ],
   "source": [
    "merged_na_df = merged_na_df.dropna()\n",
    "merged_na_df\n"
   ]
  },
  {
   "cell_type": "code",
   "execution_count": 42,
   "metadata": {},
   "outputs": [
    {
     "name": "stderr",
     "output_type": "stream",
     "text": [
      "C:\\Users\\aleco\\AppData\\Local\\Temp/ipykernel_13996/1336214518.py:1: SettingWithCopyWarning: \n",
      "A value is trying to be set on a copy of a slice from a DataFrame.\n",
      "Try using .loc[row_indexer,col_indexer] = value instead\n",
      "\n",
      "See the caveats in the documentation: https://pandas.pydata.org/pandas-docs/stable/user_guide/indexing.html#returning-a-view-versus-a-copy\n",
      "  merged_na_df[\"fastestLapTime\"] = ((merged_na_df[\"fastestLapTime\"].astype(str).str.split(':').str[0]).astype(float) * 60 * 1000) + ((merged_na_df[\"fastestLapTime\"].astype(str).str.split(':').str[1]).astype(float) * 1000)\n"
     ]
    },
    {
     "data": {
      "text/html": [
       "<div>\n",
       "<style scoped>\n",
       "    .dataframe tbody tr th:only-of-type {\n",
       "        vertical-align: middle;\n",
       "    }\n",
       "\n",
       "    .dataframe tbody tr th {\n",
       "        vertical-align: top;\n",
       "    }\n",
       "\n",
       "    .dataframe thead th {\n",
       "        text-align: right;\n",
       "    }\n",
       "</style>\n",
       "<table border=\"1\" class=\"dataframe\">\n",
       "  <thead>\n",
       "    <tr style=\"text-align: right;\">\n",
       "      <th></th>\n",
       "      <th>constructorId</th>\n",
       "      <th>name</th>\n",
       "      <th>raceId</th>\n",
       "      <th>grid</th>\n",
       "      <th>positionOrder</th>\n",
       "      <th>milliseconds</th>\n",
       "      <th>fastestLapTime</th>\n",
       "      <th>fastestLapSpeed</th>\n",
       "      <th>points</th>\n",
       "      <th>wins</th>\n",
       "    </tr>\n",
       "  </thead>\n",
       "  <tbody>\n",
       "    <tr>\n",
       "      <th>0</th>\n",
       "      <td>1</td>\n",
       "      <td>McLaren</td>\n",
       "      <td>18</td>\n",
       "      <td>1</td>\n",
       "      <td>1</td>\n",
       "      <td>5690616</td>\n",
       "      <td>87500.0</td>\n",
       "      <td>218.3</td>\n",
       "      <td>14.0</td>\n",
       "      <td>1</td>\n",
       "    </tr>\n",
       "    <tr>\n",
       "      <th>1</th>\n",
       "      <td>1</td>\n",
       "      <td>McLaren</td>\n",
       "      <td>18</td>\n",
       "      <td>3</td>\n",
       "      <td>5</td>\n",
       "      <td>5708630</td>\n",
       "      <td>87400.0</td>\n",
       "      <td>218.385</td>\n",
       "      <td>14.0</td>\n",
       "      <td>1</td>\n",
       "    </tr>\n",
       "    <tr>\n",
       "      <th>2</th>\n",
       "      <td>1</td>\n",
       "      <td>McLaren</td>\n",
       "      <td>19</td>\n",
       "      <td>8</td>\n",
       "      <td>3</td>\n",
       "      <td>5517005</td>\n",
       "      <td>95900.0</td>\n",
       "      <td>208.031</td>\n",
       "      <td>10.0</td>\n",
       "      <td>1</td>\n",
       "    </tr>\n",
       "    <tr>\n",
       "      <th>3</th>\n",
       "      <td>1</td>\n",
       "      <td>McLaren</td>\n",
       "      <td>19</td>\n",
       "      <td>9</td>\n",
       "      <td>5</td>\n",
       "      <td>5525103</td>\n",
       "      <td>95500.0</td>\n",
       "      <td>209.033</td>\n",
       "      <td>10.0</td>\n",
       "      <td>1</td>\n",
       "    </tr>\n",
       "    <tr>\n",
       "      <th>4</th>\n",
       "      <td>1</td>\n",
       "      <td>McLaren</td>\n",
       "      <td>20</td>\n",
       "      <td>5</td>\n",
       "      <td>5</td>\n",
       "      <td>5493759</td>\n",
       "      <td>93200.0</td>\n",
       "      <td>209.062</td>\n",
       "      <td>4.0</td>\n",
       "      <td>1</td>\n",
       "    </tr>\n",
       "    <tr>\n",
       "      <th>...</th>\n",
       "      <td>...</td>\n",
       "      <td>...</td>\n",
       "      <td>...</td>\n",
       "      <td>...</td>\n",
       "      <td>...</td>\n",
       "      <td>...</td>\n",
       "      <td>...</td>\n",
       "      <td>...</td>\n",
       "      <td>...</td>\n",
       "      <td>...</td>\n",
       "    </tr>\n",
       "    <tr>\n",
       "      <th>8189</th>\n",
       "      <td>10</td>\n",
       "      <td>Force India</td>\n",
       "      <td>1002</td>\n",
       "      <td>14</td>\n",
       "      <td>7</td>\n",
       "      <td>4673162</td>\n",
       "      <td>84200.0</td>\n",
       "      <td>247.743</td>\n",
       "      <td>14.0</td>\n",
       "      <td>0</td>\n",
       "    </tr>\n",
       "    <tr>\n",
       "      <th>8194</th>\n",
       "      <td>10</td>\n",
       "      <td>Force India</td>\n",
       "      <td>1005</td>\n",
       "      <td>9</td>\n",
       "      <td>7</td>\n",
       "      <td>5316441</td>\n",
       "      <td>94100.0</td>\n",
       "      <td>222.223</td>\n",
       "      <td>8.0</td>\n",
       "      <td>0</td>\n",
       "    </tr>\n",
       "    <tr>\n",
       "      <th>8195</th>\n",
       "      <td>10</td>\n",
       "      <td>Force India</td>\n",
       "      <td>1005</td>\n",
       "      <td>11</td>\n",
       "      <td>9</td>\n",
       "      <td>5325117</td>\n",
       "      <td>94700.0</td>\n",
       "      <td>220.821</td>\n",
       "      <td>8.0</td>\n",
       "      <td>0</td>\n",
       "    </tr>\n",
       "    <tr>\n",
       "      <th>8196</th>\n",
       "      <td>10</td>\n",
       "      <td>Force India</td>\n",
       "      <td>1006</td>\n",
       "      <td>10</td>\n",
       "      <td>8</td>\n",
       "      <td>5759723</td>\n",
       "      <td>100000.0</td>\n",
       "      <td>198.483</td>\n",
       "      <td>4.0</td>\n",
       "      <td>0</td>\n",
       "    </tr>\n",
       "    <tr>\n",
       "      <th>8202</th>\n",
       "      <td>10</td>\n",
       "      <td>Force India</td>\n",
       "      <td>1009</td>\n",
       "      <td>14</td>\n",
       "      <td>8</td>\n",
       "      <td>6071657</td>\n",
       "      <td>102800.0</td>\n",
       "      <td>194.467</td>\n",
       "      <td>4.0</td>\n",
       "      <td>0</td>\n",
       "    </tr>\n",
       "  </tbody>\n",
       "</table>\n",
       "<p>2466 rows × 10 columns</p>\n",
       "</div>"
      ],
      "text/plain": [
       "      constructorId         name  raceId  grid  positionOrder milliseconds  \\\n",
       "0                 1      McLaren      18     1              1      5690616   \n",
       "1                 1      McLaren      18     3              5      5708630   \n",
       "2                 1      McLaren      19     8              3      5517005   \n",
       "3                 1      McLaren      19     9              5      5525103   \n",
       "4                 1      McLaren      20     5              5      5493759   \n",
       "...             ...          ...     ...   ...            ...          ...   \n",
       "8189             10  Force India    1002    14              7      4673162   \n",
       "8194             10  Force India    1005     9              7      5316441   \n",
       "8195             10  Force India    1005    11              9      5325117   \n",
       "8196             10  Force India    1006    10              8      5759723   \n",
       "8202             10  Force India    1009    14              8      6071657   \n",
       "\n",
       "      fastestLapTime fastestLapSpeed  points  wins  \n",
       "0            87500.0           218.3    14.0     1  \n",
       "1            87400.0         218.385    14.0     1  \n",
       "2            95900.0         208.031    10.0     1  \n",
       "3            95500.0         209.033    10.0     1  \n",
       "4            93200.0         209.062     4.0     1  \n",
       "...              ...             ...     ...   ...  \n",
       "8189         84200.0         247.743    14.0     0  \n",
       "8194         94100.0         222.223     8.0     0  \n",
       "8195         94700.0         220.821     8.0     0  \n",
       "8196        100000.0         198.483     4.0     0  \n",
       "8202        102800.0         194.467     4.0     0  \n",
       "\n",
       "[2466 rows x 10 columns]"
      ]
     },
     "execution_count": 42,
     "metadata": {},
     "output_type": "execute_result"
    }
   ],
   "source": [
    "merged_na_df[\"fastestLapTime\"] = ((merged_na_df[\"fastestLapTime\"].astype(str).str.split(':').str[0]).astype(float) * 60 * 1000) + ((merged_na_df[\"fastestLapTime\"].astype(str).str.split(':').str[1]).astype(float) * 1000)\n",
    "merged_na_df"
   ]
  },
  {
   "cell_type": "markdown",
   "metadata": {},
   "source": [
    "## 3.4 Fixing extremes values in \"PositionOrder\" columns <a name=\"step3.4\"></a>\n",
    "#### From the PositionOrder column, we can see that there are racers being position at the 99 position, after much investigation I have realize that the 99 position is actually meant for the 1st position and it should be replaced accordingly for better accuracy and integrity of the dataset."
   ]
  },
  {
   "cell_type": "code",
   "execution_count": 43,
   "metadata": {},
   "outputs": [
    {
     "name": "stderr",
     "output_type": "stream",
     "text": [
      "C:\\Users\\aleco\\AppData\\Local\\Temp/ipykernel_13996/295584361.py:1: SettingWithCopyWarning: \n",
      "A value is trying to be set on a copy of a slice from a DataFrame.\n",
      "Try using .loc[row_indexer,col_indexer] = value instead\n",
      "\n",
      "See the caveats in the documentation: https://pandas.pydata.org/pandas-docs/stable/user_guide/indexing.html#returning-a-view-versus-a-copy\n",
      "  merged_na_df['positionOrder'] = merged_na_df['positionOrder'].replace(99,1)\n"
     ]
    },
    {
     "data": {
      "text/plain": [
       "0       1\n",
       "1       5\n",
       "2       3\n",
       "3       5\n",
       "4       5\n",
       "       ..\n",
       "8189    7\n",
       "8194    7\n",
       "8195    9\n",
       "8196    8\n",
       "8202    8\n",
       "Name: positionOrder, Length: 2466, dtype: int64"
      ]
     },
     "execution_count": 43,
     "metadata": {},
     "output_type": "execute_result"
    }
   ],
   "source": [
    "merged_na_df['positionOrder'] = merged_na_df['positionOrder'].replace(99,1)\n",
    "merged_na_df['positionOrder']\n"
   ]
  },
  {
   "cell_type": "markdown",
   "metadata": {},
   "source": [
    "# 4. Changing of roles for variables<a name=\"step4\"></a>\n",
    "<a href=\"#top\">Back to Table of contents</a>"
   ]
  },
  {
   "cell_type": "markdown",
   "metadata": {},
   "source": [
    "### 4.1 From categorical to numerical<a name=\"step4.1\"></a>\n"
   ]
  },
  {
   "cell_type": "code",
   "execution_count": 44,
   "metadata": {},
   "outputs": [
    {
     "name": "stderr",
     "output_type": "stream",
     "text": [
      "C:\\ProgramData\\Anaconda3\\lib\\site-packages\\pandas\\core\\frame.py:3641: SettingWithCopyWarning: \n",
      "A value is trying to be set on a copy of a slice from a DataFrame.\n",
      "Try using .loc[row_indexer,col_indexer] = value instead\n",
      "\n",
      "See the caveats in the documentation: https://pandas.pydata.org/pandas-docs/stable/user_guide/indexing.html#returning-a-view-versus-a-copy\n",
      "  self[k1] = value[k2]\n"
     ]
    }
   ],
   "source": [
    "merged_na_df[['milliseconds','fastestLapSpeed']] = merged_na_df[['milliseconds','fastestLapSpeed']].apply(pd.to_numeric)"
   ]
  },
  {
   "cell_type": "code",
   "execution_count": 45,
   "metadata": {},
   "outputs": [
    {
     "name": "stderr",
     "output_type": "stream",
     "text": [
      "C:\\Users\\aleco\\AppData\\Local\\Temp/ipykernel_13996/1948427203.py:1: SettingWithCopyWarning: \n",
      "A value is trying to be set on a copy of a slice from a DataFrame.\n",
      "Try using .loc[row_indexer,col_indexer] = value instead\n",
      "\n",
      "See the caveats in the documentation: https://pandas.pydata.org/pandas-docs/stable/user_guide/indexing.html#returning-a-view-versus-a-copy\n",
      "  merged_na_df['milliseconds'] = merged_na_df['milliseconds'].astype(float)\n"
     ]
    }
   ],
   "source": [
    "merged_na_df['milliseconds'] = merged_na_df['milliseconds'].astype(float)"
   ]
  },
  {
   "cell_type": "code",
   "execution_count": 46,
   "metadata": {},
   "outputs": [
    {
     "data": {
      "text/plain": [
       "constructorId      0.000000\n",
       "raceId             0.000000\n",
       "grid               0.000000\n",
       "positionOrder      0.000000\n",
       "milliseconds       0.000000\n",
       "fastestLapSpeed    0.000000\n",
       "points             0.000000\n",
       "wins               0.000000\n",
       "fastestLapTime     0.000406\n",
       "dtype: float64"
      ]
     },
     "execution_count": 46,
     "metadata": {},
     "output_type": "execute_result"
    }
   ],
   "source": [
    "#finding the numerical variables while showing missing vlaues\n",
    "num_cols = [c for c in merged_na_df if merged_na_df[c].dtype!='O']\n",
    "merged_na_df[num_cols].isnull().mean().sort_values()\n",
    "# No missing values were found"
   ]
  },
  {
   "cell_type": "markdown",
   "metadata": {},
   "source": [
    "#### From this we can see that \"milliseconds\", \"fastestlapspeed\" and \"fastestlaptime\" are all converted into numerical variables"
   ]
  },
  {
   "cell_type": "markdown",
   "metadata": {},
   "source": [
    "### 4.2 From numerical to categorical<a name=\"step4.2\"></a>"
   ]
  },
  {
   "cell_type": "code",
   "execution_count": 47,
   "metadata": {},
   "outputs": [
    {
     "data": {
      "text/plain": [
       "0        1\n",
       "1        1\n",
       "2        1\n",
       "3        1\n",
       "4        1\n",
       "        ..\n",
       "8189    10\n",
       "8194    10\n",
       "8195    10\n",
       "8196    10\n",
       "8202    10\n",
       "Name: constructorId, Length: 2466, dtype: object"
      ]
     },
     "execution_count": 47,
     "metadata": {},
     "output_type": "execute_result"
    }
   ],
   "source": [
    "merged_na_df[\"constructorId\"].astype(str)"
   ]
  },
  {
   "cell_type": "code",
   "execution_count": 48,
   "metadata": {},
   "outputs": [
    {
     "data": {
      "text/plain": [
       "0         18\n",
       "1         18\n",
       "2         19\n",
       "3         19\n",
       "4         20\n",
       "        ... \n",
       "8189    1002\n",
       "8194    1005\n",
       "8195    1005\n",
       "8196    1006\n",
       "8202    1009\n",
       "Name: raceId, Length: 2466, dtype: object"
      ]
     },
     "execution_count": 48,
     "metadata": {},
     "output_type": "execute_result"
    }
   ],
   "source": [
    "merged_na_df['raceId'].astype(str)"
   ]
  },
  {
   "cell_type": "markdown",
   "metadata": {},
   "source": [
    "#### From here we can see that both \"constructorId\"and \"RaceId\" has been changed to categorical type variables"
   ]
  },
  {
   "cell_type": "markdown",
   "metadata": {},
   "source": [
    "### 4.3 Describe the numerical values and find unique variables<a name=\"step4.3\"></a>"
   ]
  },
  {
   "cell_type": "code",
   "execution_count": 49,
   "metadata": {},
   "outputs": [
    {
     "data": {
      "text/html": [
       "<div>\n",
       "<style scoped>\n",
       "    .dataframe tbody tr th:only-of-type {\n",
       "        vertical-align: middle;\n",
       "    }\n",
       "\n",
       "    .dataframe tbody tr th {\n",
       "        vertical-align: top;\n",
       "    }\n",
       "\n",
       "    .dataframe thead th {\n",
       "        text-align: right;\n",
       "    }\n",
       "</style>\n",
       "<table border=\"1\" class=\"dataframe\">\n",
       "  <thead>\n",
       "    <tr style=\"text-align: right;\">\n",
       "      <th></th>\n",
       "      <th>fastestLapSpeed</th>\n",
       "      <th>fastestLapTime</th>\n",
       "      <th>milliseconds</th>\n",
       "      <th>points</th>\n",
       "      <th>positionOrder</th>\n",
       "      <th>wins</th>\n",
       "    </tr>\n",
       "    <tr>\n",
       "      <th>constructorId</th>\n",
       "      <th></th>\n",
       "      <th></th>\n",
       "      <th></th>\n",
       "      <th></th>\n",
       "      <th></th>\n",
       "      <th></th>\n",
       "    </tr>\n",
       "  </thead>\n",
       "  <tbody>\n",
       "    <tr>\n",
       "      <th>1</th>\n",
       "      <td>205.924369</td>\n",
       "      <td>90920.256410</td>\n",
       "      <td>5.909532e+06</td>\n",
       "      <td>13.653846</td>\n",
       "      <td>5.397436</td>\n",
       "      <td>1.658974</td>\n",
       "    </tr>\n",
       "    <tr>\n",
       "      <th>2</th>\n",
       "      <td>208.532587</td>\n",
       "      <td>89911.956522</td>\n",
       "      <td>5.647154e+06</td>\n",
       "      <td>5.543478</td>\n",
       "      <td>6.260870</td>\n",
       "      <td>0.228261</td>\n",
       "    </tr>\n",
       "    <tr>\n",
       "      <th>3</th>\n",
       "      <td>205.681167</td>\n",
       "      <td>92907.246377</td>\n",
       "      <td>5.879828e+06</td>\n",
       "      <td>6.831522</td>\n",
       "      <td>8.188406</td>\n",
       "      <td>0.079710</td>\n",
       "    </tr>\n",
       "    <tr>\n",
       "      <th>4</th>\n",
       "      <td>209.483883</td>\n",
       "      <td>89453.333333</td>\n",
       "      <td>5.737995e+06</td>\n",
       "      <td>8.304167</td>\n",
       "      <td>6.187500</td>\n",
       "      <td>1.441667</td>\n",
       "    </tr>\n",
       "    <tr>\n",
       "      <th>5</th>\n",
       "      <td>200.631394</td>\n",
       "      <td>95938.857143</td>\n",
       "      <td>6.149485e+06</td>\n",
       "      <td>3.457143</td>\n",
       "      <td>9.725714</td>\n",
       "      <td>0.045714</td>\n",
       "    </tr>\n",
       "    <tr>\n",
       "      <th>6</th>\n",
       "      <td>206.925370</td>\n",
       "      <td>89615.567766</td>\n",
       "      <td>5.761554e+06</td>\n",
       "      <td>18.397436</td>\n",
       "      <td>4.445055</td>\n",
       "      <td>2.249084</td>\n",
       "    </tr>\n",
       "    <tr>\n",
       "      <th>7</th>\n",
       "      <td>210.477802</td>\n",
       "      <td>89174.725275</td>\n",
       "      <td>5.511382e+06</td>\n",
       "      <td>4.263736</td>\n",
       "      <td>6.846154</td>\n",
       "      <td>0.000000</td>\n",
       "    </tr>\n",
       "    <tr>\n",
       "      <th>8</th>\n",
       "      <td>200.235000</td>\n",
       "      <td>78400.000000</td>\n",
       "      <td>6.271800e+06</td>\n",
       "      <td>3.000000</td>\n",
       "      <td>8.500000</td>\n",
       "      <td>0.000000</td>\n",
       "    </tr>\n",
       "    <tr>\n",
       "      <th>9</th>\n",
       "      <td>204.680605</td>\n",
       "      <td>90692.134831</td>\n",
       "      <td>5.891796e+06</td>\n",
       "      <td>22.368834</td>\n",
       "      <td>4.248879</td>\n",
       "      <td>2.639013</td>\n",
       "    </tr>\n",
       "    <tr>\n",
       "      <th>10</th>\n",
       "      <td>200.730317</td>\n",
       "      <td>95716.826923</td>\n",
       "      <td>5.959604e+06</td>\n",
       "      <td>7.379808</td>\n",
       "      <td>8.524038</td>\n",
       "      <td>0.000000</td>\n",
       "    </tr>\n",
       "  </tbody>\n",
       "</table>\n",
       "</div>"
      ],
      "text/plain": [
       "               fastestLapSpeed  fastestLapTime  milliseconds     points  \\\n",
       "constructorId                                                             \n",
       "1                   205.924369    90920.256410  5.909532e+06  13.653846   \n",
       "2                   208.532587    89911.956522  5.647154e+06   5.543478   \n",
       "3                   205.681167    92907.246377  5.879828e+06   6.831522   \n",
       "4                   209.483883    89453.333333  5.737995e+06   8.304167   \n",
       "5                   200.631394    95938.857143  6.149485e+06   3.457143   \n",
       "6                   206.925370    89615.567766  5.761554e+06  18.397436   \n",
       "7                   210.477802    89174.725275  5.511382e+06   4.263736   \n",
       "8                   200.235000    78400.000000  6.271800e+06   3.000000   \n",
       "9                   204.680605    90692.134831  5.891796e+06  22.368834   \n",
       "10                  200.730317    95716.826923  5.959604e+06   7.379808   \n",
       "\n",
       "               positionOrder      wins  \n",
       "constructorId                           \n",
       "1                   5.397436  1.658974  \n",
       "2                   6.260870  0.228261  \n",
       "3                   8.188406  0.079710  \n",
       "4                   6.187500  1.441667  \n",
       "5                   9.725714  0.045714  \n",
       "6                   4.445055  2.249084  \n",
       "7                   6.846154  0.000000  \n",
       "8                   8.500000  0.000000  \n",
       "9                   4.248879  2.639013  \n",
       "10                  8.524038  0.000000  "
      ]
     },
     "execution_count": 49,
     "metadata": {},
     "output_type": "execute_result"
    }
   ],
   "source": [
    "merged_na_df.pivot_table(values=['positionOrder','milliseconds','fastestLapTime','fastestLapSpeed','points','wins'],index=['constructorId'],aggfunc='mean')"
   ]
  },
  {
   "cell_type": "code",
   "execution_count": 50,
   "metadata": {},
   "outputs": [
    {
     "data": {
      "text/plain": [
       "constructorId        10\n",
       "name                 10\n",
       "raceId              343\n",
       "grid                 25\n",
       "positionOrder        18\n",
       "milliseconds       2465\n",
       "fastestLapTime      476\n",
       "fastestLapSpeed    2410\n",
       "points               46\n",
       "wins                 16\n",
       "dtype: int64"
      ]
     },
     "execution_count": 50,
     "metadata": {},
     "output_type": "execute_result"
    }
   ],
   "source": [
    "merged_na_df.nunique()"
   ]
  },
  {
   "cell_type": "markdown",
   "metadata": {},
   "source": [
    "# Data Wrangling on multiple tables<a name=\"wrangling\"></a>\n",
    "<a href=\"#top\">Back to Table of contents</a>"
   ]
  },
  {
   "cell_type": "markdown",
   "metadata": {},
   "source": [
    "### Subsetting and Filtering\n",
    "#### Subsetting out valuable variables\n",
    "The first step is to only take the columns in which there are relevant datas, as each datasets provides many different columns, it would be unwise to merge everything from every datasets that contain ConstructorId. Hence, from further inspection of each datasets as well as taking into considerations from problem formulations, I was able to take out the relevant variables and columns from each table.\n",
    "\n",
    "#### data_constructor_results:\n",
    "\n",
    "-raceId\n",
    "-constructorId\n",
    "-Points\n",
    "\n",
    "#### Constructor_Standings\n",
    "\n",
    "-raceId\n",
    "-constructorId\n",
    "-wins\n",
    "\n",
    "#### Constructors\n",
    "\n",
    "-constructorId\n",
    "-name\n",
    "\n",
    "#### Results\n",
    "\n",
    "-raceId\n",
    "-constructorId\n",
    "-grid\n",
    "-positionOrder\n",
    "-milliseconds\n",
    "-fastestLapTime\n",
    "-fastestLapSpeed\n",
    "\n",
    "#### Reasons for choosing these variables\n",
    "\n",
    "For data_constructor, I felt that it was important to get the points for each race to show how in total the constructor would perform even where there was more than 1 person representing them. Since our target variable is positionOrder, it would be logical to think that the higher the points, the lower the position. \n",
    "\n",
    "For Constructor_standings, I felt that it was necessary to include wins to ultimately see if the constructor are to win many races (coming in 1st position) and if that would affect the predictions because as we saw from my previous discoveries such as costructor \"10\" having 0 wins but high points. Therefore, it would be important to get wins into the merged data.\n",
    "\n",
    "For Constructors and Results, It was simply to include the names of each constructors and for results, as it contains majority of the important data, I only choose data that was clear and easy to understand such as grid and positionOrder being the starting and ending positions for the racers from each constructors. The milliseconds which counts the time, as well as fastest lap time and speed which is useful as it provides additional details and statistics which can be used for predictions.\n",
    "\n",
    "\n",
    "#### Filtering out the right constructors\n",
    "Since we are only predicting positions for constructors \"1\" to \"10\", we should filter out all columns that only have constructors \"1\", to \"10\" while also choosing to use the \"positionOrder\" column as our target variable as it still gives orders position even when 0 points are given while also having lesser null values as compared to the \"position\" column.\n",
    "\n",
    "#### Using Milliseconds instead of Time column\n",
    "After realizing that the \"Time\" is too messy, I began to understand the miliseconds column next to it being a much better indicator of time as it counts the total time down to miliseconds with extreme accuracy as well as helping to standard \"Time\" column.\n",
    "\n",
    "\n",
    "\n",
    "### Merged data\n",
    "\n",
    "#### 1st merge\n",
    "The first merged table was between Constructors_subset and Results_subset by inner joining with the variable \"constructorId\". This merger was to introduce the name of each constructors for each corresponding constructorId within the Results_subset table so we can indentify them much more easily. \n",
    "\n",
    "#### 2nd merge\n",
    "The second merged table was between data_constructor_results_subset and Constructor_Standings by inner joining with 2 variables \"constructorId\" and \"raceId\". This allows me to have a merged table that shows the points and wins earned respectively by each constructor from 1-10 while also differentiating them by each race from \"raceId 18\" to \"raceId 1073\"\n",
    "\n",
    "#### Final merge\n",
    "The final merger would be to merge the 1st and 2nd merged tables by inner joining them along the 2 variables \"constructorId\" and \"raceId\" as the 2nd merged table was already merged by those 2 variables as well as to keep the final merged table more consistent for both tables. The last table was able to add in points and wins for each raceId and constructorId respectively present within the Results dataset.\n",
    "\n",
    "#### Dropping of /N Rows\n",
    "I have decided to drop the rows with \\N as it is not a good idea to replace it with values as it will hinder the accuracy of how each driver from each constructor performs. There could also be externalities that causes their timing to not be timed such as being disqualified. Hence dropping the \\N rows would help to keep datas that will be useful for the predictions.\n",
    "\n",
    "#### Standardizing the values in fastestLapTime\n",
    "Since the data within the fastestLapTime column is in short time, I felt that it would be better to create a calculated column where it converts it into milliseconds so that it stays consistent with the millesecond column next to it. Therefore, I have made it split into two values where, the minute would undergo a convertion *60 * 1000 while the seconds will simply undergo *1000 and summing these two values together to create a millesecond column for the fastestLapTime. \n",
    "\n",
    "#### Fixing Extreme values in positionOrder\n",
    "After seeing the datas within the positionOrder column, I have also realize that there are extreme positions \"99\" presented. As mentioned before during data exploring, I would replace these values with \"1\" as it was clear that there was just an error in data input. Hence, after the merged data has been made, I have replaced all the \"99\" values in the positionOrder with \"1\" for data validity.\n",
    "\n",
    "### Changing of roles\n",
    "While checking between what is categorical and numerical within my merged dataset, I realized that there was some data that should not belong in either of those groups. Hence, I plan to change their data type to better fit their data characteristics. \n",
    "\n",
    "#### From Categorical to Numerical \n",
    "Milliseconds and fastestLapSpeed would be changed from categorical data into numerrical as they all represent a measurement of time or speed and should be recognised as numerical.\n",
    "\n",
    "#### From Numerical to Categorical\n",
    "As ConstructorId and RaceId are not used for any calculations or measurements, they should be recognised as objects or strings that categorises each constructor individually and each race respectively.\n",
    "\n",
    "\n",
    "#### Describing merged data\n",
    "From seeing how the numerical values are described, we can see the mean(average) values for each of the numerical variables. This gives us a rough idea of what are the average for each of the constructor and how do they roughly perform in each numerical aspect.\n",
    "\n",
    "Furthermore, by seeing the number of unique variables for each columns we can confirm that there we are only predicting for 10 constructors and they have been in 343 races.\n",
    "\n",
    "\n",
    " "
   ]
  },
  {
   "cell_type": "markdown",
   "metadata": {},
   "source": [
    "# 5. Indentify Outliers for numerical variables<a name=\"step5\"></a>\n",
    "<a href=\"#top\">Back to Table of contents</a>\n",
    "\n",
    "#### we can do this by creating a diagnostic plot to show Box Plot, Histogram and Q-Q Probability Plot for each numerical variable. Which includes the following: Grid, Milliseconds, PositionOrder, FastestLapTime, FastestLapSpeed, Points, Wins"
   ]
  },
  {
   "cell_type": "code",
   "execution_count": 51,
   "metadata": {},
   "outputs": [],
   "source": [
    "def diagnostic_plots(df, variable):\n",
    "    \n",
    "    # function to plot a histogram and a Q-Q plot\n",
    "    # side by side, for a certain variable\n",
    "    plt.figure(figsize=(21,9))\n",
    "    plt.subplot(1, 3, 1)\n",
    "    \n",
    "    ax1 = df[variable].plot.box()\n",
    "    ax1.set_title('Box Plot')\n",
    "    \n",
    "    plt.subplot(1, 3, 2)\n",
    "    ax2 = df[variable].hist(bins=30)\n",
    "    ax2.set_title('Histogram')\n",
    "    \n",
    "    plt.subplot(1, 3, 3)\n",
    "    stats.probplot(df[variable], dist=\"norm\", plot=plt)\n",
    "    \n",
    "    \n",
    "    plt.show()"
   ]
  },
  {
   "cell_type": "markdown",
   "metadata": {},
   "source": [
    "### 5.1 Diagnostic plot for Grid<a name=\"step5.1\"></a>"
   ]
  },
  {
   "cell_type": "code",
   "execution_count": 52,
   "metadata": {},
   "outputs": [
    {
     "data": {
      "image/png": "[encoded data removed]",
      "text/plain": [
       "<Figure size 1512x648 with 3 Axes>"
      ]
     },
     "metadata": {
      "needs_background": "light"
     },
     "output_type": "display_data"
    }
   ],
   "source": [
    "#Indentifying grid position\n",
    "#Using Box Plots, Histogram and Q-Q Plot\n",
    "diagnostic_plots(merged_na_df,'grid')"
   ]
  },
  {
   "cell_type": "markdown",
   "metadata": {},
   "source": [
    "### 5.2 Diagnostic plot for Milleseconds<a name=\"step5.2\"></a>"
   ]
  },
  {
   "cell_type": "code",
   "execution_count": 53,
   "metadata": {},
   "outputs": [
    {
     "data": {
      "image/png": "[encoded data removed]",
      "text/plain": [
       "<Figure size 1512x648 with 3 Axes>"
      ]
     },
     "metadata": {
      "needs_background": "light"
     },
     "output_type": "display_data"
    }
   ],
   "source": [
    "#Indentifying Milleseconds\n",
    "#Using Box Plots, Histogram and Q-Q Plot\n",
    "diagnostic_plots(merged_na_df,'milliseconds')"
   ]
  },
  {
   "cell_type": "markdown",
   "metadata": {},
   "source": [
    "### 5.3 Diagnostic plot for PositionOrder<a name=\"step5.3\"></a>"
   ]
  },
  {
   "cell_type": "code",
   "execution_count": 54,
   "metadata": {},
   "outputs": [
    {
     "data": {
      "image/png": "[encoded data removed]",
      "text/plain": [
       "<Figure size 1512x648 with 3 Axes>"
      ]
     },
     "metadata": {
      "needs_background": "light"
     },
     "output_type": "display_data"
    }
   ],
   "source": [
    "#Indentifying Milleseconds\n",
    "#Using Box Plots, Histogram and Q-Q Plot\n",
    "diagnostic_plots(merged_na_df,'positionOrder')"
   ]
  },
  {
   "cell_type": "markdown",
   "metadata": {},
   "source": [
    "### 5.4 Diagnostic plot for Fastest Lap Time<a name=\"step5.4\"></a>"
   ]
  },
  {
   "cell_type": "code",
   "execution_count": 55,
   "metadata": {},
   "outputs": [
    {
     "data": {
      "image/png": "[encoded data removed]",
      "text/plain": [
       "<Figure size 1512x648 with 3 Axes>"
      ]
     },
     "metadata": {
      "needs_background": "light"
     },
     "output_type": "display_data"
    }
   ],
   "source": [
    "#Indentifying Fastest Lap Time\n",
    "#Using Box Plots, Histogram and Q-Q Plot\n",
    "diagnostic_plots(merged_na_df,'fastestLapTime')"
   ]
  },
  {
   "cell_type": "markdown",
   "metadata": {},
   "source": [
    "### 5.5 Diagnostic plot for Fastest Lap Speed<a name=\"step5.5\"></a>"
   ]
  },
  {
   "cell_type": "code",
   "execution_count": 56,
   "metadata": {},
   "outputs": [
    {
     "data": {
      "image/png": "[encoded data removed]",
      "text/plain": [
       "<Figure size 1512x648 with 3 Axes>"
      ]
     },
     "metadata": {
      "needs_background": "light"
     },
     "output_type": "display_data"
    }
   ],
   "source": [
    "#Indentifying Fastest Lap Speed\n",
    "#Using Box Plots, Histogram and Q-Q Plot\n",
    "diagnostic_plots(merged_na_df,'fastestLapSpeed')"
   ]
  },
  {
   "cell_type": "markdown",
   "metadata": {},
   "source": [
    "### 5.6 Diagnostic plot for Points<a name=\"step5.6\"></a>"
   ]
  },
  {
   "cell_type": "code",
   "execution_count": 57,
   "metadata": {},
   "outputs": [
    {
     "data": {
      "image/png": "[encoded data removed]",
      "text/plain": [
       "<Figure size 1512x648 with 3 Axes>"
      ]
     },
     "metadata": {
      "needs_background": "light"
     },
     "output_type": "display_data"
    }
   ],
   "source": [
    "#Indentifying Points\n",
    "#Using Box Plots, Histogram and Q-Q Plot\n",
    "diagnostic_plots(merged_na_df,'points')"
   ]
  },
  {
   "cell_type": "markdown",
   "metadata": {},
   "source": [
    "### 5.7 Diagnostic plot for Wins<a name=\"step5.7\"></a>"
   ]
  },
  {
   "cell_type": "code",
   "execution_count": 58,
   "metadata": {},
   "outputs": [
    {
     "data": {
      "image/png": "[encoded data removed]",
      "text/plain": [
       "<Figure size 1512x648 with 3 Axes>"
      ]
     },
     "metadata": {
      "needs_background": "light"
     },
     "output_type": "display_data"
    }
   ],
   "source": [
    "#Indentifying Points\n",
    "#Using Box Plots, Histogram and Q-Q Plot\n",
    "diagnostic_plots(merged_na_df,'wins')"
   ]
  },
  {
   "cell_type": "markdown",
   "metadata": {},
   "source": [
    "# 6. Dealing with Outliers by capping<a name=\"step6\"></a>\n",
    "<a href=\"#top\">Back to Table of contents</a>\n"
   ]
  },
  {
   "cell_type": "markdown",
   "metadata": {},
   "source": [
    "### 6.1 Before Capping<a name=\"step6.1\"></a>"
   ]
  },
  {
   "cell_type": "code",
   "execution_count": 59,
   "metadata": {},
   "outputs": [
    {
     "data": {
      "image/png": "[encoded data removed]",
      "text/plain": [
       "<Figure size 1512x648 with 3 Axes>"
      ]
     },
     "metadata": {
      "needs_background": "light"
     },
     "output_type": "display_data"
    }
   ],
   "source": [
    "# let's explore the variables before capping\n",
    "diagnostic_plots(merged_na_df, 'milliseconds')"
   ]
  },
  {
   "cell_type": "code",
   "execution_count": 60,
   "metadata": {},
   "outputs": [
    {
     "data": {
      "image/png": "[encoded data removed]",
      "text/plain": [
       "<Figure size 1512x648 with 3 Axes>"
      ]
     },
     "metadata": {
      "needs_background": "light"
     },
     "output_type": "display_data"
    }
   ],
   "source": [
    "diagnostic_plots(merged_na_df, 'fastestLapSpeed')"
   ]
  },
  {
   "cell_type": "code",
   "execution_count": 61,
   "metadata": {},
   "outputs": [
    {
     "data": {
      "text/plain": [
       "Winsorizer(fold=2, tail='both', variables=['milliseconds', 'fastestLapSpeed'])"
      ]
     },
     "execution_count": 61,
     "metadata": {},
     "output_type": "execute_result"
    }
   ],
   "source": [
    "# create the capper\n",
    "windsorizer = Winsorizer(capping_method ='gaussian', \n",
    "                        tail='both', # cap left, right or both tails\n",
    "                        fold = 2, #recommended value\n",
    "                        variables=['milliseconds','fastestLapSpeed'])\n",
    "\n",
    "windsorizer.fit(merged_na_df)"
   ]
  },
  {
   "cell_type": "code",
   "execution_count": 62,
   "metadata": {},
   "outputs": [],
   "source": [
    "t_merged_df = windsorizer.transform(merged_na_df)"
   ]
  },
  {
   "cell_type": "markdown",
   "metadata": {},
   "source": [
    "### 6.2 After Capping<a name=\"step6.2\"></a>"
   ]
  },
  {
   "cell_type": "code",
   "execution_count": 63,
   "metadata": {},
   "outputs": [
    {
     "data": {
      "image/png": "[encoded data removed]",
      "text/plain": [
       "<Figure size 1512x648 with 3 Axes>"
      ]
     },
     "metadata": {
      "needs_background": "light"
     },
     "output_type": "display_data"
    }
   ],
   "source": [
    "# let's explore the variables before capping\n",
    "diagnostic_plots(t_merged_df, 'milliseconds')"
   ]
  },
  {
   "cell_type": "code",
   "execution_count": 64,
   "metadata": {},
   "outputs": [
    {
     "data": {
      "image/png": "[encoded data removed]",
      "text/plain": [
       "<Figure size 1512x648 with 3 Axes>"
      ]
     },
     "metadata": {
      "needs_background": "light"
     },
     "output_type": "display_data"
    }
   ],
   "source": [
    "diagnostic_plots(t_merged_df, 'fastestLapSpeed')"
   ]
  },
  {
   "cell_type": "markdown",
   "metadata": {},
   "source": [
    "#### Choosing between capping, removing and not doing anything with the outliers, I feel that capping would be the most appropriate for the outliers as it would cause the extreme values to still be considered as valuable data when using it for prediction. Hence as we keep all the extreme values closer to the centre value, we will be able to predict more accurately as there is lesser data being compromised."
   ]
  },
  {
   "cell_type": "markdown",
   "metadata": {},
   "source": [
    "# 7 Numerical Variables Transformations<a name=\"step7\"></a>\n",
    "<a href=\"#top\">Back to Table of contents</a>"
   ]
  },
  {
   "cell_type": "markdown",
   "metadata": {},
   "source": [
    "### 7.1 Log Transformation<a name=\"step7.1\"></a>"
   ]
  },
  {
   "cell_type": "markdown",
   "metadata": {},
   "source": [
    "### Milliseconds"
   ]
  },
  {
   "cell_type": "code",
   "execution_count": 65,
   "metadata": {},
   "outputs": [
    {
     "data": {
      "text/plain": [
       "\"\\n# initialize the transformer\\nlt = LogTransformer(variables=['milliseconds','fastestLapSpeed'])\\n\\n# fit transformer to data set\\nlt.fit(t_merged_df)\\n\\n# transform variables within our data set\\nt_merged_df = lt.transform(t_merged_df)\\ndiagnostic_plots(t_merged_df, 'milliseconds')\\n\""
      ]
     },
     "execution_count": 65,
     "metadata": {},
     "output_type": "execute_result"
    }
   ],
   "source": [
    "'''\n",
    "# initialize the transformer\n",
    "lt = LogTransformer(variables=['milliseconds','fastestLapSpeed'])\n",
    "\n",
    "# fit transformer to data set\n",
    "lt.fit(t_merged_df)\n",
    "\n",
    "# transform variables within our data set\n",
    "t_merged_df = lt.transform(t_merged_df)\n",
    "diagnostic_plots(t_merged_df, 'milliseconds')\n",
    "'''"
   ]
  },
  {
   "cell_type": "markdown",
   "metadata": {},
   "source": [
    "### Fastest Lap Speed"
   ]
  },
  {
   "cell_type": "code",
   "execution_count": 66,
   "metadata": {},
   "outputs": [],
   "source": [
    "#diagnostic_plots(t_merged_df, 'fastestLapSpeed')"
   ]
  },
  {
   "cell_type": "markdown",
   "metadata": {},
   "source": [
    "### 7.2 Reciprocal Transformation<a name=\"step7.2\"></a>"
   ]
  },
  {
   "cell_type": "markdown",
   "metadata": {},
   "source": [
    "### Milliseconds"
   ]
  },
  {
   "cell_type": "code",
   "execution_count": 67,
   "metadata": {},
   "outputs": [
    {
     "data": {
      "text/plain": [
       "\"\\n# initialize the transformer\\nrt = ReciprocalTransformer(variables = ['milliseconds','fastestLapSpeed'])\\n\\n# fit transformer to the entire dataframe\\nrt.fit(t_merged_df)\\n\\n# transform the indicated variables within our data set\\nt_merged_df = rt.transform(t_merged_df)\\ndiagnostic_plots(t_merged_df, 'milliseconds')\\n\""
      ]
     },
     "execution_count": 67,
     "metadata": {},
     "output_type": "execute_result"
    }
   ],
   "source": [
    "'''\n",
    "# initialize the transformer\n",
    "rt = ReciprocalTransformer(variables = ['milliseconds','fastestLapSpeed'])\n",
    "\n",
    "# fit transformer to the entire dataframe\n",
    "rt.fit(t_merged_df)\n",
    "\n",
    "# transform the indicated variables within our data set\n",
    "t_merged_df = rt.transform(t_merged_df)\n",
    "diagnostic_plots(t_merged_df, 'milliseconds')\n",
    "'''"
   ]
  },
  {
   "cell_type": "markdown",
   "metadata": {},
   "source": [
    "### Fastest Lap Speed"
   ]
  },
  {
   "cell_type": "code",
   "execution_count": 68,
   "metadata": {},
   "outputs": [],
   "source": [
    "#diagnostic_plots(t_merged_df, 'fastestLapSpeed')"
   ]
  },
  {
   "cell_type": "markdown",
   "metadata": {},
   "source": [
    "### 7.3 Cube Root Transformation<a name=\"step7.3\"></a>"
   ]
  },
  {
   "cell_type": "code",
   "execution_count": 69,
   "metadata": {},
   "outputs": [
    {
     "data": {
      "text/plain": [
       "\"\\n# set up PowerTransformer with the square root exponent\\net = PowerTransformer(variables = ['milliseconds','fastestLapSpeed'], exp=1/3) # for cube root\\n\\n# fit transformer to data \\net.fit(t_merged_df)\\n\\n# transform indicated variables in the dataset\\nt_merged_df = et.transform(t_merged_df)\\ndiagnostic_plots(t_merged_df, 'milliseconds')\\n\""
      ]
     },
     "execution_count": 69,
     "metadata": {},
     "output_type": "execute_result"
    }
   ],
   "source": [
    "'''\n",
    "# set up PowerTransformer with the square root exponent\n",
    "et = PowerTransformer(variables = ['milliseconds','fastestLapSpeed'], exp=1/3) # for cube root\n",
    "\n",
    "# fit transformer to data \n",
    "et.fit(t_merged_df)\n",
    "\n",
    "# transform indicated variables in the dataset\n",
    "t_merged_df = et.transform(t_merged_df)\n",
    "diagnostic_plots(t_merged_df, 'milliseconds')\n",
    "'''"
   ]
  },
  {
   "cell_type": "markdown",
   "metadata": {},
   "source": [
    "### Fastest Lap Speed"
   ]
  },
  {
   "cell_type": "code",
   "execution_count": 70,
   "metadata": {},
   "outputs": [],
   "source": [
    "#diagnostic_plots(t_merged_df, 'fastestLapSpeed')"
   ]
  },
  {
   "cell_type": "markdown",
   "metadata": {},
   "source": [
    "### 7.4 Power Transformation<a name=\"step7.4\"></a>"
   ]
  },
  {
   "cell_type": "markdown",
   "metadata": {},
   "source": [
    "### Milliseconds"
   ]
  },
  {
   "cell_type": "code",
   "execution_count": 71,
   "metadata": {},
   "outputs": [
    {
     "data": {
      "text/plain": [
       "\"\\n# initialize the transformer with the variables to transform and \\n# the desired exponent\\n\\net = PowerTransformer(variables = ['milliseconds','fastestLapSpeed'], exp=0.3)\\n\\n# fit transformer to data\\net.fit(t_merged_df)\\n# transform indicated variables in the dataset\\nt_merged_df = et.transform(t_merged_df)\\ndiagnostic_plots(t_merged_df, 'milliseconds')\\n\""
      ]
     },
     "execution_count": 71,
     "metadata": {},
     "output_type": "execute_result"
    }
   ],
   "source": [
    "'''\n",
    "# initialize the transformer with the variables to transform and \n",
    "# the desired exponent\n",
    "\n",
    "et = PowerTransformer(variables = ['milliseconds','fastestLapSpeed'], exp=0.3)\n",
    "\n",
    "# fit transformer to data\n",
    "et.fit(t_merged_df)\n",
    "# transform indicated variables in the dataset\n",
    "t_merged_df = et.transform(t_merged_df)\n",
    "diagnostic_plots(t_merged_df, 'milliseconds')\n",
    "'''"
   ]
  },
  {
   "cell_type": "markdown",
   "metadata": {},
   "source": [
    "### Fastest Lap Speed"
   ]
  },
  {
   "cell_type": "code",
   "execution_count": 72,
   "metadata": {},
   "outputs": [],
   "source": [
    "#diagnostic_plots(t_merged_df, 'fastestLapSpeed')"
   ]
  },
  {
   "cell_type": "markdown",
   "metadata": {},
   "source": [
    "### 7.5 Box Cox Transformation<a name=\"step7.5\"></a>"
   ]
  },
  {
   "cell_type": "markdown",
   "metadata": {},
   "source": [
    "### Milliseconds"
   ]
  },
  {
   "cell_type": "code",
   "execution_count": 73,
   "metadata": {},
   "outputs": [
    {
     "data": {
      "text/plain": [
       "\"\\n# initialize the transformer with a group of variables to transform\\nbct = BoxCoxTransformer(variables = ['milliseconds','fastestLapSpeed'])\\n\\n# fit transformer to the data set\\nbct.fit(t_merged_df)\\n\\n# transform indicated variables in the dataset\\nt_merged_df = bct.transform(t_merged_df)\\ndiagnostic_plots(t_merged_df, 'milliseconds')\\n\""
      ]
     },
     "execution_count": 73,
     "metadata": {},
     "output_type": "execute_result"
    }
   ],
   "source": [
    "'''\n",
    "# initialize the transformer with a group of variables to transform\n",
    "bct = BoxCoxTransformer(variables = ['milliseconds','fastestLapSpeed'])\n",
    "\n",
    "# fit transformer to the data set\n",
    "bct.fit(t_merged_df)\n",
    "\n",
    "# transform indicated variables in the dataset\n",
    "t_merged_df = bct.transform(t_merged_df)\n",
    "diagnostic_plots(t_merged_df, 'milliseconds')\n",
    "'''"
   ]
  },
  {
   "cell_type": "markdown",
   "metadata": {},
   "source": [
    "### Fastest Lap Speed"
   ]
  },
  {
   "cell_type": "code",
   "execution_count": 74,
   "metadata": {},
   "outputs": [],
   "source": [
    "#diagnostic_plots(t_merged_df, 'fastestLapSpeed')"
   ]
  },
  {
   "cell_type": "markdown",
   "metadata": {},
   "source": [
    "### 7.6 Yeo Johnson Transformation<a name=\"step7.6\"></a>"
   ]
  },
  {
   "cell_type": "markdown",
   "metadata": {},
   "source": [
    "### Milliseconds"
   ]
  },
  {
   "cell_type": "code",
   "execution_count": 75,
   "metadata": {},
   "outputs": [
    {
     "data": {
      "text/plain": [
       "\"\\n# initialize the transformer with a subset of variables to transform\\nyjt = YeoJohnsonTransformer(variables = ['milliseconds','fastestLapSpeed'])\\n\\n# fit transformer to the dataframe\\nyjt.fit(t_merged_df)\\n\\n# transform indicated variables\\n\\nt_merged_df = yjt.transform(t_merged_df)\\n\\ndiagnostic_plots(t_merged_df, 'milliseconds')\\n\""
      ]
     },
     "execution_count": 75,
     "metadata": {},
     "output_type": "execute_result"
    }
   ],
   "source": [
    "'''\n",
    "# initialize the transformer with a subset of variables to transform\n",
    "yjt = YeoJohnsonTransformer(variables = ['milliseconds','fastestLapSpeed'])\n",
    "\n",
    "# fit transformer to the dataframe\n",
    "yjt.fit(t_merged_df)\n",
    "\n",
    "# transform indicated variables\n",
    "\n",
    "t_merged_df = yjt.transform(t_merged_df)\n",
    "\n",
    "diagnostic_plots(t_merged_df, 'milliseconds')\n",
    "'''"
   ]
  },
  {
   "cell_type": "markdown",
   "metadata": {},
   "source": [
    "### Fastest Lap Speed"
   ]
  },
  {
   "cell_type": "code",
   "execution_count": 76,
   "metadata": {},
   "outputs": [],
   "source": [
    "#diagnostic_plots(t_merged_df, 'fastestLapSpeed')"
   ]
  },
  {
   "cell_type": "markdown",
   "metadata": {},
   "source": [
    "### After having Milliseconds and fastestLapSpeed go through each transformation respectively, We can see that Milliseconds would be best suited for reciprocal transformation while FastestLapSpeed would be suited for Log Transformation"
   ]
  },
  {
   "cell_type": "markdown",
   "metadata": {},
   "source": [
    "### 7.7 Final Chosen Transformations<a name=\"step7.7\"></a>\n",
    "### Milliseconds: Reciprocal Transformation\n"
   ]
  },
  {
   "cell_type": "code",
   "execution_count": 77,
   "metadata": {},
   "outputs": [
    {
     "data": {
      "image/png": "[encoded data removed]",
      "text/plain": [
       "<Figure size 1512x648 with 3 Axes>"
      ]
     },
     "metadata": {
      "needs_background": "light"
     },
     "output_type": "display_data"
    }
   ],
   "source": [
    "\n",
    "# initialize the transformer\n",
    "rt = ReciprocalTransformer(variables = ['milliseconds'])\n",
    "\n",
    "# fit transformer to the entire dataframe\n",
    "rt.fit(t_merged_df)\n",
    "\n",
    "# transform the indicated variables within our data set\n",
    "t_merged_df = rt.transform(t_merged_df)\n",
    "diagnostic_plots(t_merged_df, 'milliseconds')\n"
   ]
  },
  {
   "cell_type": "markdown",
   "metadata": {},
   "source": [
    "### FastestLapSpeed: Yeo Johnson Transformation"
   ]
  },
  {
   "cell_type": "code",
   "execution_count": 78,
   "metadata": {},
   "outputs": [
    {
     "data": {
      "image/png": "[encoded data removed]",
      "text/plain": [
       "<Figure size 1512x648 with 3 Axes>"
      ]
     },
     "metadata": {
      "needs_background": "light"
     },
     "output_type": "display_data"
    }
   ],
   "source": [
    "\n",
    "# initialize the transformer with a subset of variables to transform\n",
    "yjt = YeoJohnsonTransformer(variables = ['fastestLapSpeed'])\n",
    "\n",
    "# fit transformer to the dataframe\n",
    "yjt.fit(t_merged_df)\n",
    "\n",
    "# transform indicated variables\n",
    "\n",
    "t_merged_df = yjt.transform(t_merged_df)\n",
    "\n",
    "diagnostic_plots(t_merged_df, 'fastestLapSpeed')\n"
   ]
  },
  {
   "cell_type": "markdown",
   "metadata": {},
   "source": [
    "# 8. Train Test Split<a name=\"step8\"></a>\n",
    "<a href=\"#top\">Back to Table of contents</a>"
   ]
  },
  {
   "cell_type": "code",
   "execution_count": 79,
   "metadata": {},
   "outputs": [
    {
     "data": {
      "text/plain": [
       "((1726, 9), (740, 9))"
      ]
     },
     "execution_count": 79,
     "metadata": {},
     "output_type": "execute_result"
    }
   ],
   "source": [
    "# The target variable is \"positionOrder\" splitting train (70%) and test (30%)\n",
    "\n",
    "X_train, X_test, y_train, y_test = train_test_split(\n",
    "    t_merged_df.drop('positionOrder', axis=1), t_merged_df['positionOrder'], test_size=0.3, random_state=0)\n",
    "\n",
    "X_train.shape, X_test.shape"
   ]
  },
  {
   "cell_type": "code",
   "execution_count": 80,
   "metadata": {},
   "outputs": [
    {
     "data": {
      "text/plain": [
       "((1726,), (740,))"
      ]
     },
     "execution_count": 80,
     "metadata": {},
     "output_type": "execute_result"
    }
   ],
   "source": [
    "y_train.shape, y_test.shape"
   ]
  },
  {
   "cell_type": "code",
   "execution_count": 81,
   "metadata": {},
   "outputs": [
    {
     "data": {
      "text/plain": [
       "fastestLapTime     0.000579\n",
       "constructorId      0.000000\n",
       "name               0.000000\n",
       "raceId             0.000000\n",
       "grid               0.000000\n",
       "milliseconds       0.000000\n",
       "fastestLapSpeed    0.000000\n",
       "points             0.000000\n",
       "wins               0.000000\n",
       "dtype: float64"
      ]
     },
     "execution_count": 81,
     "metadata": {},
     "output_type": "execute_result"
    }
   ],
   "source": [
    "X_train.isnull().mean().sort_values(ascending= False) #Check missing value \n",
    "#Since fastestLapTime is the only numerical variable that has missing value, we only need to do numerical variable imputation"
   ]
  },
  {
   "cell_type": "markdown",
   "metadata": {},
   "source": [
    "# 9. Numerical variable imputation<a name=\"step9\"></a>\n",
    "<a href=\"#top\">Back to Table of contents</a>"
   ]
  },
  {
   "cell_type": "markdown",
   "metadata": {},
   "source": [
    "### 9.1 Mean Median imputation<a name=\"step9.1\"></a>"
   ]
  },
  {
   "cell_type": "code",
   "execution_count": 82,
   "metadata": {},
   "outputs": [
    {
     "data": {
      "text/plain": [
       "constructorId      0.0\n",
       "name               0.0\n",
       "raceId             0.0\n",
       "grid               0.0\n",
       "milliseconds       0.0\n",
       "fastestLapTime     0.0\n",
       "fastestLapSpeed    0.0\n",
       "points             0.0\n",
       "wins               0.0\n",
       "dtype: float64"
      ]
     },
     "execution_count": 82,
     "metadata": {},
     "output_type": "execute_result"
    }
   ],
   "source": [
    "\n",
    "# Item_Weight Mean imputation\n",
    "# let's create a mean imputer\n",
    "#Configuration step for imputer\n",
    "mean_imputer = MeanMedianImputer(imputation_method='mean',\n",
    "                                   variables=['fastestLapTime'])\n",
    "\n",
    "mean_imputer.fit(X_train)\n",
    "mean_imputer.imputer_dict_\n",
    "# transform the data\n",
    "X_train = mean_imputer.transform(X_train)\n",
    "X_test = mean_imputer.transform(X_test)\n",
    "\n",
    "#Check missing value for fastestLapTime after imputation\n",
    "X_train.isnull().mean().sort_values(ascending= False)\n"
   ]
  },
  {
   "cell_type": "code",
   "execution_count": 83,
   "metadata": {},
   "outputs": [
    {
     "data": {
      "image/png": "[encoded data removed]",
      "text/plain": [
       "<Figure size 1512x648 with 3 Axes>"
      ]
     },
     "metadata": {
      "needs_background": "light"
     },
     "output_type": "display_data"
    },
    {
     "data": {
      "image/png": "[encoded data removed]",
      "text/plain": [
       "<Figure size 1512x648 with 3 Axes>"
      ]
     },
     "metadata": {
      "needs_background": "light"
     },
     "output_type": "display_data"
    }
   ],
   "source": [
    "#Before\n",
    "diagnostic_plots(t_merged_df,'fastestLapTime')\n",
    "#After\n",
    "diagnostic_plots(X_train,'fastestLapTime')"
   ]
  },
  {
   "cell_type": "markdown",
   "metadata": {},
   "source": [
    "### 9.2 Arbitrary value of -1 replacement<a name=\"step9.2\"></a>"
   ]
  },
  {
   "cell_type": "code",
   "execution_count": 84,
   "metadata": {},
   "outputs": [
    {
     "data": {
      "text/plain": [
       "\"\\n# let's create an arbitrary value imputer\\n\\nimputer = ArbitraryNumberImputer(\\n    arbitrary_number=-1, variables=['fastestLapTime'])\\n\\nimputer.fit(X_train)\\n# dictionary with the mappings for each variable\\nimputer.arbitrary_number\\n# transform the data\\nX_train = imputer.transform(X_train)\\nX_test = imputer.transform(X_test)\\n\\n# check that null values were replaced\\nX_train[['fastestLapTime']].isnull().mean()\\n\\n#After\\ndiagnostic_plots(X_train,'fastestLapTime')\\n#There is alot of values on the left side, there is a gap in the histogram\\n\""
      ]
     },
     "execution_count": 84,
     "metadata": {},
     "output_type": "execute_result"
    }
   ],
   "source": [
    "'''\n",
    "# let's create an arbitrary value imputer\n",
    "\n",
    "imputer = ArbitraryNumberImputer(\n",
    "    arbitrary_number=-1, variables=['fastestLapTime'])\n",
    "\n",
    "imputer.fit(X_train)\n",
    "# dictionary with the mappings for each variable\n",
    "imputer.arbitrary_number\n",
    "# transform the data\n",
    "X_train = imputer.transform(X_train)\n",
    "X_test = imputer.transform(X_test)\n",
    "\n",
    "# check that null values were replaced\n",
    "X_train[['fastestLapTime']].isnull().mean()\n",
    "\n",
    "#After\n",
    "diagnostic_plots(X_train,'fastestLapTime')\n",
    "#There is alot of values on the left side, there is a gap in the histogram\n",
    "'''"
   ]
  },
  {
   "cell_type": "markdown",
   "metadata": {},
   "source": [
    "### 9.3 Replacing missing values by a value at the end of the distribution <a name=\"step9.3\"></a>"
   ]
  },
  {
   "cell_type": "code",
   "execution_count": 85,
   "metadata": {},
   "outputs": [
    {
     "data": {
      "text/plain": [
       "\"\\n# let's create a median imputer\\n\\n# IQR limits -> right tail -> Q3 + 1.5*IQR\\nimputer = EndTailImputer(imputation_method='iqr', tail='right',fold=1.5, \\n                         variables=['fastestLapTime'])\\n\\nimputer.fit(X_train)\\n# dictionary with the mappings for each variable\\nimputer.imputer_dict_ # Q3 + 3*IQR\\n# transform the data\\nX_train = imputer.transform(X_train)\\nX_test = imputer.transform(X_test)\\n# check that null values were replaced\\nX_train[['fastestLapTime']].isnull().mean()\\n\\n#After\\ndiagnostic_plots(X_train,'fastestLapTime')\\n\""
      ]
     },
     "execution_count": 85,
     "metadata": {},
     "output_type": "execute_result"
    }
   ],
   "source": [
    "'''\n",
    "# let's create a median imputer\n",
    "\n",
    "# IQR limits -> right tail -> Q3 + 1.5*IQR\n",
    "imputer = EndTailImputer(imputation_method='iqr', tail='right',fold=1.5, \n",
    "                         variables=['fastestLapTime'])\n",
    "\n",
    "imputer.fit(X_train)\n",
    "# dictionary with the mappings for each variable\n",
    "imputer.imputer_dict_ # Q3 + 3*IQR\n",
    "# transform the data\n",
    "X_train = imputer.transform(X_train)\n",
    "X_test = imputer.transform(X_test)\n",
    "# check that null values were replaced\n",
    "X_train[['fastestLapTime']].isnull().mean()\n",
    "\n",
    "#After\n",
    "diagnostic_plots(X_train,'fastestLapTime')\n",
    "'''"
   ]
  },
  {
   "cell_type": "markdown",
   "metadata": {},
   "source": [
    "### 9.4 Add Missing indicator imputation<a name=\"step9.4\"></a>"
   ]
  },
  {
   "cell_type": "code",
   "execution_count": 86,
   "metadata": {},
   "outputs": [
    {
     "data": {
      "text/plain": [
       "\"\\nimputer = AddMissingIndicator()\\n\\nimputer.fit(X_train)\\n\\n# transform the data - replace the missing values\\n\\nX_train = imputer.transform(X_train)\\nX_test = imputer.transform(X_test)\\n\\n# check that null values were replaced\\nX_train.isnull().mean()\\n\\n# check that null values were replaced\\nX_train.head()\\n#Not really useful\\ndiagnostic_plots(X_train,'fastestLapTime')\\n\""
      ]
     },
     "execution_count": 86,
     "metadata": {},
     "output_type": "execute_result"
    }
   ],
   "source": [
    "'''\n",
    "imputer = AddMissingIndicator()\n",
    "\n",
    "imputer.fit(X_train)\n",
    "\n",
    "# transform the data - replace the missing values\n",
    "\n",
    "X_train = imputer.transform(X_train)\n",
    "X_test = imputer.transform(X_test)\n",
    "\n",
    "# check that null values were replaced\n",
    "X_train.isnull().mean()\n",
    "\n",
    "# check that null values were replaced\n",
    "X_train.head()\n",
    "#Not really useful\n",
    "diagnostic_plots(X_train,'fastestLapTime')\n",
    "'''"
   ]
  },
  {
   "cell_type": "markdown",
   "metadata": {},
   "source": [
    "###  9.5 Random sample imputation<a name=\"step9.5\"></a>"
   ]
  },
  {
   "cell_type": "code",
   "execution_count": 87,
   "metadata": {},
   "outputs": [
    {
     "data": {
      "text/plain": [
       "\"\\n# let's create a random sample imputer\\n# Works for Categorical Data too\\n\\nimputer = RandomSampleImputer(variables=['fastestLapTime'])\\n\\nimputer.fit(X_train)\\n\\n# transform the data - replace the missing values\\n\\nX_train = imputer.transform(X_train)\\nX_test = imputer.transform(X_test)\\n\\n# check that null values were replaced\\n#X_train.isnull().mean()\\ndiagnostic_plots(X_train,'fastestLapTime')\\n\""
      ]
     },
     "execution_count": 87,
     "metadata": {},
     "output_type": "execute_result"
    }
   ],
   "source": [
    "'''\n",
    "# let's create a random sample imputer\n",
    "# Works for Categorical Data too\n",
    "\n",
    "imputer = RandomSampleImputer(variables=['fastestLapTime'])\n",
    "\n",
    "imputer.fit(X_train)\n",
    "\n",
    "# transform the data - replace the missing values\n",
    "\n",
    "X_train = imputer.transform(X_train)\n",
    "X_test = imputer.transform(X_test)\n",
    "\n",
    "# check that null values were replaced\n",
    "#X_train.isnull().mean()\n",
    "diagnostic_plots(X_train,'fastestLapTime')\n",
    "'''"
   ]
  },
  {
   "cell_type": "markdown",
   "metadata": {},
   "source": [
    "# 10. Categorical Data Encoding <a name=\"step10\"></a>\n",
    "<a href=\"#top\">Back to Table of contents</a>"
   ]
  },
  {
   "cell_type": "code",
   "execution_count": 88,
   "metadata": {},
   "outputs": [],
   "source": [
    "# make a list with the categorical variables\n",
    "X_train['constructorId'] = X_train['constructorId'].astype('category')\n",
    "X_train['name'] = X_train['name'].astype('category')\n",
    "X_train['raceId'] = X_train['raceId'].astype('category')\n",
    "X_test['constructorId'] = X_test['constructorId'].astype('category')\n",
    "X_test['name'] = X_test['name'].astype('category')\n",
    "X_test['raceId'] = X_test['raceId'].astype('category')"
   ]
  },
  {
   "cell_type": "code",
   "execution_count": 89,
   "metadata": {},
   "outputs": [
    {
     "name": "stdout",
     "output_type": "stream",
     "text": [
      "<class 'pandas.core.frame.DataFrame'>\n",
      "Int64Index: 1726 entries, 4408 to 6682\n",
      "Data columns (total 9 columns):\n",
      " #   Column           Non-Null Count  Dtype   \n",
      "---  ------           --------------  -----   \n",
      " 0   constructorId    1726 non-null   category\n",
      " 1   name             1726 non-null   category\n",
      " 2   raceId           1726 non-null   category\n",
      " 3   grid             1726 non-null   int64   \n",
      " 4   milliseconds     1726 non-null   float64 \n",
      " 5   fastestLapTime   1726 non-null   float64 \n",
      " 6   fastestLapSpeed  1726 non-null   float64 \n",
      " 7   points           1726 non-null   float64 \n",
      " 8   wins             1726 non-null   int64   \n",
      "dtypes: category(3), float64(4), int64(2)\n",
      "memory usage: 112.6 KB\n"
     ]
    },
    {
     "data": {
      "text/plain": [
       "constructorId      0.0\n",
       "name               0.0\n",
       "raceId             0.0\n",
       "grid               0.0\n",
       "milliseconds       0.0\n",
       "fastestLapTime     0.0\n",
       "fastestLapSpeed    0.0\n",
       "points             0.0\n",
       "wins               0.0\n",
       "dtype: float64"
      ]
     },
     "execution_count": 89,
     "metadata": {},
     "output_type": "execute_result"
    }
   ],
   "source": [
    "X_train.info()\n",
    "vars_categorical = ['constructorId','name','raceId']\n",
    "X_train.isnull().mean() #Check for any missing values"
   ]
  },
  {
   "cell_type": "markdown",
   "metadata": {},
   "source": [
    "### 10.1 One Hot Encoding<a name=\"step10.1\"></a>"
   ]
  },
  {
   "cell_type": "code",
   "execution_count": 90,
   "metadata": {},
   "outputs": [
    {
     "data": {
      "text/plain": [
       "\"\\n# let's create the encoder\\n#from feature_engine.encoding import OneHotEncoder\\n\\nohe_enc = OneHotEncoder(\\n    top_categories=None,\\n    drop_last=False)  # to return k-1, false to return k\\n# fit the encoder to the train set: it will learn the variables and \\n# categories to encode\\n\\nohe_enc.fit(X_train)\\n# we can see which variables the encoder will encode\\n\\nohe_enc.variables\\n\\n#let's transform train and test set\\n\\nX_train_enc = ohe_enc.transform(X_train)\\nX_test_enc = ohe_enc.transform(X_test)\\n\\n# let's inspect the encoded train set\\n\\nX_train_enc.head()\\n\""
      ]
     },
     "execution_count": 90,
     "metadata": {},
     "output_type": "execute_result"
    }
   ],
   "source": [
    "'''\n",
    "# let's create the encoder\n",
    "#from feature_engine.encoding import OneHotEncoder\n",
    "\n",
    "ohe_enc = OneHotEncoder(\n",
    "    top_categories=None,\n",
    "    drop_last=False)  # to return k-1, false to return k\n",
    "# fit the encoder to the train set: it will learn the variables and \n",
    "# categories to encode\n",
    "\n",
    "ohe_enc.fit(X_train)\n",
    "# we can see which variables the encoder will encode\n",
    "\n",
    "ohe_enc.variables\n",
    "\n",
    "#let's transform train and test set\n",
    "\n",
    "X_train_enc = ohe_enc.transform(X_train)\n",
    "X_test_enc = ohe_enc.transform(X_test)\n",
    "\n",
    "# let's inspect the encoded train set\n",
    "\n",
    "X_train_enc.head()\n",
    "'''"
   ]
  },
  {
   "cell_type": "markdown",
   "metadata": {},
   "source": [
    "### 10.2 One Hot Encoding for Top Categories<a name=\"step10.2\"></a>"
   ]
  },
  {
   "cell_type": "code",
   "execution_count": 91,
   "metadata": {},
   "outputs": [
    {
     "data": {
      "text/html": [
       "<div>\n",
       "<style scoped>\n",
       "    .dataframe tbody tr th:only-of-type {\n",
       "        vertical-align: middle;\n",
       "    }\n",
       "\n",
       "    .dataframe tbody tr th {\n",
       "        vertical-align: top;\n",
       "    }\n",
       "\n",
       "    .dataframe thead th {\n",
       "        text-align: right;\n",
       "    }\n",
       "</style>\n",
       "<table border=\"1\" class=\"dataframe\">\n",
       "  <thead>\n",
       "    <tr style=\"text-align: right;\">\n",
       "      <th></th>\n",
       "      <th>raceId</th>\n",
       "      <th>grid</th>\n",
       "      <th>milliseconds</th>\n",
       "      <th>fastestLapTime</th>\n",
       "      <th>fastestLapSpeed</th>\n",
       "      <th>points</th>\n",
       "      <th>wins</th>\n",
       "      <th>constructorId_6</th>\n",
       "      <th>constructorId_9</th>\n",
       "      <th>constructorId_1</th>\n",
       "      <th>...</th>\n",
       "      <th>constructorId_7</th>\n",
       "      <th>name_Ferrari</th>\n",
       "      <th>name_Red Bull</th>\n",
       "      <th>name_McLaren</th>\n",
       "      <th>name_Williams</th>\n",
       "      <th>name_Renault</th>\n",
       "      <th>name_Force India</th>\n",
       "      <th>name_Toro Rosso</th>\n",
       "      <th>name_BMW Sauber</th>\n",
       "      <th>name_Toyota</th>\n",
       "    </tr>\n",
       "  </thead>\n",
       "  <tbody>\n",
       "    <tr>\n",
       "      <th>4408</th>\n",
       "      <td>349</td>\n",
       "      <td>11</td>\n",
       "      <td>1.854006e-07</td>\n",
       "      <td>111600.0</td>\n",
       "      <td>12009.999311</td>\n",
       "      <td>0.0</td>\n",
       "      <td>0</td>\n",
       "      <td>0</td>\n",
       "      <td>0</td>\n",
       "      <td>0</td>\n",
       "      <td>...</td>\n",
       "      <td>0</td>\n",
       "      <td>0</td>\n",
       "      <td>0</td>\n",
       "      <td>0</td>\n",
       "      <td>0</td>\n",
       "      <td>0</td>\n",
       "      <td>0</td>\n",
       "      <td>1</td>\n",
       "      <td>0</td>\n",
       "      <td>0</td>\n",
       "    </tr>\n",
       "    <tr>\n",
       "      <th>6611</th>\n",
       "      <td>985</td>\n",
       "      <td>5</td>\n",
       "      <td>1.770924e-07</td>\n",
       "      <td>98800.0</td>\n",
       "      <td>9673.304315</td>\n",
       "      <td>33.0</td>\n",
       "      <td>4</td>\n",
       "      <td>1</td>\n",
       "      <td>0</td>\n",
       "      <td>0</td>\n",
       "      <td>...</td>\n",
       "      <td>0</td>\n",
       "      <td>1</td>\n",
       "      <td>0</td>\n",
       "      <td>0</td>\n",
       "      <td>0</td>\n",
       "      <td>0</td>\n",
       "      <td>0</td>\n",
       "      <td>0</td>\n",
       "      <td>0</td>\n",
       "      <td>0</td>\n",
       "    </tr>\n",
       "    <tr>\n",
       "      <th>4699</th>\n",
       "      <td>991</td>\n",
       "      <td>17</td>\n",
       "      <td>1.723333e-07</td>\n",
       "      <td>98400.0</td>\n",
       "      <td>9552.819910</td>\n",
       "      <td>0.0</td>\n",
       "      <td>0</td>\n",
       "      <td>0</td>\n",
       "      <td>0</td>\n",
       "      <td>0</td>\n",
       "      <td>...</td>\n",
       "      <td>0</td>\n",
       "      <td>0</td>\n",
       "      <td>0</td>\n",
       "      <td>0</td>\n",
       "      <td>0</td>\n",
       "      <td>0</td>\n",
       "      <td>0</td>\n",
       "      <td>1</td>\n",
       "      <td>0</td>\n",
       "      <td>0</td>\n",
       "    </tr>\n",
       "    <tr>\n",
       "      <th>6422</th>\n",
       "      <td>880</td>\n",
       "      <td>5</td>\n",
       "      <td>1.846492e-07</td>\n",
       "      <td>89600.0</td>\n",
       "      <td>10788.577912</td>\n",
       "      <td>30.0</td>\n",
       "      <td>0</td>\n",
       "      <td>1</td>\n",
       "      <td>0</td>\n",
       "      <td>0</td>\n",
       "      <td>...</td>\n",
       "      <td>0</td>\n",
       "      <td>1</td>\n",
       "      <td>0</td>\n",
       "      <td>0</td>\n",
       "      <td>0</td>\n",
       "      <td>0</td>\n",
       "      <td>0</td>\n",
       "      <td>0</td>\n",
       "      <td>0</td>\n",
       "      <td>0</td>\n",
       "    </tr>\n",
       "    <tr>\n",
       "      <th>7374</th>\n",
       "      <td>855</td>\n",
       "      <td>1</td>\n",
       "      <td>1.833035e-07</td>\n",
       "      <td>96900.0</td>\n",
       "      <td>11025.959017</td>\n",
       "      <td>27.0</td>\n",
       "      <td>9</td>\n",
       "      <td>0</td>\n",
       "      <td>1</td>\n",
       "      <td>0</td>\n",
       "      <td>...</td>\n",
       "      <td>0</td>\n",
       "      <td>0</td>\n",
       "      <td>1</td>\n",
       "      <td>0</td>\n",
       "      <td>0</td>\n",
       "      <td>0</td>\n",
       "      <td>0</td>\n",
       "      <td>0</td>\n",
       "      <td>0</td>\n",
       "      <td>0</td>\n",
       "    </tr>\n",
       "  </tbody>\n",
       "</table>\n",
       "<p>5 rows × 25 columns</p>\n",
       "</div>"
      ],
      "text/plain": [
       "     raceId  grid  milliseconds  fastestLapTime  fastestLapSpeed  points  \\\n",
       "4408    349    11  1.854006e-07        111600.0     12009.999311     0.0   \n",
       "6611    985     5  1.770924e-07         98800.0      9673.304315    33.0   \n",
       "4699    991    17  1.723333e-07         98400.0      9552.819910     0.0   \n",
       "6422    880     5  1.846492e-07         89600.0     10788.577912    30.0   \n",
       "7374    855     1  1.833035e-07         96900.0     11025.959017    27.0   \n",
       "\n",
       "      wins  constructorId_6  constructorId_9  constructorId_1  ...  \\\n",
       "4408     0                0                0                0  ...   \n",
       "6611     4                1                0                0  ...   \n",
       "4699     0                0                0                0  ...   \n",
       "6422     0                1                0                0  ...   \n",
       "7374     9                0                1                0  ...   \n",
       "\n",
       "      constructorId_7  name_Ferrari  name_Red Bull  name_McLaren  \\\n",
       "4408                0             0              0             0   \n",
       "6611                0             1              0             0   \n",
       "4699                0             0              0             0   \n",
       "6422                0             1              0             0   \n",
       "7374                0             0              1             0   \n",
       "\n",
       "      name_Williams  name_Renault  name_Force India  name_Toro Rosso  \\\n",
       "4408              0             0                 0                1   \n",
       "6611              0             0                 0                0   \n",
       "4699              0             0                 0                1   \n",
       "6422              0             0                 0                0   \n",
       "7374              0             0                 0                0   \n",
       "\n",
       "      name_BMW Sauber  name_Toyota  \n",
       "4408                0            0  \n",
       "6611                0            0  \n",
       "4699                0            0  \n",
       "6422                0            0  \n",
       "7374                0            0  \n",
       "\n",
       "[5 rows x 25 columns]"
      ]
     },
     "execution_count": 91,
     "metadata": {},
     "output_type": "execute_result"
    }
   ],
   "source": [
    "\n",
    "ohe_enc = OneHotEncoder(\n",
    "    \n",
    "    # to indicate how many top categories\n",
    "    top_categories= 10,  \n",
    "    \n",
    "    # we can select which variables to encode\n",
    "    variables=['constructorId','name'],\n",
    "    \n",
    "    # to indicate if we drop one of the binaries\n",
    "    drop_last=False)\n",
    "\n",
    "ohe_enc.fit(X_train)\n",
    "\n",
    "# the encoder stores the most frequent labels per variable\n",
    "\n",
    "ohe_enc.encoder_dict_\n",
    "\n",
    "# let's transform train and test sets\n",
    "X_train_enc = ohe_enc.transform(X_train)\n",
    "X_test_enc = ohe_enc.transform(X_test)\n",
    "\n",
    "# let's inspect the result\n",
    "\n",
    "X_train_enc.head()\n"
   ]
  },
  {
   "cell_type": "markdown",
   "metadata": {},
   "source": [
    "### 10.3 Replacing categories with ordinal numbers<a name=\"step10.3\"></a>"
   ]
  },
  {
   "cell_type": "code",
   "execution_count": 92,
   "metadata": {},
   "outputs": [
    {
     "data": {
      "text/plain": [
       "\"\\n# let's create the encoder\\n# for integer encoding using feature-engine\\nfrom feature_engine.encoding import OrdinalEncoder\\n\\nordinal_enc = OrdinalEncoder(\\n    encoding_method='arbitrary',\\n    variables=vars_categorical)\\n\\n# let's fit the encoder to the train and test set from One Hot Encoding of Top Category\\n\\nordinal_enc.fit(X_train)\\n\\n# let's inspect which variables the encoder will encode\\n\\nordinal_enc.variables\\n\\n# in the encoder dict we can observe the numbers\\n# assigned to each category for all the indicated variables\\n\\nordinal_enc.encoder_dict_\\n\\n# let's transform the train and test sets\\n\\nX_train = ordinal_enc.transform(X_train)\\nX_test = ordinal_enc.transform(X_train)\\nX_train.head()\\n\""
      ]
     },
     "execution_count": 92,
     "metadata": {},
     "output_type": "execute_result"
    }
   ],
   "source": [
    "\n",
    "'''\n",
    "# let's create the encoder\n",
    "# for integer encoding using feature-engine\n",
    "from feature_engine.encoding import OrdinalEncoder\n",
    "\n",
    "ordinal_enc = OrdinalEncoder(\n",
    "    encoding_method='arbitrary',\n",
    "    variables=vars_categorical)\n",
    "\n",
    "# let's fit the encoder to the train and test set from One Hot Encoding of Top Category\n",
    "\n",
    "ordinal_enc.fit(X_train)\n",
    "\n",
    "# let's inspect which variables the encoder will encode\n",
    "\n",
    "ordinal_enc.variables\n",
    "\n",
    "# in the encoder dict we can observe the numbers\n",
    "# assigned to each category for all the indicated variables\n",
    "\n",
    "ordinal_enc.encoder_dict_\n",
    "\n",
    "# let's transform the train and test sets\n",
    "\n",
    "X_train = ordinal_enc.transform(X_train)\n",
    "X_test = ordinal_enc.transform(X_train)\n",
    "X_train.head()\n",
    "'''"
   ]
  },
  {
   "cell_type": "markdown",
   "metadata": {},
   "source": [
    "### 10.4 Replacing categories with counts or frequency of observations<a name=\"step10.4\"></a>"
   ]
  },
  {
   "cell_type": "code",
   "execution_count": 93,
   "metadata": {},
   "outputs": [
    {
     "data": {
      "text/plain": [
       "\"\\n# let's create an encoder\\n\\ncount_enc = CountFrequencyEncoder(\\n    encoding_method='count', # to do frequency ==> encoding_method='frequency'\\n    variables = vars_categorical)\\n\\n# fit the encoder to the train set\\ncount_enc.fit(X_train)\\n\\n# the encoder stores the variables it will encode\\n\\ncount_enc.variables\\n\\n# in the encoder dict contains the counts or frequencies\\n# per category per variable\\n\\ncount_enc.encoder_dict_\\n\\n# let's transform train and test sets\\n\\nX_train_enc = count_enc.transform(X_train)\\nX_test_enc = count_enc.transform(X_train)\\n\\n# let's inspect the result\\n\\nX_train_enc.head()\\n\""
      ]
     },
     "execution_count": 93,
     "metadata": {},
     "output_type": "execute_result"
    }
   ],
   "source": [
    "'''\n",
    "# let's create an encoder\n",
    "\n",
    "count_enc = CountFrequencyEncoder(\n",
    "    encoding_method='count', # to do frequency ==> encoding_method='frequency'\n",
    "    variables = vars_categorical)\n",
    "\n",
    "# fit the encoder to the train set\n",
    "count_enc.fit(X_train)\n",
    "\n",
    "# the encoder stores the variables it will encode\n",
    "\n",
    "count_enc.variables\n",
    "\n",
    "# in the encoder dict contains the counts or frequencies\n",
    "# per category per variable\n",
    "\n",
    "count_enc.encoder_dict_\n",
    "\n",
    "# let's transform train and test sets\n",
    "\n",
    "X_train_enc = count_enc.transform(X_train)\n",
    "X_test_enc = count_enc.transform(X_train)\n",
    "\n",
    "# let's inspect the result\n",
    "\n",
    "X_train_enc.head()\n",
    "'''"
   ]
  },
  {
   "cell_type": "markdown",
   "metadata": {},
   "source": [
    "### 10.5 Ordered Ordinal Encoding<a name=\"step10.5\"></a>"
   ]
  },
  {
   "cell_type": "code",
   "execution_count": 94,
   "metadata": {},
   "outputs": [
    {
     "data": {
      "text/plain": [
       "\"\\n# let's create the encoder\\nordinal_enc = OrdinalEncoder(\\n    encoding_method='ordered')\\n\\n# when fitting the transformer, we need to pass the target as well\\nordinal_enc.fit(X_train,y_train)\\n\\n# the encoder stores the variables it will encode\\ncount_enc.variables\\n# in the encoder dict we can observe the numbers that will\\n#replace each category in each variable\\n\\nordinal_enc.encoder_dict_\\n# let's transform train and test sets\\n\\nX_train_enc = ordinal_enc.transform(X_train)\\nX_test_enc = ordinal_enc.transform(X_test)\\n\\nX_train_enc.head()\\n\""
      ]
     },
     "execution_count": 94,
     "metadata": {},
     "output_type": "execute_result"
    }
   ],
   "source": [
    "'''\n",
    "# let's create the encoder\n",
    "ordinal_enc = OrdinalEncoder(\n",
    "    encoding_method='ordered')\n",
    "\n",
    "# when fitting the transformer, we need to pass the target as well\n",
    "ordinal_enc.fit(X_train,y_train)\n",
    "\n",
    "# the encoder stores the variables it will encode\n",
    "count_enc.variables\n",
    "# in the encoder dict we can observe the numbers that will\n",
    "#replace each category in each variable\n",
    "\n",
    "ordinal_enc.encoder_dict_\n",
    "# let's transform train and test sets\n",
    "\n",
    "X_train_enc = ordinal_enc.transform(X_train)\n",
    "X_test_enc = ordinal_enc.transform(X_test)\n",
    "\n",
    "X_train_enc.head()\n",
    "'''\n"
   ]
  },
  {
   "cell_type": "markdown",
   "metadata": {},
   "source": [
    "### 10.6 Target Mean Encoding<a name=\"step10.6\"></a>"
   ]
  },
  {
   "cell_type": "code",
   "execution_count": 95,
   "metadata": {},
   "outputs": [
    {
     "data": {
      "text/plain": [
       "\"\\n# let's create the encoder\\n\\nmean_enc = MeanEncoder(variables=None)\\n\\n# when fitting the transformer, we need to pass the target as well\\nmean_enc.fit(X_train, y_train)\\n# variables that will be encoded\\nmean_enc.variables\\n# in the encoder dict we can observe the target mean per category per variable\\nmean_enc.encoder_dict_\\n# let's transform train and test sets\\n\\nX_train_enc = count_enc.transform(X_train)\\nX_test_enc = count_enc.transform(X_test)\\nX_train_enc.head()\\n\""
      ]
     },
     "execution_count": 95,
     "metadata": {},
     "output_type": "execute_result"
    }
   ],
   "source": [
    "'''\n",
    "# let's create the encoder\n",
    "\n",
    "mean_enc = MeanEncoder(variables=None)\n",
    "\n",
    "# when fitting the transformer, we need to pass the target as well\n",
    "mean_enc.fit(X_train, y_train)\n",
    "# variables that will be encoded\n",
    "mean_enc.variables\n",
    "# in the encoder dict we can observe the target mean per category per variable\n",
    "mean_enc.encoder_dict_\n",
    "# let's transform train and test sets\n",
    "\n",
    "X_train_enc = count_enc.transform(X_train)\n",
    "X_test_enc = count_enc.transform(X_test)\n",
    "X_train_enc.head()\n",
    "'''"
   ]
  },
  {
   "cell_type": "markdown",
   "metadata": {},
   "source": [
    "###  10.7 Rare Category Encoder<a name=\"step10.7\"></a>"
   ]
  },
  {
   "cell_type": "code",
   "execution_count": 96,
   "metadata": {},
   "outputs": [
    {
     "data": {
      "text/plain": [
       "\"\\n# Rare category encoder\\n\\nrare_encoder = RareLabelEncoder(tol=0.05, n_categories=4)\\n\\n# let's fit the encoder to the train set\\nrare_encoder.fit(X_train)\\n# variables that will be encoded\\nrare_encoder.variables\\n# in the encoder dict we can observe the number of observations per category for each variable\\nrare_encoder.encoder_dict_\\n# let's transform the train and test sets\\n\\nX_train_enc = rare_encoder.transform(X_train)\\nX_test_enc = rare_encoder.transform(X_test)\\nX_train_enc.head()\\n\""
      ]
     },
     "execution_count": 96,
     "metadata": {},
     "output_type": "execute_result"
    }
   ],
   "source": [
    "'''\n",
    "# Rare category encoder\n",
    "\n",
    "rare_encoder = RareLabelEncoder(tol=0.05, n_categories=4)\n",
    "\n",
    "# let's fit the encoder to the train set\n",
    "rare_encoder.fit(X_train)\n",
    "# variables that will be encoded\n",
    "rare_encoder.variables\n",
    "# in the encoder dict we can observe the number of observations per category for each variable\n",
    "rare_encoder.encoder_dict_\n",
    "# let's transform the train and test sets\n",
    "\n",
    "X_train_enc = rare_encoder.transform(X_train)\n",
    "X_test_enc = rare_encoder.transform(X_test)\n",
    "X_train_enc.head()\n",
    "'''"
   ]
  },
  {
   "cell_type": "markdown",
   "metadata": {},
   "source": [
    "# 11 Variable Discretization /Binning<a name=\"step11\"></a>\n",
    "<a href=\"#top\">Back to Table of contents</a>"
   ]
  },
  {
   "cell_type": "markdown",
   "metadata": {},
   "source": [
    "#### we will sort the numerical variables into bins/groups of different values and sizes\n",
    "#### Such as numerical variables: milliseconds,fastestLapTime,fastestLapSpeed,points,wins           "
   ]
  },
  {
   "cell_type": "markdown",
   "metadata": {},
   "source": [
    "### 11.1 Equal Width Discretization (Chosen) <a name=\"step11.1\"></a>"
   ]
  },
  {
   "cell_type": "code",
   "execution_count": 97,
   "metadata": {},
   "outputs": [],
   "source": [
    "\n",
    "# with feature engine we can automate the process for many variables\n",
    "# in one line of code\n",
    "\n",
    "disc = EqualWidthDiscretiser(bins= 10, variables = ['milliseconds','fastestLapTime','fastestLapSpeed','points','wins'])\n",
    "\n",
    "disc.fit(X_train_enc)\n",
    "# the limits of the intervals are stored in the binner_dict_\n",
    "\n",
    "disc.binner_dict_\n",
    "\n",
    "# transform train and test sets\n",
    "\n",
    "train_t = disc.transform(X_train_enc)\n",
    "test_t = disc.transform(X_test_enc)"
   ]
  },
  {
   "cell_type": "markdown",
   "metadata": {},
   "source": [
    "### 11.2 Equal Frequency Discretization <a name=\"step11.2\"></a>"
   ]
  },
  {
   "cell_type": "code",
   "execution_count": 98,
   "metadata": {},
   "outputs": [
    {
     "data": {
      "text/plain": [
       "\"\\n# with feature engine we can automate the process for many variables\\n# in one line of code\\n\\ndisc = EqualFrequencyDiscretiser(q=10, variables = ['milliseconds','fastestLapTime','fastestLapSpeed','points','wins'])\\n\\ndisc.fit(X_train_enc)\\n# in the binner dict, we can see the limits of the intervals\\n# for each variable\\n\\ndisc.binner_dict_\\n# transform train and test sets\\n\\ntrain_t = disc.transform(X_train_enc)\\ntest_t = disc.transform(X_test_enc)\\n\""
      ]
     },
     "execution_count": 98,
     "metadata": {},
     "output_type": "execute_result"
    }
   ],
   "source": [
    "'''\n",
    "# with feature engine we can automate the process for many variables\n",
    "# in one line of code\n",
    "\n",
    "disc = EqualFrequencyDiscretiser(q=10, variables = ['milliseconds','fastestLapTime','fastestLapSpeed','points','wins'])\n",
    "\n",
    "disc.fit(X_train_enc)\n",
    "# in the binner dict, we can see the limits of the intervals\n",
    "# for each variable\n",
    "\n",
    "disc.binner_dict_\n",
    "# transform train and test sets\n",
    "\n",
    "train_t = disc.transform(X_train_enc)\n",
    "test_t = disc.transform(X_test_enc)\n",
    "'''"
   ]
  },
  {
   "cell_type": "markdown",
   "metadata": {},
   "source": [
    "### Milliseconds"
   ]
  },
  {
   "cell_type": "code",
   "execution_count": 99,
   "metadata": {},
   "outputs": [
    {
     "data": {
      "text/plain": [
       "Text(0, 0.5, 'Number of observations per bin')"
      ]
     },
     "execution_count": 99,
     "metadata": {},
     "output_type": "execute_result"
    },
    {
     "data": {
      "image/png": "[encoded data removed]",
      "text/plain": [
       "<Figure size 432x288 with 1 Axes>"
      ]
     },
     "metadata": {
      "needs_background": "light"
     },
     "output_type": "display_data"
    }
   ],
   "source": [
    "# if the distributions in train and test set are similar, we should expect similar propotion of\n",
    "# observations in the different intervals in the train and test set\n",
    "\n",
    "# Item_Weight\n",
    "# calculate proportion of observations per interval\n",
    "t1 = train_t.groupby(['milliseconds'])['milliseconds'].count() / len(train_t)\n",
    "t2 = test_t.groupby(['milliseconds'])['milliseconds'].count() / len(test_t)\n",
    "\n",
    "# concatenate aggregated views\n",
    "tmp = pd.concat([t1, t2], axis=1)\n",
    "tmp.columns = ['train', 'test']\n",
    "\n",
    "# plot\n",
    "tmp.plot.bar()\n",
    "plt.xticks(rotation=0)\n",
    "plt.ylabel('Number of observations per bin')\n"
   ]
  },
  {
   "cell_type": "markdown",
   "metadata": {},
   "source": [
    "### Fastest Lap Time"
   ]
  },
  {
   "cell_type": "code",
   "execution_count": 100,
   "metadata": {},
   "outputs": [
    {
     "data": {
      "text/plain": [
       "Text(0, 0.5, 'Number of observations per bin')"
      ]
     },
     "execution_count": 100,
     "metadata": {},
     "output_type": "execute_result"
    },
    {
     "data": {
      "image/png": "[encoded data removed]",
      "text/plain": [
       "<Figure size 432x288 with 1 Axes>"
      ]
     },
     "metadata": {
      "needs_background": "light"
     },
     "output_type": "display_data"
    }
   ],
   "source": [
    "# if the distributions in train and test set are similar, we should expect similar propotion of\n",
    "# observations in the different intervals in the train and test set\n",
    "\n",
    "# Item_Weight\n",
    "# calculate proportion of observations per interval\n",
    "t1 = train_t.groupby(['fastestLapTime'])['fastestLapTime'].count() / len(train_t)\n",
    "t2 = test_t.groupby(['fastestLapTime'])['fastestLapTime'].count() / len(test_t)\n",
    "\n",
    "# concatenate aggregated views\n",
    "tmp = pd.concat([t1, t2], axis=1)\n",
    "tmp.columns = ['train', 'test']\n",
    "\n",
    "# plot\n",
    "tmp.plot.bar()\n",
    "plt.xticks(rotation=0)\n",
    "plt.ylabel('Number of observations per bin')\n"
   ]
  },
  {
   "cell_type": "markdown",
   "metadata": {},
   "source": [
    "### Fastest Lap Speed"
   ]
  },
  {
   "cell_type": "code",
   "execution_count": 101,
   "metadata": {},
   "outputs": [
    {
     "data": {
      "text/plain": [
       "Text(0, 0.5, 'Number of observations per bin')"
      ]
     },
     "execution_count": 101,
     "metadata": {},
     "output_type": "execute_result"
    },
    {
     "data": {
      "image/png": "[encoded data removed]",
      "text/plain": [
       "<Figure size 432x288 with 1 Axes>"
      ]
     },
     "metadata": {
      "needs_background": "light"
     },
     "output_type": "display_data"
    }
   ],
   "source": [
    "# if the distributions in train and test set are similar, we should expect similar propotion of\n",
    "# observations in the different intervals in the train and test set\n",
    "\n",
    "# Item_Weight\n",
    "# calculate proportion of observations per interval\n",
    "t1 = train_t.groupby(['fastestLapSpeed'])['fastestLapSpeed'].count() / len(train_t)\n",
    "t2 = test_t.groupby(['fastestLapSpeed'])['fastestLapSpeed'].count() / len(test_t)\n",
    "\n",
    "# concatenate aggregated views\n",
    "tmp = pd.concat([t1, t2], axis=1)\n",
    "tmp.columns = ['train', 'test']\n",
    "\n",
    "# plot\n",
    "tmp.plot.bar()\n",
    "plt.xticks(rotation=0)\n",
    "plt.ylabel('Number of observations per bin')\n"
   ]
  },
  {
   "cell_type": "markdown",
   "metadata": {},
   "source": [
    "### Points"
   ]
  },
  {
   "cell_type": "code",
   "execution_count": 102,
   "metadata": {},
   "outputs": [
    {
     "data": {
      "text/plain": [
       "Text(0, 0.5, 'Number of observations per bin')"
      ]
     },
     "execution_count": 102,
     "metadata": {},
     "output_type": "execute_result"
    },
    {
     "data": {
      "image/png": "[encoded data removed]",
      "text/plain": [
       "<Figure size 432x288 with 1 Axes>"
      ]
     },
     "metadata": {
      "needs_background": "light"
     },
     "output_type": "display_data"
    }
   ],
   "source": [
    "# if the distributions in train and test set are similar, we should expect similar propotion of\n",
    "# observations in the different intervals in the train and test set\n",
    "\n",
    "# Item_Weight\n",
    "# calculate proportion of observations per interval\n",
    "t1 = train_t.groupby(['points'])['points'].count() / len(train_t)\n",
    "t2 = test_t.groupby(['points'])['points'].count() / len(test_t)\n",
    "\n",
    "# concatenate aggregated views\n",
    "tmp = pd.concat([t1, t2], axis=1)\n",
    "tmp.columns = ['train', 'test']\n",
    "\n",
    "# plot\n",
    "tmp.plot.bar()\n",
    "plt.xticks(rotation=0)\n",
    "plt.ylabel('Number of observations per bin')\n"
   ]
  },
  {
   "cell_type": "markdown",
   "metadata": {},
   "source": [
    "### Wins"
   ]
  },
  {
   "cell_type": "code",
   "execution_count": 103,
   "metadata": {},
   "outputs": [
    {
     "data": {
      "text/plain": [
       "Text(0, 0.5, 'Number of observations per bin')"
      ]
     },
     "execution_count": 103,
     "metadata": {},
     "output_type": "execute_result"
    },
    {
     "data": {
      "image/png": "[encoded data removed]",
      "text/plain": [
       "<Figure size 432x288 with 1 Axes>"
      ]
     },
     "metadata": {
      "needs_background": "light"
     },
     "output_type": "display_data"
    }
   ],
   "source": [
    "# if the distributions in train and test set are similar, we should expect similar propotion of\n",
    "# observations in the different intervals in the train and test set\n",
    "\n",
    "# Item_Weight\n",
    "# calculate proportion of observations per interval\n",
    "t1 = train_t.groupby(['wins'])['wins'].count() / len(train_t)\n",
    "t2 = test_t.groupby(['wins'])['wins'].count() / len(test_t)\n",
    "\n",
    "# concatenate aggregated views\n",
    "tmp = pd.concat([t1, t2], axis=1)\n",
    "tmp.columns = ['train', 'test']\n",
    "\n",
    "# plot\n",
    "tmp.plot.bar()\n",
    "plt.xticks(rotation=0)\n",
    "plt.ylabel('Number of observations per bin')\n"
   ]
  },
  {
   "cell_type": "markdown",
   "metadata": {},
   "source": [
    "## 11.3 Discretization plus categorical encoding<a name=\"step11.3\"></a>"
   ]
  },
  {
   "cell_type": "code",
   "execution_count": 104,
   "metadata": {},
   "outputs": [
    {
     "data": {
      "text/plain": [
       "\"\\n# with feature engine we can automate the process for many variables\\n# in one line of code\\n\\ndisc = EqualFrequencyDiscretiser(\\n    q=10, variables=['milliseconds','fastestLapTime','fastestLapSpeed','points','wins'], return_object=True)\\n\\ndisc.fit(X_train)\\n\\n\\n# transform train and test\\n\\ntrain_t = disc.transform(X_train)\\ntest_t = disc.transform(X_test)\\n\\ntrain_t[['milliseconds','fastestLapTime','fastestLapSpeed','points','wins']]\\n\\n# let's order the bins\\n\\nenc = OrdinalEncoder(encoding_method = 'ordered')\\n\\nenc.fit(train_t, y_train)\\n\""
      ]
     },
     "execution_count": 104,
     "metadata": {},
     "output_type": "execute_result"
    }
   ],
   "source": [
    "'''\n",
    "# with feature engine we can automate the process for many variables\n",
    "# in one line of code\n",
    "\n",
    "disc = EqualFrequencyDiscretiser(\n",
    "    q=10, variables=['milliseconds','fastestLapTime','fastestLapSpeed','points','wins'], return_object=True)\n",
    "\n",
    "disc.fit(X_train)\n",
    "\n",
    "\n",
    "# transform train and test\n",
    "\n",
    "train_t = disc.transform(X_train)\n",
    "test_t = disc.transform(X_test)\n",
    "\n",
    "train_t[['milliseconds','fastestLapTime','fastestLapSpeed','points','wins']]\n",
    "\n",
    "# let's order the bins\n",
    "\n",
    "enc = OrdinalEncoder(encoding_method = 'ordered')\n",
    "\n",
    "enc.fit(train_t, y_train)\n",
    "'''"
   ]
  },
  {
   "cell_type": "code",
   "execution_count": 105,
   "metadata": {},
   "outputs": [
    {
     "data": {
      "text/plain": [
       "\"\\n# let's explore if the bins have a linear relationship\\n# with the target: we see they don't\\n\\npd.concat([train_t, y_train], axis=1).groupby('milliseconds')['positionOrder'].mean().plot()\\nplt.ylabel('positionOrder')\\n\""
      ]
     },
     "execution_count": 105,
     "metadata": {},
     "output_type": "execute_result"
    }
   ],
   "source": [
    "'''\n",
    "# let's explore if the bins have a linear relationship\n",
    "# with the target: we see they don't\n",
    "\n",
    "pd.concat([train_t, y_train], axis=1).groupby('milliseconds')['positionOrder'].mean().plot()\n",
    "plt.ylabel('positionOrder')\n",
    "'''"
   ]
  },
  {
   "cell_type": "code",
   "execution_count": 106,
   "metadata": {},
   "outputs": [
    {
     "data": {
      "text/plain": [
       "\"\\n# let's explore if the bins have a linear relationship\\n# with the target: we can see that the longer the lap time, the higher the position\\n\\npd.concat([train_t, y_train], axis=1).groupby('fastestLapTime')['positionOrder'].mean().plot()\\nplt.ylabel('positionOrder')\\n\""
      ]
     },
     "execution_count": 106,
     "metadata": {},
     "output_type": "execute_result"
    }
   ],
   "source": [
    "'''\n",
    "# let's explore if the bins have a linear relationship\n",
    "# with the target: we can see that the longer the lap time, the higher the position\n",
    "\n",
    "pd.concat([train_t, y_train], axis=1).groupby('fastestLapTime')['positionOrder'].mean().plot()\n",
    "plt.ylabel('positionOrder')\n",
    "'''"
   ]
  },
  {
   "cell_type": "code",
   "execution_count": 107,
   "metadata": {},
   "outputs": [
    {
     "data": {
      "text/plain": [
       "\"\\n# let's explore if the bins have a linear relationship\\n# with the target: we see they don't\\n\\npd.concat([train_t, y_train], axis=1).groupby('fastestLapSpeed')['positionOrder'].mean().plot()\\nplt.ylabel('positionOrder')\\n\""
      ]
     },
     "execution_count": 107,
     "metadata": {},
     "output_type": "execute_result"
    }
   ],
   "source": [
    "'''\n",
    "# let's explore if the bins have a linear relationship\n",
    "# with the target: we see they don't\n",
    "\n",
    "pd.concat([train_t, y_train], axis=1).groupby('fastestLapSpeed')['positionOrder'].mean().plot()\n",
    "plt.ylabel('positionOrder')\n",
    "'''"
   ]
  },
  {
   "cell_type": "code",
   "execution_count": 108,
   "metadata": {},
   "outputs": [
    {
     "data": {
      "text/plain": [
       "\"\\n# let's explore if the bins have a linear relationship\\n# with the target: We can see that the higher the points, the lower the position\\n\\npd.concat([train_t, y_train], axis=1).groupby('points')['positionOrder'].mean().plot()\\nplt.ylabel('positionOrder')\\n\""
      ]
     },
     "execution_count": 108,
     "metadata": {},
     "output_type": "execute_result"
    }
   ],
   "source": [
    "'''\n",
    "# let's explore if the bins have a linear relationship\n",
    "# with the target: We can see that the higher the points, the lower the position\n",
    "\n",
    "pd.concat([train_t, y_train], axis=1).groupby('points')['positionOrder'].mean().plot()\n",
    "plt.ylabel('positionOrder')\n",
    "'''"
   ]
  },
  {
   "cell_type": "code",
   "execution_count": 109,
   "metadata": {},
   "outputs": [
    {
     "data": {
      "text/plain": [
       "\"\\n# let's explore if the bins have a linear relationship\\n# with the target: We can see that the higher the number of wins, the lower the position\\n\\npd.concat([train_t, y_train], axis=1).groupby('wins')['positionOrder'].mean().plot()\\nplt.ylabel('positionOrder')\\n\""
      ]
     },
     "execution_count": 109,
     "metadata": {},
     "output_type": "execute_result"
    }
   ],
   "source": [
    "'''\n",
    "# let's explore if the bins have a linear relationship\n",
    "# with the target: We can see that the higher the number of wins, the lower the position\n",
    "\n",
    "pd.concat([train_t, y_train], axis=1).groupby('wins')['positionOrder'].mean().plot()\n",
    "plt.ylabel('positionOrder')\n",
    "'''"
   ]
  },
  {
   "cell_type": "markdown",
   "metadata": {},
   "source": [
    "## 11.4 Arbitary interval discretization<a name=\"step11.4\"></a>"
   ]
  },
  {
   "cell_type": "markdown",
   "metadata": {},
   "source": [
    "### 11.4.1 Milliseconds<a name=\"step11.4.1\"></a>"
   ]
  },
  {
   "cell_type": "code",
   "execution_count": 110,
   "metadata": {},
   "outputs": [
    {
     "data": {
      "text/plain": [
       "\"\\n# let's plot a histogram to understand the value range of \\n#the variables 'milliseconds','fastestLapTime','fastestLapSpeed','points','wins'\\n\\nt_merged_df['milliseconds'].hist(bins=30)\\n\""
      ]
     },
     "execution_count": 110,
     "metadata": {},
     "output_type": "execute_result"
    }
   ],
   "source": [
    "'''\n",
    "# let's plot a histogram to understand the value range of \n",
    "#the variables 'milliseconds','fastestLapTime','fastestLapSpeed','points','wins'\n",
    "\n",
    "t_merged_df['milliseconds'].hist(bins=30)\n",
    "'''"
   ]
  },
  {
   "cell_type": "code",
   "execution_count": 111,
   "metadata": {},
   "outputs": [
    {
     "data": {
      "text/plain": [
       "\"\\n# bin boundaries - we will use with pandas cut()\\nintervals_weight = [0, 1.2e-07, 1.6e-07, 1.8e-07, 2.0e-07, np.Inf]\\n# 5 interval limits, you need 5 points to have 4 catagories, and it is mapped directly to the table.\\n# bin labels - we will use with pandas cut()\\n\\nlabels_weight = ['0-1.2e-07','1.2e-07-1.6e-07', '1.6e-07-1.8e-07,', '1.8e-07-2.0e-07', '>2.0e-07']\\n# discretize Item_Weight\\n\\n# create a discretized version of the variable where the values are the\\n# strings we created in the previous cell\\nt_merged_df['milliseconds_labels'] = pd.cut(\\n    t_merged_df['milliseconds'], bins=intervals_weight, labels=labels_weight, include_lowest=True)\\n\\n# let's create a version of the discretized variable were the values are\\n# the interval limits\\nt_merged_df['milliseconds_intervals'] = pd.cut(\\n    t_merged_df['milliseconds'], bins=intervals_weight, labels=None, include_lowest=True)\\n\\n# plot the original and 2 versions of the discretized variable\\nprint(t_merged_df[['milliseconds','fastestLapTime','fastestLapSpeed','points','wins']].head())\\n# let's check the number of observations per bin\\nt_merged_df['milliseconds_intervals'].value_counts()\\n\""
      ]
     },
     "execution_count": 111,
     "metadata": {},
     "output_type": "execute_result"
    }
   ],
   "source": [
    "'''\n",
    "# bin boundaries - we will use with pandas cut()\n",
    "intervals_weight = [0, 1.2e-07, 1.6e-07, 1.8e-07, 2.0e-07, np.Inf]\n",
    "# 5 interval limits, you need 5 points to have 4 catagories, and it is mapped directly to the table.\n",
    "# bin labels - we will use with pandas cut()\n",
    "\n",
    "labels_weight = ['0-1.2e-07','1.2e-07-1.6e-07', '1.6e-07-1.8e-07,', '1.8e-07-2.0e-07', '>2.0e-07']\n",
    "# discretize Item_Weight\n",
    "\n",
    "# create a discretized version of the variable where the values are the\n",
    "# strings we created in the previous cell\n",
    "t_merged_df['milliseconds_labels'] = pd.cut(\n",
    "    t_merged_df['milliseconds'], bins=intervals_weight, labels=labels_weight, include_lowest=True)\n",
    "\n",
    "# let's create a version of the discretized variable were the values are\n",
    "# the interval limits\n",
    "t_merged_df['milliseconds_intervals'] = pd.cut(\n",
    "    t_merged_df['milliseconds'], bins=intervals_weight, labels=None, include_lowest=True)\n",
    "\n",
    "# plot the original and 2 versions of the discretized variable\n",
    "print(t_merged_df[['milliseconds','fastestLapTime','fastestLapSpeed','points','wins']].head())\n",
    "# let's check the number of observations per bin\n",
    "t_merged_df['milliseconds_intervals'].value_counts()\n",
    "'''"
   ]
  },
  {
   "cell_type": "markdown",
   "metadata": {},
   "source": [
    "### 11.4.2 Fastest Lap Time<a name=\"step11.4.2\"></a>"
   ]
  },
  {
   "cell_type": "code",
   "execution_count": 112,
   "metadata": {},
   "outputs": [
    {
     "data": {
      "text/plain": [
       "\"\\n# bin boundaries - we will use with pandas cut()\\nintervals_weight = [0, 87500, 90000, 92500, 95000, np.Inf]\\n# 5 interval limits, you need 5 points to have 4 catagories, and it is mapped directly to the table.\\n# bin labels - we will use with pandas cut()\\n\\nlabels_weight = ['0-87500','87500-90000', '90000-92500,', '92500-95000', '>95000']\\n# discretize Item_Weight\\n\\n# create a discretized version of the variable where the values are the\\n# strings we created in the previous cell\\nt_merged_df['fastestLapTime_labels'] = pd.cut(\\n    t_merged_df['fastestLapTime'], bins=intervals_weight, labels=labels_weight, include_lowest=True)\\n\\n# let's create a version of the discretized variable were the values are\\n# the interval limits\\nt_merged_df['fastestLapTime_intervals'] = pd.cut(\\n    t_merged_df['fastestLapTime'], bins=intervals_weight, labels=None, include_lowest=True)\\n\\n# plot the original and 2 versions of the discretized variable\\nprint(t_merged_df[['milliseconds','fastestLapTime','fastestLapSpeed','points','wins']].head())\\n# let's check the number of observations per bin\\nt_merged_df['fastestLapTime_intervals'].value_counts()\\n\""
      ]
     },
     "execution_count": 112,
     "metadata": {},
     "output_type": "execute_result"
    }
   ],
   "source": [
    "'''\n",
    "# bin boundaries - we will use with pandas cut()\n",
    "intervals_weight = [0, 87500, 90000, 92500, 95000, np.Inf]\n",
    "# 5 interval limits, you need 5 points to have 4 catagories, and it is mapped directly to the table.\n",
    "# bin labels - we will use with pandas cut()\n",
    "\n",
    "labels_weight = ['0-87500','87500-90000', '90000-92500,', '92500-95000', '>95000']\n",
    "# discretize Item_Weight\n",
    "\n",
    "# create a discretized version of the variable where the values are the\n",
    "# strings we created in the previous cell\n",
    "t_merged_df['fastestLapTime_labels'] = pd.cut(\n",
    "    t_merged_df['fastestLapTime'], bins=intervals_weight, labels=labels_weight, include_lowest=True)\n",
    "\n",
    "# let's create a version of the discretized variable were the values are\n",
    "# the interval limits\n",
    "t_merged_df['fastestLapTime_intervals'] = pd.cut(\n",
    "    t_merged_df['fastestLapTime'], bins=intervals_weight, labels=None, include_lowest=True)\n",
    "\n",
    "# plot the original and 2 versions of the discretized variable\n",
    "print(t_merged_df[['milliseconds','fastestLapTime','fastestLapSpeed','points','wins']].head())\n",
    "# let's check the number of observations per bin\n",
    "t_merged_df['fastestLapTime_intervals'].value_counts()\n",
    "'''"
   ]
  },
  {
   "cell_type": "markdown",
   "metadata": {},
   "source": [
    "### 11.4.3 Fastest Lap Speed<a name=\"step11.4.3\"></a>"
   ]
  },
  {
   "cell_type": "code",
   "execution_count": 113,
   "metadata": {},
   "outputs": [
    {
     "data": {
      "text/plain": [
       "\"\\n# bin boundaries - we will use with pandas cut()\\nintervals_weight = [0, 10000, 10500, 11000, 11500, np.Inf]\\n# 5 interval limits, you need 5 points to have 4 catagories, and it is mapped directly to the table.\\n# bin labels - we will use with pandas cut()\\n\\nlabels_weight = ['0-10000','10000-10500', '10500-11000,', '11000-11500', '>11500']\\n# discretize Item_Weight\\n\\n# create a discretized version of the variable where the values are the\\n# strings we created in the previous cell\\nt_merged_df['fastestLapSpeed_labels'] = pd.cut(\\n    t_merged_df['fastestLapSpeed'], bins=intervals_weight, labels=labels_weight, include_lowest=True)\\n\\n# let's create a version of the discretized variable were the values are\\n# the interval limits\\nt_merged_df['fastestLapSpeed_intervals'] = pd.cut(\\n    t_merged_df['fastestLapSpeed'], bins=intervals_weight, labels=None, include_lowest=True)\\n\\n# plot the original and 2 versions of the discretized variable\\nprint(t_merged_df[['milliseconds','fastestLapTime','fastestLapSpeed','points','wins']].head())\\n# let's check the number of observations per bin\\nt_merged_df['fastestLapSpeed_intervals'].value_counts()\\n\""
      ]
     },
     "execution_count": 113,
     "metadata": {},
     "output_type": "execute_result"
    }
   ],
   "source": [
    "'''\n",
    "# bin boundaries - we will use with pandas cut()\n",
    "intervals_weight = [0, 10000, 10500, 11000, 11500, np.Inf]\n",
    "# 5 interval limits, you need 5 points to have 4 catagories, and it is mapped directly to the table.\n",
    "# bin labels - we will use with pandas cut()\n",
    "\n",
    "labels_weight = ['0-10000','10000-10500', '10500-11000,', '11000-11500', '>11500']\n",
    "# discretize Item_Weight\n",
    "\n",
    "# create a discretized version of the variable where the values are the\n",
    "# strings we created in the previous cell\n",
    "t_merged_df['fastestLapSpeed_labels'] = pd.cut(\n",
    "    t_merged_df['fastestLapSpeed'], bins=intervals_weight, labels=labels_weight, include_lowest=True)\n",
    "\n",
    "# let's create a version of the discretized variable were the values are\n",
    "# the interval limits\n",
    "t_merged_df['fastestLapSpeed_intervals'] = pd.cut(\n",
    "    t_merged_df['fastestLapSpeed'], bins=intervals_weight, labels=None, include_lowest=True)\n",
    "\n",
    "# plot the original and 2 versions of the discretized variable\n",
    "print(t_merged_df[['milliseconds','fastestLapTime','fastestLapSpeed','points','wins']].head())\n",
    "# let's check the number of observations per bin\n",
    "t_merged_df['fastestLapSpeed_intervals'].value_counts()\n",
    "'''"
   ]
  },
  {
   "cell_type": "markdown",
   "metadata": {},
   "source": [
    "### 11.4.4 Points<a name=\"step11.4.4\"></a>"
   ]
  },
  {
   "cell_type": "code",
   "execution_count": 114,
   "metadata": {},
   "outputs": [
    {
     "data": {
      "text/plain": [
       "\"\\n# bin boundaries - we will use with pandas cut()\\nintervals_weight = [0, 3, 6, 9, 12, np.Inf]\\n# 5 interval limits, you need 5 points to have 4 catagories, and it is mapped directly to the table.\\n# bin labels - we will use with pandas cut()\\n\\nlabels_weight = ['0-3','3-6', '6-9,', '9-12', '>12']\\n# discretize Item_Weight\\n\\n# create a discretized version of the variable where the values are the\\n# strings we created in the previous cell\\nt_merged_df['points_labels'] = pd.cut(\\n    t_merged_df['points'], bins=intervals_weight, labels=labels_weight, include_lowest=True)\\n\\n# let's create a version of the discretized variable were the values are\\n# the interval limits\\nt_merged_df['points_intervals'] = pd.cut(\\n    t_merged_df['points'], bins=intervals_weight, labels=None, include_lowest=True)\\n\\n# plot the original and 2 versions of the discretized variable\\nprint(t_merged_df[['milliseconds','fastestLapTime','fastestLapSpeed','points','wins']].head())\\n# let's check the number of observations per bin\\nt_merged_df['points_intervals'].value_counts()\\n\""
      ]
     },
     "execution_count": 114,
     "metadata": {},
     "output_type": "execute_result"
    }
   ],
   "source": [
    "'''\n",
    "# bin boundaries - we will use with pandas cut()\n",
    "intervals_weight = [0, 3, 6, 9, 12, np.Inf]\n",
    "# 5 interval limits, you need 5 points to have 4 catagories, and it is mapped directly to the table.\n",
    "# bin labels - we will use with pandas cut()\n",
    "\n",
    "labels_weight = ['0-3','3-6', '6-9,', '9-12', '>12']\n",
    "# discretize Item_Weight\n",
    "\n",
    "# create a discretized version of the variable where the values are the\n",
    "# strings we created in the previous cell\n",
    "t_merged_df['points_labels'] = pd.cut(\n",
    "    t_merged_df['points'], bins=intervals_weight, labels=labels_weight, include_lowest=True)\n",
    "\n",
    "# let's create a version of the discretized variable were the values are\n",
    "# the interval limits\n",
    "t_merged_df['points_intervals'] = pd.cut(\n",
    "    t_merged_df['points'], bins=intervals_weight, labels=None, include_lowest=True)\n",
    "\n",
    "# plot the original and 2 versions of the discretized variable\n",
    "print(t_merged_df[['milliseconds','fastestLapTime','fastestLapSpeed','points','wins']].head())\n",
    "# let's check the number of observations per bin\n",
    "t_merged_df['points_intervals'].value_counts()\n",
    "'''"
   ]
  },
  {
   "cell_type": "markdown",
   "metadata": {},
   "source": [
    "### 11.4.5 Wins<a name=\"step11.4.5\"></a>"
   ]
  },
  {
   "cell_type": "code",
   "execution_count": 115,
   "metadata": {},
   "outputs": [
    {
     "data": {
      "text/plain": [
       "\"\\n# bin boundaries - we will use with pandas cut()\\nintervals_weight = [0, 1, 2, 3, 4, np.Inf]\\n# 5 interval limits, you need 5 points to have 4 catagories, and it is mapped directly to the table.\\n# bin labels - we will use with pandas cut()\\n\\nlabels_weight = ['0-1','1-2', '2-3,', '3-4', '>4']\\n# discretize Item_Weight\\n\\n# create a discretized version of the variable where the values are the\\n# strings we created in the previous cell\\nt_merged_df['wins_labels'] = pd.cut(\\n    t_merged_df['wins'], bins=intervals_weight, labels=labels_weight, include_lowest=True)\\n\\n# let's create a version of the discretized variable were the values are\\n# the interval limits\\nt_merged_df['wins_intervals'] = pd.cut(\\n    t_merged_df['wins'], bins=intervals_weight, labels=None, include_lowest=True)\\n\\n# plot the original and 2 versions of the discretized variable\\nprint(t_merged_df[['milliseconds','fastestLapTime','fastestLapSpeed','points','wins']].head())\\n# let's check the number of observations per bin\\nt_merged_df['wins_intervals'].value_counts()\\n\""
      ]
     },
     "execution_count": 115,
     "metadata": {},
     "output_type": "execute_result"
    }
   ],
   "source": [
    "'''\n",
    "# bin boundaries - we will use with pandas cut()\n",
    "intervals_weight = [0, 1, 2, 3, 4, np.Inf]\n",
    "# 5 interval limits, you need 5 points to have 4 catagories, and it is mapped directly to the table.\n",
    "# bin labels - we will use with pandas cut()\n",
    "\n",
    "labels_weight = ['0-1','1-2', '2-3,', '3-4', '>4']\n",
    "# discretize Item_Weight\n",
    "\n",
    "# create a discretized version of the variable where the values are the\n",
    "# strings we created in the previous cell\n",
    "t_merged_df['wins_labels'] = pd.cut(\n",
    "    t_merged_df['wins'], bins=intervals_weight, labels=labels_weight, include_lowest=True)\n",
    "\n",
    "# let's create a version of the discretized variable were the values are\n",
    "# the interval limits\n",
    "t_merged_df['wins_intervals'] = pd.cut(\n",
    "    t_merged_df['wins'], bins=intervals_weight, labels=None, include_lowest=True)\n",
    "\n",
    "# plot the original and 2 versions of the discretized variable\n",
    "print(t_merged_df[['milliseconds','fastestLapTime','fastestLapSpeed','points','wins']].head())\n",
    "# let's check the number of observations per bin\n",
    "t_merged_df['wins_intervals'].value_counts()\n",
    "'''"
   ]
  },
  {
   "cell_type": "markdown",
   "metadata": {},
   "source": [
    "# 12.Feature Engineer (Scaling)<a name=\"step12\"></a>\n",
    "<a href=\"#top\">Back to Table of contents</a>"
   ]
  },
  {
   "cell_type": "markdown",
   "metadata": {},
   "source": [
    "### 12.1 Standardization<a name=\"step12.1\"></a>"
   ]
  },
  {
   "cell_type": "code",
   "execution_count": 116,
   "metadata": {},
   "outputs": [
    {
     "data": {
      "text/plain": [
       "\"\\n# standardisation: with the StandardScaler from sklearn\\n# set up the scaler\\nscaler = StandardScaler() #Calling upon a formulae\\n\\n# fit the scaler to the train set, it will learn the parameters\\nscaler.fit(train_t)\\n###After fitting do transformation or prediction\\n# transform train and test sets\\nX_train_scaled = scaler.transform(train_t)\\nX_test_scaled = scaler.transform(test_t)\\n\\n# the scaler stores the mean of the features, learned from train set\\n\\nscaler.mean_\\n# the scaler stores the standard deviation deviation of the features,\\n# learned from train set\\n\\nscaler.scale_\\n# let's transform the returned NumPy arrays to dataframes\\n\\nX_train_scaled = pd.DataFrame(X_train_scaled, columns=train_t.columns)\\nX_test_scaled = pd.DataFrame(X_test_scaled, columns=test_t.columns)\\n\\nX_train_scaled.head()\\n\""
      ]
     },
     "execution_count": 116,
     "metadata": {},
     "output_type": "execute_result"
    }
   ],
   "source": [
    "'''\n",
    "# standardisation: with the StandardScaler from sklearn\n",
    "# set up the scaler\n",
    "scaler = StandardScaler() #Calling upon a formulae\n",
    "\n",
    "# fit the scaler to the train set, it will learn the parameters\n",
    "scaler.fit(train_t)\n",
    "###After fitting do transformation or prediction\n",
    "# transform train and test sets\n",
    "X_train_scaled = scaler.transform(train_t)\n",
    "X_test_scaled = scaler.transform(test_t)\n",
    "\n",
    "# the scaler stores the mean of the features, learned from train set\n",
    "\n",
    "scaler.mean_\n",
    "# the scaler stores the standard deviation deviation of the features,\n",
    "# learned from train set\n",
    "\n",
    "scaler.scale_\n",
    "# let's transform the returned NumPy arrays to dataframes\n",
    "\n",
    "X_train_scaled = pd.DataFrame(X_train_scaled, columns=train_t.columns)\n",
    "X_test_scaled = pd.DataFrame(X_test_scaled, columns=test_t.columns)\n",
    "\n",
    "X_train_scaled.head()\n",
    "'''"
   ]
  },
  {
   "cell_type": "markdown",
   "metadata": {},
   "source": [
    "### 12.2 Mean Normalization<a name=\"step12.2\"></a>"
   ]
  },
  {
   "cell_type": "code",
   "execution_count": 117,
   "metadata": {},
   "outputs": [
    {
     "data": {
      "text/plain": [
       "'\\nmeans = train_t.mean(axis=0)\\n\\nranges = train_t.max(axis=0)-train_t.min(axis=0)\\n\\nX_train_scaled = (train_t-means)/ranges  #Applying formulae means transforming\\nX_test_scaled = (test_t-means)/ranges\\n\\nX_train_scaled = pd.DataFrame(X_train_scaled, columns=train_t.columns)\\nX_test_scaled = pd.DataFrame(X_test_scaled, columns=test_t.columns)\\n\\nX_train_scaled.head()\\n'"
      ]
     },
     "execution_count": 117,
     "metadata": {},
     "output_type": "execute_result"
    }
   ],
   "source": [
    "'''\n",
    "means = train_t.mean(axis=0)\n",
    "\n",
    "ranges = train_t.max(axis=0)-train_t.min(axis=0)\n",
    "\n",
    "X_train_scaled = (train_t-means)/ranges  #Applying formulae means transforming\n",
    "X_test_scaled = (test_t-means)/ranges\n",
    "\n",
    "X_train_scaled = pd.DataFrame(X_train_scaled, columns=train_t.columns)\n",
    "X_test_scaled = pd.DataFrame(X_test_scaled, columns=test_t.columns)\n",
    "\n",
    "X_train_scaled.head()\n",
    "'''"
   ]
  },
  {
   "cell_type": "markdown",
   "metadata": {},
   "source": [
    "### 12.3 Min-Max Scaling<a name=\"step12.3\"></a>"
   ]
  },
  {
   "cell_type": "code",
   "execution_count": 118,
   "metadata": {},
   "outputs": [
    {
     "data": {
      "text/plain": [
       "\"\\n# set up the scaler\\nscaler = MinMaxScaler()\\n\\n# fit the scaler to the train set, it will learn the parameters\\nscaler.fit(train_t)\\n\\n# transform train and test sets\\nX_train_scaled = scaler.transform(train_t)\\nX_test_scaled = scaler.transform(test_t)\\n\\n\\n# the scaler stores the maximum values of the features, learned from train set\\nscaler.data_max_\\n# tthe scaler stores the minimum values of the features, learned from train set\\nscaler.min_\\n# the scaler also stores the value range (max -  min)\\nscaler.data_range_\\n# let's transform the returned NumPy arrays to dataframes\\nX_train_scaled = pd.DataFrame(X_train_scaled, columns=train_t.columns)\\nX_test_scaled = pd.DataFrame(X_test_scaled, columns=test_t.columns)\\n\\nX_train_scaled.head()\\n\""
      ]
     },
     "execution_count": 118,
     "metadata": {},
     "output_type": "execute_result"
    }
   ],
   "source": [
    "'''\n",
    "# set up the scaler\n",
    "scaler = MinMaxScaler()\n",
    "\n",
    "# fit the scaler to the train set, it will learn the parameters\n",
    "scaler.fit(train_t)\n",
    "\n",
    "# transform train and test sets\n",
    "X_train_scaled = scaler.transform(train_t)\n",
    "X_test_scaled = scaler.transform(test_t)\n",
    "\n",
    "\n",
    "# the scaler stores the maximum values of the features, learned from train set\n",
    "scaler.data_max_\n",
    "# tthe scaler stores the minimum values of the features, learned from train set\n",
    "scaler.min_\n",
    "# the scaler also stores the value range (max -  min)\n",
    "scaler.data_range_\n",
    "# let's transform the returned NumPy arrays to dataframes\n",
    "X_train_scaled = pd.DataFrame(X_train_scaled, columns=train_t.columns)\n",
    "X_test_scaled = pd.DataFrame(X_test_scaled, columns=test_t.columns)\n",
    "\n",
    "X_train_scaled.head()\n",
    "'''"
   ]
  },
  {
   "cell_type": "markdown",
   "metadata": {},
   "source": [
    "### 12.4 Maximum Absolute Scaling <a name=\"step12.4\"></a>"
   ]
  },
  {
   "cell_type": "code",
   "execution_count": 119,
   "metadata": {},
   "outputs": [
    {
     "data": {
      "text/html": [
       "<div>\n",
       "<style scoped>\n",
       "    .dataframe tbody tr th:only-of-type {\n",
       "        vertical-align: middle;\n",
       "    }\n",
       "\n",
       "    .dataframe tbody tr th {\n",
       "        vertical-align: top;\n",
       "    }\n",
       "\n",
       "    .dataframe thead th {\n",
       "        text-align: right;\n",
       "    }\n",
       "</style>\n",
       "<table border=\"1\" class=\"dataframe\">\n",
       "  <thead>\n",
       "    <tr style=\"text-align: right;\">\n",
       "      <th></th>\n",
       "      <th>raceId</th>\n",
       "      <th>grid</th>\n",
       "      <th>milliseconds</th>\n",
       "      <th>fastestLapTime</th>\n",
       "      <th>fastestLapSpeed</th>\n",
       "      <th>points</th>\n",
       "      <th>wins</th>\n",
       "      <th>constructorId_6</th>\n",
       "      <th>constructorId_9</th>\n",
       "      <th>constructorId_1</th>\n",
       "      <th>...</th>\n",
       "      <th>constructorId_7</th>\n",
       "      <th>name_Ferrari</th>\n",
       "      <th>name_Red Bull</th>\n",
       "      <th>name_McLaren</th>\n",
       "      <th>name_Williams</th>\n",
       "      <th>name_Renault</th>\n",
       "      <th>name_Force India</th>\n",
       "      <th>name_Toro Rosso</th>\n",
       "      <th>name_BMW Sauber</th>\n",
       "      <th>name_Toyota</th>\n",
       "    </tr>\n",
       "  </thead>\n",
       "  <tbody>\n",
       "    <tr>\n",
       "      <th>0</th>\n",
       "      <td>0.325256</td>\n",
       "      <td>0.458333</td>\n",
       "      <td>0.555556</td>\n",
       "      <td>0.888889</td>\n",
       "      <td>0.777778</td>\n",
       "      <td>0.000000</td>\n",
       "      <td>0.000000</td>\n",
       "      <td>0.0</td>\n",
       "      <td>0.0</td>\n",
       "      <td>0.0</td>\n",
       "      <td>...</td>\n",
       "      <td>0.0</td>\n",
       "      <td>0.0</td>\n",
       "      <td>0.0</td>\n",
       "      <td>0.0</td>\n",
       "      <td>0.0</td>\n",
       "      <td>0.0</td>\n",
       "      <td>0.0</td>\n",
       "      <td>1.0</td>\n",
       "      <td>0.0</td>\n",
       "      <td>0.0</td>\n",
       "    </tr>\n",
       "    <tr>\n",
       "      <th>1</th>\n",
       "      <td>0.917987</td>\n",
       "      <td>0.208333</td>\n",
       "      <td>0.444444</td>\n",
       "      <td>0.666667</td>\n",
       "      <td>0.333333</td>\n",
       "      <td>0.444444</td>\n",
       "      <td>0.222222</td>\n",
       "      <td>1.0</td>\n",
       "      <td>0.0</td>\n",
       "      <td>0.0</td>\n",
       "      <td>...</td>\n",
       "      <td>0.0</td>\n",
       "      <td>1.0</td>\n",
       "      <td>0.0</td>\n",
       "      <td>0.0</td>\n",
       "      <td>0.0</td>\n",
       "      <td>0.0</td>\n",
       "      <td>0.0</td>\n",
       "      <td>0.0</td>\n",
       "      <td>0.0</td>\n",
       "      <td>0.0</td>\n",
       "    </tr>\n",
       "    <tr>\n",
       "      <th>2</th>\n",
       "      <td>0.923579</td>\n",
       "      <td>0.708333</td>\n",
       "      <td>0.444444</td>\n",
       "      <td>0.666667</td>\n",
       "      <td>0.333333</td>\n",
       "      <td>0.000000</td>\n",
       "      <td>0.000000</td>\n",
       "      <td>0.0</td>\n",
       "      <td>0.0</td>\n",
       "      <td>0.0</td>\n",
       "      <td>...</td>\n",
       "      <td>0.0</td>\n",
       "      <td>0.0</td>\n",
       "      <td>0.0</td>\n",
       "      <td>0.0</td>\n",
       "      <td>0.0</td>\n",
       "      <td>0.0</td>\n",
       "      <td>0.0</td>\n",
       "      <td>1.0</td>\n",
       "      <td>0.0</td>\n",
       "      <td>0.0</td>\n",
       "    </tr>\n",
       "    <tr>\n",
       "      <th>3</th>\n",
       "      <td>0.820130</td>\n",
       "      <td>0.208333</td>\n",
       "      <td>0.555556</td>\n",
       "      <td>0.555556</td>\n",
       "      <td>0.555556</td>\n",
       "      <td>0.444444</td>\n",
       "      <td>0.000000</td>\n",
       "      <td>1.0</td>\n",
       "      <td>0.0</td>\n",
       "      <td>0.0</td>\n",
       "      <td>...</td>\n",
       "      <td>0.0</td>\n",
       "      <td>1.0</td>\n",
       "      <td>0.0</td>\n",
       "      <td>0.0</td>\n",
       "      <td>0.0</td>\n",
       "      <td>0.0</td>\n",
       "      <td>0.0</td>\n",
       "      <td>0.0</td>\n",
       "      <td>0.0</td>\n",
       "      <td>0.0</td>\n",
       "    </tr>\n",
       "    <tr>\n",
       "      <th>4</th>\n",
       "      <td>0.796831</td>\n",
       "      <td>0.041667</td>\n",
       "      <td>0.555556</td>\n",
       "      <td>0.666667</td>\n",
       "      <td>0.555556</td>\n",
       "      <td>0.444444</td>\n",
       "      <td>0.555556</td>\n",
       "      <td>0.0</td>\n",
       "      <td>1.0</td>\n",
       "      <td>0.0</td>\n",
       "      <td>...</td>\n",
       "      <td>0.0</td>\n",
       "      <td>0.0</td>\n",
       "      <td>1.0</td>\n",
       "      <td>0.0</td>\n",
       "      <td>0.0</td>\n",
       "      <td>0.0</td>\n",
       "      <td>0.0</td>\n",
       "      <td>0.0</td>\n",
       "      <td>0.0</td>\n",
       "      <td>0.0</td>\n",
       "    </tr>\n",
       "  </tbody>\n",
       "</table>\n",
       "<p>5 rows × 25 columns</p>\n",
       "</div>"
      ],
      "text/plain": [
       "     raceId      grid  milliseconds  fastestLapTime  fastestLapSpeed  \\\n",
       "0  0.325256  0.458333      0.555556        0.888889         0.777778   \n",
       "1  0.917987  0.208333      0.444444        0.666667         0.333333   \n",
       "2  0.923579  0.708333      0.444444        0.666667         0.333333   \n",
       "3  0.820130  0.208333      0.555556        0.555556         0.555556   \n",
       "4  0.796831  0.041667      0.555556        0.666667         0.555556   \n",
       "\n",
       "     points      wins  constructorId_6  constructorId_9  constructorId_1  ...  \\\n",
       "0  0.000000  0.000000              0.0              0.0              0.0  ...   \n",
       "1  0.444444  0.222222              1.0              0.0              0.0  ...   \n",
       "2  0.000000  0.000000              0.0              0.0              0.0  ...   \n",
       "3  0.444444  0.000000              1.0              0.0              0.0  ...   \n",
       "4  0.444444  0.555556              0.0              1.0              0.0  ...   \n",
       "\n",
       "   constructorId_7  name_Ferrari  name_Red Bull  name_McLaren  name_Williams  \\\n",
       "0              0.0           0.0            0.0           0.0            0.0   \n",
       "1              0.0           1.0            0.0           0.0            0.0   \n",
       "2              0.0           0.0            0.0           0.0            0.0   \n",
       "3              0.0           1.0            0.0           0.0            0.0   \n",
       "4              0.0           0.0            1.0           0.0            0.0   \n",
       "\n",
       "   name_Renault  name_Force India  name_Toro Rosso  name_BMW Sauber  \\\n",
       "0           0.0               0.0              1.0              0.0   \n",
       "1           0.0               0.0              0.0              0.0   \n",
       "2           0.0               0.0              1.0              0.0   \n",
       "3           0.0               0.0              0.0              0.0   \n",
       "4           0.0               0.0              0.0              0.0   \n",
       "\n",
       "   name_Toyota  \n",
       "0          0.0  \n",
       "1          0.0  \n",
       "2          0.0  \n",
       "3          0.0  \n",
       "4          0.0  \n",
       "\n",
       "[5 rows x 25 columns]"
      ]
     },
     "execution_count": 119,
     "metadata": {},
     "output_type": "execute_result"
    }
   ],
   "source": [
    "\n",
    "# set up the scaler\n",
    "scaler = MaxAbsScaler()\n",
    "\n",
    "# fit the scaler to the train set, it will learn the parameters\n",
    "scaler.fit(train_t)\n",
    "\n",
    "# transform train and test sets\n",
    "X_train_scaled = scaler.transform(train_t)\n",
    "X_test_scaled = scaler.transform(test_t)\n",
    "# the scaler stores the maximum values of the features as learned from train set\n",
    "scaler.max_abs_\n",
    "# let's transform the returned NumPy arrays to dataframes \n",
    "\n",
    "X_train_scaled = pd.DataFrame(X_train_scaled, columns=train_t.columns)\n",
    "X_test_scaled = pd.DataFrame(X_test_scaled, columns=test_t.columns)\n",
    "\n",
    "X_train_scaled.head()\n"
   ]
  },
  {
   "cell_type": "markdown",
   "metadata": {},
   "source": [
    "### 12.5 Robust Scaling<a name=\"step12.5\"></a>"
   ]
  },
  {
   "cell_type": "code",
   "execution_count": 120,
   "metadata": {},
   "outputs": [
    {
     "data": {
      "text/html": [
       "<div>\n",
       "<style scoped>\n",
       "    .dataframe tbody tr th:only-of-type {\n",
       "        vertical-align: middle;\n",
       "    }\n",
       "\n",
       "    .dataframe tbody tr th {\n",
       "        vertical-align: top;\n",
       "    }\n",
       "\n",
       "    .dataframe thead th {\n",
       "        text-align: right;\n",
       "    }\n",
       "</style>\n",
       "<table border=\"1\" class=\"dataframe\">\n",
       "  <thead>\n",
       "    <tr style=\"text-align: right;\">\n",
       "      <th></th>\n",
       "      <th>raceId</th>\n",
       "      <th>grid</th>\n",
       "      <th>milliseconds</th>\n",
       "      <th>fastestLapTime</th>\n",
       "      <th>fastestLapSpeed</th>\n",
       "      <th>points</th>\n",
       "      <th>wins</th>\n",
       "      <th>constructorId_6</th>\n",
       "      <th>constructorId_9</th>\n",
       "      <th>constructorId_1</th>\n",
       "      <th>...</th>\n",
       "      <th>constructorId_7</th>\n",
       "      <th>name_Ferrari</th>\n",
       "      <th>name_Red Bull</th>\n",
       "      <th>name_McLaren</th>\n",
       "      <th>name_Williams</th>\n",
       "      <th>name_Renault</th>\n",
       "      <th>name_Force India</th>\n",
       "      <th>name_Toro Rosso</th>\n",
       "      <th>name_BMW Sauber</th>\n",
       "      <th>name_Toyota</th>\n",
       "    </tr>\n",
       "  </thead>\n",
       "  <tbody>\n",
       "    <tr>\n",
       "      <th>0</th>\n",
       "      <td>-0.578991</td>\n",
       "      <td>0.571429</td>\n",
       "      <td>0.5</td>\n",
       "      <td>1.000000</td>\n",
       "      <td>1.000000</td>\n",
       "      <td>-0.5</td>\n",
       "      <td>0.0</td>\n",
       "      <td>0.0</td>\n",
       "      <td>0.0</td>\n",
       "      <td>0.0</td>\n",
       "      <td>...</td>\n",
       "      <td>0.0</td>\n",
       "      <td>0.0</td>\n",
       "      <td>0.0</td>\n",
       "      <td>0.0</td>\n",
       "      <td>0.0</td>\n",
       "      <td>0.0</td>\n",
       "      <td>0.0</td>\n",
       "      <td>1.0</td>\n",
       "      <td>0.0</td>\n",
       "      <td>0.0</td>\n",
       "    </tr>\n",
       "    <tr>\n",
       "      <th>1</th>\n",
       "      <td>0.129841</td>\n",
       "      <td>-0.285714</td>\n",
       "      <td>0.0</td>\n",
       "      <td>0.333333</td>\n",
       "      <td>-0.333333</td>\n",
       "      <td>1.5</td>\n",
       "      <td>2.0</td>\n",
       "      <td>1.0</td>\n",
       "      <td>0.0</td>\n",
       "      <td>0.0</td>\n",
       "      <td>...</td>\n",
       "      <td>0.0</td>\n",
       "      <td>1.0</td>\n",
       "      <td>0.0</td>\n",
       "      <td>0.0</td>\n",
       "      <td>0.0</td>\n",
       "      <td>0.0</td>\n",
       "      <td>0.0</td>\n",
       "      <td>0.0</td>\n",
       "      <td>0.0</td>\n",
       "      <td>0.0</td>\n",
       "    </tr>\n",
       "    <tr>\n",
       "      <th>2</th>\n",
       "      <td>0.136528</td>\n",
       "      <td>1.428571</td>\n",
       "      <td>0.0</td>\n",
       "      <td>0.333333</td>\n",
       "      <td>-0.333333</td>\n",
       "      <td>-0.5</td>\n",
       "      <td>0.0</td>\n",
       "      <td>0.0</td>\n",
       "      <td>0.0</td>\n",
       "      <td>0.0</td>\n",
       "      <td>...</td>\n",
       "      <td>0.0</td>\n",
       "      <td>0.0</td>\n",
       "      <td>0.0</td>\n",
       "      <td>0.0</td>\n",
       "      <td>0.0</td>\n",
       "      <td>0.0</td>\n",
       "      <td>0.0</td>\n",
       "      <td>1.0</td>\n",
       "      <td>0.0</td>\n",
       "      <td>0.0</td>\n",
       "    </tr>\n",
       "    <tr>\n",
       "      <th>3</th>\n",
       "      <td>0.012817</td>\n",
       "      <td>-0.285714</td>\n",
       "      <td>0.5</td>\n",
       "      <td>0.000000</td>\n",
       "      <td>0.333333</td>\n",
       "      <td>1.5</td>\n",
       "      <td>0.0</td>\n",
       "      <td>1.0</td>\n",
       "      <td>0.0</td>\n",
       "      <td>0.0</td>\n",
       "      <td>...</td>\n",
       "      <td>0.0</td>\n",
       "      <td>1.0</td>\n",
       "      <td>0.0</td>\n",
       "      <td>0.0</td>\n",
       "      <td>0.0</td>\n",
       "      <td>0.0</td>\n",
       "      <td>0.0</td>\n",
       "      <td>0.0</td>\n",
       "      <td>0.0</td>\n",
       "      <td>0.0</td>\n",
       "    </tr>\n",
       "    <tr>\n",
       "      <th>4</th>\n",
       "      <td>-0.015046</td>\n",
       "      <td>-0.857143</td>\n",
       "      <td>0.5</td>\n",
       "      <td>0.333333</td>\n",
       "      <td>0.333333</td>\n",
       "      <td>1.5</td>\n",
       "      <td>5.0</td>\n",
       "      <td>0.0</td>\n",
       "      <td>1.0</td>\n",
       "      <td>0.0</td>\n",
       "      <td>...</td>\n",
       "      <td>0.0</td>\n",
       "      <td>0.0</td>\n",
       "      <td>1.0</td>\n",
       "      <td>0.0</td>\n",
       "      <td>0.0</td>\n",
       "      <td>0.0</td>\n",
       "      <td>0.0</td>\n",
       "      <td>0.0</td>\n",
       "      <td>0.0</td>\n",
       "      <td>0.0</td>\n",
       "    </tr>\n",
       "  </tbody>\n",
       "</table>\n",
       "<p>5 rows × 25 columns</p>\n",
       "</div>"
      ],
      "text/plain": [
       "     raceId      grid  milliseconds  fastestLapTime  fastestLapSpeed  points  \\\n",
       "0 -0.578991  0.571429           0.5        1.000000         1.000000    -0.5   \n",
       "1  0.129841 -0.285714           0.0        0.333333        -0.333333     1.5   \n",
       "2  0.136528  1.428571           0.0        0.333333        -0.333333    -0.5   \n",
       "3  0.012817 -0.285714           0.5        0.000000         0.333333     1.5   \n",
       "4 -0.015046 -0.857143           0.5        0.333333         0.333333     1.5   \n",
       "\n",
       "   wins  constructorId_6  constructorId_9  constructorId_1  ...  \\\n",
       "0   0.0              0.0              0.0              0.0  ...   \n",
       "1   2.0              1.0              0.0              0.0  ...   \n",
       "2   0.0              0.0              0.0              0.0  ...   \n",
       "3   0.0              1.0              0.0              0.0  ...   \n",
       "4   5.0              0.0              1.0              0.0  ...   \n",
       "\n",
       "   constructorId_7  name_Ferrari  name_Red Bull  name_McLaren  name_Williams  \\\n",
       "0              0.0           0.0            0.0           0.0            0.0   \n",
       "1              0.0           1.0            0.0           0.0            0.0   \n",
       "2              0.0           0.0            0.0           0.0            0.0   \n",
       "3              0.0           1.0            0.0           0.0            0.0   \n",
       "4              0.0           0.0            1.0           0.0            0.0   \n",
       "\n",
       "   name_Renault  name_Force India  name_Toro Rosso  name_BMW Sauber  \\\n",
       "0           0.0               0.0              1.0              0.0   \n",
       "1           0.0               0.0              0.0              0.0   \n",
       "2           0.0               0.0              1.0              0.0   \n",
       "3           0.0               0.0              0.0              0.0   \n",
       "4           0.0               0.0              0.0              0.0   \n",
       "\n",
       "   name_Toyota  \n",
       "0          0.0  \n",
       "1          0.0  \n",
       "2          0.0  \n",
       "3          0.0  \n",
       "4          0.0  \n",
       "\n",
       "[5 rows x 25 columns]"
      ]
     },
     "execution_count": 120,
     "metadata": {},
     "output_type": "execute_result"
    }
   ],
   "source": [
    "\n",
    "# set up the scaler\n",
    "scaler = RobustScaler()\n",
    "\n",
    "# fit the scaler to the train set, it will learn the parameters\n",
    "scaler.fit(test_t)\n",
    "\n",
    "# transform train and test sets\n",
    "X_train_scaled = scaler.transform(train_t)\n",
    "X_test_scaled = scaler.transform(test_t)\n",
    "\n",
    "# the scaler stores the median values of the features as learned from train set\n",
    "scaler.center_\n",
    "\n",
    "# the scaler stores the IQR values of the features as learned from train set\n",
    "scaler.scale_\n",
    "\n",
    "X_train_scaled = pd.DataFrame(X_train_scaled, columns=train_t.columns)\n",
    "X_test_scaled = pd.DataFrame(X_test_scaled, columns=test_t.columns)\n",
    "\n",
    "X_train_scaled.head()\n"
   ]
  },
  {
   "cell_type": "markdown",
   "metadata": {},
   "source": [
    "### 12.6 Before and After Scaling Comparison<a name=\"step12.6\"></a>"
   ]
  },
  {
   "cell_type": "code",
   "execution_count": 121,
   "metadata": {},
   "outputs": [
    {
     "data": {
      "image/png": "[encoded data removed]",
      "text/plain": [
       "<Figure size 864x360 with 2 Axes>"
      ]
     },
     "metadata": {
      "needs_background": "light"
     },
     "output_type": "display_data"
    }
   ],
   "source": [
    "#'milliseconds','fastestLapTime','fastestLapSpeed','points','wins'\n",
    "# let's compare the variable distributions before and after scaling\n",
    "\n",
    "fig, (ax1, ax2) = plt.subplots(ncols=2, figsize=(12, 5))\n",
    "\n",
    "# before scaling\n",
    "ax1.set_title('Before Scaling')\n",
    "sns.kdeplot(X_train['milliseconds'], ax=ax1, label ='milliseconds')\n",
    "sns.kdeplot(X_train['fastestLapTime'], ax=ax1, label ='fastestLapTime')\n",
    "sns.kdeplot(X_train['fastestLapSpeed'], ax=ax1, label ='fastestLapSpeed')\n",
    "sns.kdeplot(X_train['points'], ax=ax1, label ='points')\n",
    "sns.kdeplot(X_train['wins'], ax=ax1, label ='wins')\n",
    "ax1.legend()\n",
    "\n",
    "# after scaling\n",
    "ax2.set_title('After Scaling')\n",
    "sns.kdeplot(X_train_scaled['milliseconds'], ax=ax2, label ='milliseconds')\n",
    "sns.kdeplot(X_train_scaled['fastestLapTime'], ax=ax2, label ='fastestLapTime')\n",
    "sns.kdeplot(X_train_scaled['fastestLapSpeed'], ax=ax2, label ='fastestLapSpeed')\n",
    "sns.kdeplot(X_train_scaled['points'], ax=ax2, label ='points')\n",
    "sns.kdeplot(X_train_scaled['wins'], ax=ax2, label ='wins')\n",
    "ax2.legend()\n",
    "plt.show()"
   ]
  },
  {
   "cell_type": "markdown",
   "metadata": {},
   "source": [
    "# Data Cleansing and Transformation<a name=\"clean\"></a>\n",
    "<a href=\"#top\">Back to Table of contents</a>"
   ]
  },
  {
   "cell_type": "markdown",
   "metadata": {},
   "source": [
    "### Indentifying Outliers \n",
    "I created a diagnostic plot showcasing the Box Plot, Histogram and Q-Q Diagram for each numerical variables. This will help me look out for outliers and choose which are the variables that I want to target for transformations.\n",
    "\n",
    "After analysing each of the numerical varibles, \"Milliseconds\" and \"FastestLapSpeed\" seem to contain significant amount of outliers. As positionOrder is our Target Variable, no tranformation would be necessary as we want to keep the values of the positionOrder as close to the original values as possible.\n",
    "\n",
    "\n",
    "### Dealing with Outliers by capping\n",
    "\n",
    "There are three ways to deal with outliers, either by capping or removal of the extreme values outside of the Box Plot interquatile range and also to do nothing about the outliers at all.\n",
    "\n",
    "We can see that there are significant outliers present in \"Milliseconds\", \"FastestLapSpeed\", \"Points\" and \"Wins\", However, points and wins should be left untouched as the outliers have significant values which represents the total amount of points and wins each constructors had during every race. Hence, We will only be dealing with \"Milliseconds\" and \"FastestLapSpeed\". \n",
    " \n",
    "Furthermore, by using capping as our method of dealing with outliers, we are preserving each data point while also keeping the data as accurate as possible. This is because, we are replacing the extreme values with values that are closer to the mean of the variable which will make the data more concise. Additionally, since each race is important in predicting the positionOrder of each constructors, it will be more meaningful to keep as much data points as possible than to remove them completely.\n",
    " \n",
    "### Numerical Variables Transformation\n",
    "Since \"Milliseconds\" and \"FastestLapSpeed\" has undergone changes with their outliers, it will be better for these 2 variables to go through transformation to have them more normally distributed in terms of their histrogram and Q-Q plot diagrams. This will result in making the conclusions, obeservations and outcome of using the model more precise and accurate.\n",
    "\n",
    "After applying each transformation methods on Milliseconds and FastestLapSpeed, I have realize that it would be more optimal for them to use different transformation method respectively rather than both having the same one applied. This is due to them having different magnitude of values in their columns and the transformation would not work as well for both simultanously. \n",
    "\n",
    "Therefore, after comparing each transformation method, I have concluded that it would be best for Milliseconds to undergo Reciprocal and FastestLapSpeed to use Yeo Johnson Transformation.\n",
    "\n",
    "### Numerical Variable Imputation\n",
    "By visualizing the percentage of missing values for each variable, we could see that the numerical variable fastestLapTime have some missing values that needs to be dealt with using different numerical imputation methods.\n",
    "\n",
    "With \"fastestLapTime\", I have tested all the imputation methods and although there are minimal visual changes, there is slight changes with the RMSE and S-SQ values and by choosing the one with the best suitable values. I was able to determine that fastestLapTime wouldl be most suitable in undergoing mean-median imputation.\n",
    "\n",
    "Mean Median impuation(Chosen) where the missing variables are replaced with the values that are the mean of other variables, taking the average of all the fastestLapTime and replacing missing variable with those number. This showed the most balanced histogram and Q-Q plot where most of the values are on the line.\n",
    "\n",
    "Arbitrary value of -1 replacement where the missing variables are replaced with -1. However, this caused a lot of values of the left side and also a gap within the histogram causing it to not be suitable.\n",
    "\n",
    "Replacing missing value by a value at the end of the distribution where the missing value is replaced by a value that is at the end of the interquatile range that is precalculated. However, this caused the missing values to be on the right side making the histogram right skewed and unsuitable.\n",
    "\n",
    "Add Missing Incidicator for inputation, which replaces unused number for each missing value, this caused the Q-Q curve to be unreliable as the line was missing and also made no changes to the rest of the diagnostic plots. Hence it is not really useful in changing the missing values\n",
    "\n",
    "Lastly, the random sample imputation replaces the missing values with random values to keep the data consistent. However, since our data is highly sensitive to random inputs as each of the constructor's timing is highly important to how they perform, it would be best to not use this method as it may worsen accuracy of the data within column.\n",
    "\n",
    "### Categorical Data Encoding\n",
    "\n",
    "The categorical variables will have their categorical datas replaces with numerical data through encoding methods. The variables that would need to be changed during this transformation would be \"raceId\",\"constructorId\" and \"name\". However since raceId and constructorId are already numerical, it will see little changes except undergoing some standardization inconjunction with the \"name\" column. \n",
    "\n",
    "The encoding method used:\n",
    "\n",
    "#### One Hot Encoding\n",
    "One Hot Encoding would represent each of the categorical variable as a group of binary variable where they will be only given values of 0/1 indiciating if they are present within the observation with 0(no) and 1(yes). After doing this method, it caused the dataframe to be highly fragmented which worsen model performance since the categorical columns have too many unique datas.\n",
    "\n",
    "#### One Hot Encoding of top categories (Chosen\n",
    "Similar to One Hot Encoding but it fixes the issues of it being highly fragmented by limited the feature space drastically, as it reduces the number of binary variables. It will treat the less frequent catagories as a single unique categories apart from the rest. This results in all the categorical data to be in numerical and by choosing the top categories to be 10, it would better fit the the \"name\" variable and will make the dataset less fragmented.\n",
    "\n",
    "#### Replacing categories with count or frequency of observations\n",
    "Replacing categories with count or frequency of observations, it replaces the categories with the count or percentage of observations within that category. With counting, it will just count how many that unique value is observed while the frequency would be a calculation out of 100% where the percentage of the unique value will be given to proportion of how many it has out of the grand total. \n",
    "\n",
    "#### Ordered Ordinal Encoding\n",
    "It replaces the categories with digits from 1 to n (where n is the number of distinct variables within the category) However this method is much more suitable for non-linear machine learning method. This method also introduced more NaN values for \"name\", \"constructorId\" and \"raceId\" which would not be elgibile for scaling hence not suitable.\n",
    "\n",
    "#### Target Mean Encoding\n",
    "It replaces the categories with the average target value for that category with frequeny being the values that will be inserted depending on the default value of each unique variables within the category. However, this causes NaN values to be introduced into the Name and also cause the replaced values to be invalid for scaling as the value they are representing will be inaccurate or illogical.\n",
    "\n",
    "#### Rare Group Encoding\n",
    "\n",
    "Rare Group Encoding, is the labelling of rare values, values that appear less than 5% of the time to \"rare\". As these rare values are often appearing in either test or train sets, it will make it prone to overfitting or poor performance of data for modelling. It would categorise these rare data into one category on its own to remove it. However,it would be not a good idea to use rare group encoding to label some of the lesser appearing values as rare and as it will be casted out when scaling.\n",
    "\n",
    "\n",
    "### Variable Discretization/Binning\n",
    "\n",
    "The numerical variables will have to have their data more evenly divided through discreization and binning. The variables that would need to be changed would be \"Milliseconds\",\"fastestLapTime\",\"fastestLapSpeed\",\"Points\" and \"Win\". Although, since points and wins are already calculated columns, it would be unwise to make them undergo further binning as they do not need to follow an even distribution, it is also helpful to visually explore their binning processes.\n",
    "\n",
    "\n",
    "#### Equal Width Discretization (Chosen)\n",
    "In Equal Width Discretization, the variables are sorted into bins of the same range and size, the range and size is determined by the min and max values of the numerical data. I have chose to use 10 bins as a standard number for all these numerical values to be binned so as to have a more consistent bar chart plotted to see how each numerical variable differs from one another. Furthermore, by using 10, it will have a higher degree of accuracy as there is lesser range within each bin.\n",
    "\n",
    "I chose this method as it not only show more distinct count between each bins but also have an overall lower RMSE value and R-SQ value that is closer to 1.\n",
    "\n",
    "#### Discretization plus categorical encoding\n",
    "\n",
    "After Discretization, the bins of each numerical variable can be treated as categorical variables, this would create a monotonic relationship between the bins and the target variable(positionOrder). It is useful in seeing how each of these variables would correspond with positionOrder either by being positively or negatively correlation or having no correlation at all when there is no line of best fit to be easily formed. \n",
    "\n",
    "However this would also cause NaN values to be introduced which will be a hinderance towards our scaling. Hence it can only be used outside of the steps for visual analysis of its graphs but not implimented.\n",
    "\n",
    "#### Arbitrary interval discretization\n",
    "This method will allow me to see which range of bins will be suitable for each specific variable, it provides me with histograms and values showing how big each bins should be while also showing me the content inside of each bins by showing the count value. However, this method is not chosen as it would be better to transform the 5 categories together to keep them standardized for comparison and keeping the numerical data more relatable towards one another with similar number of bins.\n",
    "\n",
    "\n",
    "### Featured Engineering (Scaling)\n",
    "#### Standardization\n",
    "The process of standardization involving centering the variable at zero and limiting the variance to one. It subtracts the mean from each observation and divide the result by the standard deviation to standardize features. Resulting in a Z-Score for each values within the variables and shows how much standard deviation difference there is between the value and the its variable's mean.After scaling, we can see that all the values in the variables are between -1 and 1, showing that normalization has been done.\n",
    "\n",
    "#### Mean Normalization\n",
    "In Mean Normalization, We center the variable at zero and rescale the distribution to the value range. Subtracting the mean from each observation and then dividing the result by the difference between the minimum and maximum values. This results in the values being smaller in scale as it is closer to 0 with still the same limits as standardizations.\n",
    "\n",
    "#### Min Max Scaling\n",
    "Min Max Scaling, limits the values between 0 and 1, it subtracts the minimum values of each observation from each variable and divide by the Max and Min difference of the value. This reults in the values in all being positive while having shared values after scaling.\n",
    "\n",
    "#### Max Absoulute Scaling\n",
    "Maximum absolute scaling scales the data to its maximum value then it divides every observation by the maximum value of the variable itself. This results in the values being mostly positive with a much higher value as compared to Min Max Scaling.\n",
    "\n",
    "#### Robust Scaling(Chosen)\n",
    "Robust scaling, scales the variables along its quantiles and median, the median value is subtracted from the value and divided by the interquatile range of 75% and 25%. This produces a more robust estimate for the center and value range of the variable and would help variables that have insignifcant amount of outliers that was previously left alone.\n",
    "  "
   ]
  },
  {
   "cell_type": "markdown",
   "metadata": {},
   "source": [
    "### Show Count of Rows and Columns"
   ]
  },
  {
   "cell_type": "code",
   "execution_count": 122,
   "metadata": {},
   "outputs": [],
   "source": [
    "X_train_final = X_train_scaled\n",
    "X_test_final = X_test_scaled\n",
    "\n",
    "y_train_final = y_train\n",
    "y_test_final = y_test"
   ]
  },
  {
   "cell_type": "code",
   "execution_count": 123,
   "metadata": {},
   "outputs": [
    {
     "data": {
      "text/plain": [
       "(1726, 25)"
      ]
     },
     "execution_count": 123,
     "metadata": {},
     "output_type": "execute_result"
    }
   ],
   "source": [
    "X_train_final.shape"
   ]
  },
  {
   "cell_type": "code",
   "execution_count": 124,
   "metadata": {},
   "outputs": [
    {
     "data": {
      "text/plain": [
       "(740, 25)"
      ]
     },
     "execution_count": 124,
     "metadata": {},
     "output_type": "execute_result"
    }
   ],
   "source": [
    "X_test_final.shape"
   ]
  },
  {
   "cell_type": "code",
   "execution_count": 125,
   "metadata": {},
   "outputs": [
    {
     "data": {
      "text/plain": [
       "(1726,)"
      ]
     },
     "execution_count": 125,
     "metadata": {},
     "output_type": "execute_result"
    }
   ],
   "source": [
    "y_train_final.shape"
   ]
  },
  {
   "cell_type": "code",
   "execution_count": 126,
   "metadata": {},
   "outputs": [
    {
     "data": {
      "text/plain": [
       "(740,)"
      ]
     },
     "execution_count": 126,
     "metadata": {},
     "output_type": "execute_result"
    }
   ],
   "source": [
    "y_test_final.shape"
   ]
  },
  {
   "cell_type": "code",
   "execution_count": 127,
   "metadata": {},
   "outputs": [],
   "source": [
    "from sklearn.linear_model import LinearRegression\n",
    "from sklearn.metrics import mean_squared_error\n",
    "from sklearn.metrics import r2_score\n",
    "from math import sqrt\n"
   ]
  },
  {
   "cell_type": "markdown",
   "metadata": {},
   "source": [
    "## 13 Linear Regression Model<a name=\"step13\"></a>"
   ]
  },
  {
   "cell_type": "code",
   "execution_count": 128,
   "metadata": {},
   "outputs": [
    {
     "name": "stdout",
     "output_type": "stream",
     "text": [
      "My Model's train_mse: 5.085289572829109 \n",
      "My Model's test_mse: 5.818337875890752\n",
      "\n",
      "My Model's train_rmse: 2.255058662835428 \n",
      "My Model's test_rmse: 2.4121231054593277\n",
      "\n",
      "My Model's train_r-sq: 0.6067224308262473 \n",
      "My Model's test_r-sq: 0.5406411342244339\n"
     ]
    }
   ],
   "source": [
    "# Build Linear Regression Model\n",
    "model_linear_regression = LinearRegression()\n",
    "model_linear_regression.fit(X_train_final, y_train_final)\n",
    "\n",
    "# Evaluate the Linear Regression Model using Root Mean Square Error (RMSE)\n",
    "# The lower MAE, the better the model performance\n",
    "print('My Model\\'s train_mse:', mean_squared_error(y_train_final, model_linear_regression.predict(X_train_final)), \n",
    "      '\\nMy Model\\'s test_mse:', mean_squared_error(y_test_final, model_linear_regression.predict(X_test_final)))\n",
    "print()\n",
    "print('My Model\\'s train_rmse:', sqrt(mean_squared_error(y_train_final, model_linear_regression.predict(X_train_final))), \n",
    "      '\\nMy Model\\'s test_rmse:', sqrt(mean_squared_error(y_test_final, model_linear_regression.predict(X_test_final))))\n",
    "print()\n",
    "# Evaluate the Linear Regression Model using R-Square\n",
    "# The closer the r-square value to 1, the better the model performance\n",
    "print('My Model\\'s train_r-sq:', r2_score(y_train_final, model_linear_regression.predict(X_train_final)), \n",
    "      '\\nMy Model\\'s test_r-sq:', r2_score(y_test_final, model_linear_regression.predict(X_test_final)))"
   ]
  },
  {
   "cell_type": "markdown",
   "metadata": {},
   "source": [
    "## 14 Naive Baseline Model<a name=\"step14\"></a>"
   ]
  },
  {
   "cell_type": "code",
   "execution_count": 129,
   "metadata": {},
   "outputs": [
    {
     "name": "stdout",
     "output_type": "stream",
     "text": [
      "5.952491309385863\n",
      "The train mean target value is 5.95.\n"
     ]
    }
   ],
   "source": [
    "import numpy as np\n",
    "from scipy import stats\n",
    "\n",
    "# pick the mean target value from all of train data\n",
    "print(y_train.mean())\n",
    "\n",
    "mean_target_value = y_train.mean()\n",
    "\n",
    "print(f\"The train mean target value is {mean_target_value:.2f}.\")"
   ]
  },
  {
   "cell_type": "code",
   "execution_count": 130,
   "metadata": {},
   "outputs": [
    {
     "data": {
      "text/plain": [
       "[5.95, 5.95, 5.95, 5.95, 5.95]"
      ]
     },
     "execution_count": 130,
     "metadata": {},
     "output_type": "execute_result"
    }
   ],
   "source": [
    "y_train_preds_naive = [round(mean_target_value,2) for row in X_train.iloc[:,0]]\n",
    "y_train_preds_naive[0:5]"
   ]
  },
  {
   "cell_type": "code",
   "execution_count": 131,
   "metadata": {},
   "outputs": [
    {
     "data": {
      "text/plain": [
       "[5.95, 5.95, 5.95, 5.95, 5.95]"
      ]
     },
     "execution_count": 131,
     "metadata": {},
     "output_type": "execute_result"
    }
   ],
   "source": [
    "y_test_preds_naive = [round(mean_target_value,2) for row in X_test.iloc[:,0]]\n",
    "y_test_preds_naive[0:5]"
   ]
  },
  {
   "cell_type": "code",
   "execution_count": 132,
   "metadata": {},
   "outputs": [
    {
     "name": "stdout",
     "output_type": "stream",
     "text": [
      "The Naive Baseline Model's MSE on train data is 12.93.\n",
      "The Naive Baseline Model's MSE on test data is 12.73.\n",
      "\n",
      "The Naive Baseline Model's RMSE on train data is 3.60.\n",
      "The Naive Baseline Model's RMSE on test data is 3.57.\n",
      "\n",
      "The Naive Baseline Model's R2 on train data is -0.00.\n",
      "The Naive Baseline Model's R2 on test data is -0.00.\n"
     ]
    }
   ],
   "source": [
    "from sklearn.metrics import mean_squared_error\n",
    "from sklearn.metrics import r2_score\n",
    "\n",
    "# Mean Squared Error (the lower the better, 0 is best possible score)\n",
    "\n",
    "# train MSE score\n",
    "y_true = y_train\n",
    "y_pred = y_train_preds_naive\n",
    "\n",
    "train_mse_naive = mean_squared_error(y_true, y_pred)\n",
    "print(f\"The Naive Baseline Model's MSE on train data is {train_mse_naive:.2f}.\")\n",
    "\n",
    "# test MSE score\n",
    "y_true = y_test\n",
    "y_pred = y_test_preds_naive\n",
    "\n",
    "test_mse_naive = mean_squared_error(y_true, y_pred)\n",
    "print(f\"The Naive Baseline Model's MSE on test data is {test_mse_naive:.2f}.\")\n",
    "\n",
    "print()\n",
    "\n",
    "# Root Mean Squared Error (if MSE < 1, rooting it makes it numerically larger, vice-versa if MSE > 1)\n",
    "\n",
    "# train RMSE score\n",
    "y_true = y_train\n",
    "y_pred = y_train_preds_naive\n",
    "\n",
    "train_rmse_naive = mean_squared_error(y_true, y_pred, squared=False)\n",
    "print(f\"The Naive Baseline Model's RMSE on train data is {train_rmse_naive:.2f}.\")\n",
    "\n",
    "# test RMSE score\n",
    "y_true = y_test\n",
    "y_pred = y_test_preds_naive\n",
    "\n",
    "test_rmse_naive = mean_squared_error(y_true, y_pred, squared=False)\n",
    "print(f\"The Naive Baseline Model's RMSE on test data is {test_rmse_naive:.2f}.\")\n",
    "\n",
    "print()\n",
    "\n",
    "# R2 Value (Coefficient of Determination, which measures how well the X cols account for y's variance, 1.0 is best score)\n",
    "\n",
    "# train R2 score\n",
    "y_true = y_train\n",
    "y_pred = y_train_preds_naive\n",
    "\n",
    "train_r2_naive = r2_score(y_true, y_pred)\n",
    "print(f\"The Naive Baseline Model's R2 on train data is {train_r2_naive:.2f}.\")\n",
    "\n",
    "# test R2 score\n",
    "y_true = y_test\n",
    "y_pred = y_test_preds_naive\n",
    "\n",
    "test_r2_naive = r2_score(y_true, y_pred)\n",
    "print(f\"The Naive Baseline Model's R2 on test data is {test_r2_naive:.2f}.\")"
   ]
  },
  {
   "cell_type": "markdown",
   "metadata": {},
   "source": [
    "## Machine Learning Modelling<a name=\"mlm\"></a>\n",
    "<a href=\"#top\">Back to Table of contents</a>"
   ]
  },
  {
   "cell_type": "markdown",
   "metadata": {},
   "source": [
    "### Linear Regression Model\n",
    "\n",
    "#### Count of Rows and Columns\n",
    "After doing .count()\n",
    "\n",
    "There is 1726 rows and 25 columns in train\n",
    "\n",
    "There is 720 rows and 25 columns in test\n",
    "\n",
    "#### Comparison Values\n",
    "After building our linear regression model, we could see important values such as RMSE and R-SQ being evaluated and used in many comparisons to detemine how good the model is.\n",
    "#### Root Mean Square Error (RMSE)\n",
    "The RMSE is the residuals' standard deviation (prediction errors). Residuals are a measure of how far the data points are from the regression line; RMSE is a measure of how spread out these residuals are. In other words, it indicates how close the data is clustered around the line of best fit. Therefore, the lower the RMSE, the better a given model is able to “fit” a dataset as it indiciate it being closer to the line of best fit.\n",
    "\n",
    "#### R-Squared (R-SQ)\n",
    "R-SQ is a statistical measure of the linear regression model that determines the proportion of variance in the target/dependent variable(\"positionOrder\") that can be explained by the independent variable. In other words, r-squared shows how well the data fit the regression model. R-SQ values above 0.5 are considered acceptable as it means that at least half of the variables within the dataset can be explained using the model.\n",
    "Therefore, it is good to aim for a RMSE that is relatively lower and R-SQ that is more than 0.5 and closest to 1.0.\n",
    "\n",
    "After optimising the values for my linear regression model, the final out come is:\n",
    "\n",
    "My Model's train_mse: 5.085289572829109 \n",
    "My Model's test_mse: 5.818337875890752\n",
    "\n",
    "My Model's train_rmse: 2.255058662835428 \n",
    "My Model's test_rmse: 2.4121231054593277\n",
    "\n",
    "My Model's train_r-sq: 0.6067224308262473 \n",
    "My Model's test_r-sq: 0.5406411342244339\n",
    "\n",
    "#### Method used from each segment\n",
    "\n",
    "Dealing with Outlier ---> Capping\n",
    "\n",
    "Numerical Transformation ---> Reciprocal Transformation(Milliseconds)\n",
    "\n",
    "Numerical Transformation ---> Yeo Johnson Transformation(fastestLapSpeed)\n",
    "\n",
    "Numerical Variable Imputation ---> Mean Median imputation\n",
    "\n",
    "Categorical Data Encoding ---> One Hot Encodings for Top Categories\n",
    "\n",
    "Variable Discretization/Binning ---> Equal Width Discretization\n",
    "\n",
    "Featured Engineering(Scaling) ---> Robust Scaling\n",
    "\n",
    "### Naive Baseline Model\n",
    "\n",
    "#### Definition of a Naive Baseline Model\n",
    "A Naive Baseline Model is a simple classification model that assumes little to nothing about the problem and the performance of which provides a baseline by which all other models evaluated on a dataset can be compared. It is used as a very basic, under developed model to compare with the mode created to show that the improvements made are positive and beneficial for the predictions and future usage of the model. \n",
    "\n",
    "As such, it is normal to see that the evaluation from the Naive baseline model is very bad and poor so as to justify the model created being highly more capable and have a higher potential at making predictions.\n",
    "\n",
    "The results from the Naive Baseline Model are as such:\n",
    "\n",
    "The Naive Baseline Model's MSE on train data is 12.93.\n",
    "The Naive Baseline Model's MSE on test data is 12.73.\n",
    "\n",
    "The Naive Baseline Model's RMSE on train data is 3.60.\n",
    "The Naive Baseline Model's RMSE on test data is 3.57.\n",
    "\n",
    "The Naive Baseline Model's R2 on train data is -0.00.\n",
    "The Naive Baseline Model's R2 on test data is -0.00.\n",
    "\n",
    "### Comparing My Regression Model with the Naive Baseline Model\n",
    "\n",
    "#### RMSE Value\n",
    "\n",
    "My Model's train_rmse: 2.255058662835428 vs The Naive Baseline Model's RMSE on train data is 3.60.\n",
    "\n",
    "My Model's test_rmse: 2.4121231054593277 vs The Naive Baseline Model's RMSE on test data is 3.57.\n",
    "\n",
    "With a much lower RMSE value for both train and test sets, it is safe to assume that my model has better fit than an ordinary naive baseline model as more of my values are closer to the line of best fit and would have lesser deviations hence lesser errors.\n",
    "\n",
    "\n",
    "#### R-SQ value\n",
    "\n",
    "My Model's train_r-sq: 0.6067224308262473 vs The Naive Baseline Model's R2 on train data is -0.00.\n",
    "\n",
    "My Model's test_r-sq: 0.5406411342244339 vs The Naive Baseline Model's R2 on test data is -0.00.\n",
    "\n",
    "With my Model's R-sq value being significantly closer to 1 as compared to the Naive Baseline Model's 0. It is safe to say that my model have more variables that are explainable by the model itself as the values are within the acceptable range of being more than 0.5. \n",
    "\n",
    "t also tells me that I have optimised a model that have more variables that can correlate with the Target Variable (positionOrder) when predicting for my prediction problem of (Regression problem: To predict the position of the first 10 constructors)\n",
    "\n",
    "\n",
    "\n",
    "\n",
    "\n",
    "\n",
    "\n"
   ]
  },
  {
   "cell_type": "markdown",
   "metadata": {},
   "source": [
    "## Summary and Further Improvments<a name=\"sum\"></a>\n",
    "<a href=\"#top\">Back to Table of contents</a>\n",
    "\n",
    "My findings was that there is only an adequate amount of data that correlates with my target variable (positionOrder) when trying to predict which constructor would come in which position in the future. With a rather average r-sq value being slighly higher than 0.5, it tells me that not all the data show direct relationship with the target variable. As such there are many improvements that can be done towards the datasets given to us as well as information that could be given to allow us to create a more sophisticated and robust dataset in finding solutions for simple prediction problems.\n",
    "\n",
    "### Possible Further Improvments\n",
    "\n",
    "#### 1. Better standardization of Data\n",
    "With most of the data being numerical, it is already significantly more difficult for the computer to differentiate each value's magnitude relatively to one another such as time and milliseconds, or lap time all having different ways of measuring time spent. There is also a lot of data that are closely related to each other that should not be repeated such as position and positionOrder, this would otherwise create further confusion for the computer to manage as each of those columns have different values for seemingly trying to describe the same thing. \n",
    "\n",
    "#### 2. Having highly functional Datasets\n",
    "With many datasets that are trying to describe only small amount of details, it would be better for them to be concentrated into a bigger dataframe for consistency. This will make it easier for the computer to merge data together without compromising too much data when using inner join and when there are lesser data being compromised, the degree of accuracy when using the model would increase. Further examples of low functioning datasets would include, constructors table only showing relatively few important data such as name and nationality and status which is to only describe statusId.\n",
    "\n",
    "#### 3. Additional valuable variables for modelling\n",
    "For both categorical and numerical variables, I feel that the only dataset that showed an adequate amount of data would be the results dataset and even that feels incomplete with many lacking data and details such as weather, turning rates, number of pits stop, pitstop crew size just to name a few. With F1 being a fascinating sport, there is bound to be abundance data when there are many enthusiasts out there trying to predict the upcoming winners or finalists as fans can be passionately supporting their favourite constructors(brands) or racers(drivers).\n",
    "\n",
    "By adding details to the datasets given from more sources, it will allow us to have more variables to form relationships and correlations with our target variables and hence allowing us to filter or scale them accordingly to make a even more robust dataset that can answer to more complex predictions problems without needing to limit the categorical datas (Such as limiting to finding which singular driver or constructor). "
   ]
  },
  {
   "cell_type": "code",
   "execution_count": null,
   "metadata": {},
   "outputs": [],
   "source": []
  }
 ],
 "metadata": {
  "kernelspec": {
   "display_name": "Python 3 (ipykernel)",
   "language": "python",
   "name": "python3"
  },
  "language_info": {
   "codemirror_mode": {
    "name": "ipython",
    "version": 3
   },
   "file_extension": ".py",
   "mimetype": "text/x-python",
   "name": "python",
   "nbconvert_exporter": "python",
   "pygments_lexer": "ipython3",
   "version": "3.9.7"
  }
 },
 "nbformat": 4,
 "nbformat_minor": 4
}
